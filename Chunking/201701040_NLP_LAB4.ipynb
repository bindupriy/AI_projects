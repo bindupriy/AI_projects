{
  "nbformat": 4,
  "nbformat_minor": 0,
  "metadata": {
    "colab": {
      "name": "201701040_NLP_LAB4.ipynb",
      "provenance": [],
      "collapsed_sections": []
    },
    "kernelspec": {
      "name": "python3",
      "display_name": "Python 3"
    }
  },
  "cells": [
    {
      "cell_type": "code",
      "metadata": {
        "id": "uXbF33C1c8z0",
        "colab_type": "code",
        "colab": {
          "base_uri": "https://localhost:8080/",
          "height": 71
        },
        "outputId": "ea09461a-b748-4dce-b44f-50abe2084292"
      },
      "source": [
        "import nltk\n",
        "nltk.download('conll2000')"
      ],
      "execution_count": null,
      "outputs": [
        {
          "output_type": "stream",
          "text": [
            "[nltk_data] Downloading package conll2000 to /root/nltk_data...\n",
            "[nltk_data]   Unzipping corpora/conll2000.zip.\n"
          ],
          "name": "stdout"
        },
        {
          "output_type": "execute_result",
          "data": {
            "text/plain": [
              "True"
            ]
          },
          "metadata": {
            "tags": []
          },
          "execution_count": 2
        }
      ]
    },
    {
      "cell_type": "code",
      "metadata": {
        "id": "D8GZPidkP4sf",
        "colab_type": "code",
        "colab": {}
      },
      "source": [
        "from nltk.corpus import conll2000"
      ],
      "execution_count": null,
      "outputs": []
    },
    {
      "cell_type": "code",
      "metadata": {
        "id": "CQs2WJeRdTjz",
        "colab_type": "code",
        "colab": {}
      },
      "source": [
        "train_sents=conll2000.chunked_sents('train.txt')"
      ],
      "execution_count": null,
      "outputs": []
    },
    {
      "cell_type": "code",
      "metadata": {
        "id": "WXfgC4TOCp6O",
        "colab_type": "code",
        "colab": {}
      },
      "source": [
        "test_sents=conll2000.chunked_sents('test.txt')"
      ],
      "execution_count": null,
      "outputs": []
    },
    {
      "cell_type": "markdown",
      "metadata": {
        "id": "kwvf7rq0g49u",
        "colab_type": "text"
      },
      "source": [
        "**TRIGRAM TAGGER**"
      ]
    },
    {
      "cell_type": "code",
      "metadata": {
        "id": "dRxCUnG9eBTl",
        "colab_type": "code",
        "colab": {}
      },
      "source": [
        "from nltk import ChunkParserI, TrigramTagger\n",
        "from nltk.chunk import conlltags2tree, tree2conlltags\n",
        " \n",
        " \n",
        "class TrigramChunkParser(ChunkParserI):\n",
        "    def __init__(self, train_sents):\n",
        "        # Extract only the (POS-TAG, IOB-CHUNK-TAG) pairs\n",
        "        train_data = [[(pos_tag, chunk_tag) for word, pos_tag, chunk_tag in tree2conlltags(sent)] \n",
        "                      for sent in train_sents]\n",
        " \n",
        "        # Train a TrigramTagger\n",
        "        self.tagger = TrigramTagger(train_data)\n",
        " \n",
        "    def parse(self, sentence):\n",
        "        pos_tags = [pos for word, pos in sentence]\n",
        " \n",
        "        # Get the Chunk tags\n",
        "        tagged_pos_tags = self.tagger.tag(pos_tags)\n",
        " \n",
        "        # Assemble the (word, pos, chunk) triplets\n",
        "        conlltags = [(word, pos_tag, chunk_tag) \n",
        "                     for ((word, pos_tag), (pos_tag, chunk_tag)) in zip(sentence, tagged_pos_tags)]\n",
        " \n",
        "        # Transform to tree\n",
        "        return conlltags2tree(conlltags)"
      ],
      "execution_count": null,
      "outputs": []
    },
    {
      "cell_type": "code",
      "metadata": {
        "id": "iDzhaBOEfwy7",
        "colab_type": "code",
        "colab": {
          "base_uri": "https://localhost:8080/",
          "height": 107
        },
        "outputId": "3f3812dd-8d07-4767-cd7c-d90121f7806f"
      },
      "source": [
        "trigram_chunker = TrigramChunkParser(train_sents)\n",
        "print(trigram_chunker.evaluate(test_sents))"
      ],
      "execution_count": null,
      "outputs": [
        {
          "output_type": "stream",
          "text": [
            "ChunkParse score:\n",
            "    IOB Accuracy:  87.7%%\n",
            "    Precision:     81.0%%\n",
            "    Recall:        84.4%%\n",
            "    F-Measure:     82.6%%\n"
          ],
          "name": "stdout"
        }
      ]
    },
    {
      "cell_type": "markdown",
      "metadata": {
        "id": "eKjgjc4lf0WY",
        "colab_type": "text"
      },
      "source": [
        "**FOR NOUN PHRASE**"
      ]
    },
    {
      "cell_type": "code",
      "metadata": {
        "id": "0I8PVU4pfsN1",
        "colab_type": "code",
        "colab": {}
      },
      "source": [
        "train_sents_NP = conll2000.chunked_sents('train.txt', chunk_types=['NP'])\n",
        "test_sents_NP = conll2000.chunked_sents('test.txt', chunk_types=['NP'])"
      ],
      "execution_count": null,
      "outputs": []
    },
    {
      "cell_type": "code",
      "metadata": {
        "id": "zfo-6XyRgEQQ",
        "colab_type": "code",
        "colab": {
          "base_uri": "https://localhost:8080/",
          "height": 125
        },
        "outputId": "43a7bf2f-a6ac-4012-f2d9-b2606707123a"
      },
      "source": [
        "trigram_chunker = TrigramChunkParser(train_sents_NP)\n",
        "print(\"using Trigramtagger\")\n",
        "print(trigram_chunker.evaluate(test_sents_NP))"
      ],
      "execution_count": null,
      "outputs": [
        {
          "output_type": "stream",
          "text": [
            "using Trigramtagger\n",
            "ChunkParse score:\n",
            "    IOB Accuracy:  93.3%%\n",
            "    Precision:     82.5%%\n",
            "    Recall:        86.8%%\n",
            "    F-Measure:     84.6%%\n"
          ],
          "name": "stdout"
        }
      ]
    },
    {
      "cell_type": "markdown",
      "metadata": {
        "id": "tMjIGNiKicez",
        "colab_type": "text"
      },
      "source": [
        "**RULE BASED FOR NOUN PHRASE**"
      ]
    },
    {
      "cell_type": "code",
      "metadata": {
        "id": "kdzYhRmBZUNC",
        "colab_type": "code",
        "colab": {}
      },
      "source": [
        "grammar_NP = r\"\"\"\n",
        "     NP: {<DT|JJ|NN.*>+} \n",
        "         \"\"\""
      ],
      "execution_count": null,
      "outputs": []
    },
    {
      "cell_type": "code",
      "metadata": {
        "id": "GswdsX6gZb3t",
        "colab_type": "code",
        "colab": {}
      },
      "source": [
        "cp = nltk.RegexpParser(grammar_NP)"
      ],
      "execution_count": null,
      "outputs": []
    },
    {
      "cell_type": "code",
      "metadata": {
        "id": "zZBSr6tyZjNL",
        "colab_type": "code",
        "colab": {
          "base_uri": "https://localhost:8080/",
          "height": 107
        },
        "outputId": "b20549ce-e591-40fd-f4fa-4708d2e7112c"
      },
      "source": [
        "print(cp.evaluate(test_sents_NP))"
      ],
      "execution_count": null,
      "outputs": [
        {
          "output_type": "stream",
          "text": [
            "ChunkParse score:\n",
            "    IOB Accuracy:  80.7%%\n",
            "    Precision:     65.7%%\n",
            "    Recall:        61.1%%\n",
            "    F-Measure:     63.3%%\n"
          ],
          "name": "stdout"
        }
      ]
    },
    {
      "cell_type": "markdown",
      "metadata": {
        "id": "fxifbRoegUT1",
        "colab_type": "text"
      },
      "source": [
        "**FOR VERB PHRASE**"
      ]
    },
    {
      "cell_type": "code",
      "metadata": {
        "id": "98Bcz_sAgQu2",
        "colab_type": "code",
        "colab": {}
      },
      "source": [
        "train_sents_VP = conll2000.chunked_sents('train.txt', chunk_types=['VP'])\n",
        "test_sents_VP = conll2000.chunked_sents('test.txt', chunk_types=['VP'])"
      ],
      "execution_count": null,
      "outputs": []
    },
    {
      "cell_type": "code",
      "metadata": {
        "id": "0Y7LscebgegF",
        "colab_type": "code",
        "colab": {
          "base_uri": "https://localhost:8080/",
          "height": 125
        },
        "outputId": "fed07f95-2bbc-4547-85af-7c09bd3ce413"
      },
      "source": [
        "trigram_chunker = TrigramChunkParser(train_sents_VP)\n",
        "print(\"using Trigramtagger\")\n",
        "print(trigram_chunker.evaluate(test_sents_VP))"
      ],
      "execution_count": null,
      "outputs": [
        {
          "output_type": "stream",
          "text": [
            "using Trigramtagger\n",
            "ChunkParse score:\n",
            "    IOB Accuracy:  96.0%%\n",
            "    Precision:     74.9%%\n",
            "    Recall:        80.0%%\n",
            "    F-Measure:     77.3%%\n"
          ],
          "name": "stdout"
        }
      ]
    },
    {
      "cell_type": "markdown",
      "metadata": {
        "id": "pavO1w29igOw",
        "colab_type": "text"
      },
      "source": [
        "**RULE BASED FOR VERB PHRASE**"
      ]
    },
    {
      "cell_type": "code",
      "metadata": {
        "id": "Bc58VHIPaXOM",
        "colab_type": "code",
        "colab": {}
      },
      "source": [
        "grammar_VP = r\"\"\"\n",
        "     VP: {<VB.*>+} # Chunk verbs and their arguments\n",
        "     \"\"\""
      ],
      "execution_count": null,
      "outputs": []
    },
    {
      "cell_type": "code",
      "metadata": {
        "id": "RD2uXy1Jf6VC",
        "colab_type": "code",
        "colab": {
          "base_uri": "https://localhost:8080/",
          "height": 107
        },
        "outputId": "d0a16b70-f736-45f1-dc4c-2f5371d8a6ad"
      },
      "source": [
        "cp = nltk.RegexpParser(grammar_VP)\n",
        "print(cp.evaluate(test_sents_VP))\n"
      ],
      "execution_count": null,
      "outputs": [
        {
          "output_type": "stream",
          "text": [
            "ChunkParse score:\n",
            "    IOB Accuracy:  92.8%%\n",
            "    Precision:     59.6%%\n",
            "    Recall:        68.9%%\n",
            "    F-Measure:     63.9%%\n"
          ],
          "name": "stdout"
        }
      ]
    },
    {
      "cell_type": "markdown",
      "metadata": {
        "id": "403W-yZOgseb",
        "colab_type": "text"
      },
      "source": [
        "**FOR PREPOSTION PHRASE**"
      ]
    },
    {
      "cell_type": "code",
      "metadata": {
        "id": "-HnwASGEgn-u",
        "colab_type": "code",
        "colab": {}
      },
      "source": [
        "train_sents_PP = conll2000.chunked_sents('train.txt', chunk_types=['PP'])\n",
        "test_sents_PP = conll2000.chunked_sents('test.txt', chunk_types=['PP'])"
      ],
      "execution_count": null,
      "outputs": []
    },
    {
      "cell_type": "code",
      "metadata": {
        "id": "9rnT9kd2hdKf",
        "colab_type": "code",
        "colab": {
          "base_uri": "https://localhost:8080/",
          "height": 125
        },
        "outputId": "2b70db5b-e0ad-4e77-fde3-c20f3ecf8f7a"
      },
      "source": [
        "trigram_chunker = TrigramChunkParser(train_sents_PP)\n",
        "print(\"using Trigramtagger\")\n",
        "print(trigram_chunker.evaluate(test_sents_PP))"
      ],
      "execution_count": null,
      "outputs": [
        {
          "output_type": "stream",
          "text": [
            "using Trigramtagger\n",
            "ChunkParse score:\n",
            "    IOB Accuracy:  96.6%%\n",
            "    Precision:     81.7%%\n",
            "    Recall:        85.9%%\n",
            "    F-Measure:     83.7%%\n"
          ],
          "name": "stdout"
        }
      ]
    },
    {
      "cell_type": "markdown",
      "metadata": {
        "id": "RPepjYFoikuK",
        "colab_type": "text"
      },
      "source": [
        "**RULE BASED FOR PROPOSITION PHRASE**"
      ]
    },
    {
      "cell_type": "code",
      "metadata": {
        "id": "k84XLz_yfPex",
        "colab_type": "code",
        "colab": {}
      },
      "source": [
        "grammar_PP = r\"\"\"\n",
        "     PP: {<IN>}              \n",
        "     \"\"\""
      ],
      "execution_count": null,
      "outputs": []
    },
    {
      "cell_type": "code",
      "metadata": {
        "id": "ulaoECnnfWyS",
        "colab_type": "code",
        "colab": {
          "base_uri": "https://localhost:8080/",
          "height": 107
        },
        "outputId": "d76ef8d1-4a24-4fb9-e178-8f1d57942bcf"
      },
      "source": [
        "cp = nltk.RegexpParser(grammar_PP)\n",
        "print(cp.evaluate(test_sents_PP))"
      ],
      "execution_count": null,
      "outputs": [
        {
          "output_type": "stream",
          "text": [
            "ChunkParse score:\n",
            "    IOB Accuracy:  96.7%%\n",
            "    Precision:     81.8%%\n",
            "    Recall:        86.3%%\n",
            "    F-Measure:     84.0%%\n"
          ],
          "name": "stdout"
        }
      ]
    },
    {
      "cell_type": "code",
      "metadata": {
        "id": "cgfuIOXMfdVm",
        "colab_type": "code",
        "colab": {}
      },
      "source": [
        ""
      ],
      "execution_count": null,
      "outputs": []
    }
  ]
}