{
  "nbformat": 4,
  "nbformat_minor": 0,
  "metadata": {
    "colab": {
      "name": "Fake-New-Detection.ipynb",
      "provenance": [],
      "collapsed_sections": []
    },
    "kernelspec": {
      "name": "python3",
      "display_name": "Python 3"
    },
    "accelerator": "GPU"
  },
  "cells": [
    {
      "cell_type": "code",
      "metadata": {
        "id": "z5V0ycah5YPH",
        "colab_type": "code",
        "colab": {
          "base_uri": "https://localhost:8080/",
          "height": 1000
        },
        "outputId": "c199fedc-4c68-46f0-b93b-37b4c2b03614"
      },
      "source": [
        "import keras\n",
        "from tensorflow.python.client import device_lib\n",
        "\n",
        "print(device_lib.list_local_devices())\n",
        "import numpy as np\n",
        "import pandas as pd\n",
        "from collections import defaultdict\n",
        "import re\n",
        "\n",
        "import sys\n",
        "import os\n",
        "\n",
        "from keras.preprocessing.text import Tokenizer\n",
        "from keras.preprocessing.sequence import pad_sequences\n",
        "from keras.utils.np_utils import to_categorical\n",
        "\n",
        "from keras.layers import Embedding\n",
        "from keras.layers import Dense, Input, Flatten\n",
        "from keras.layers import Conv1D, MaxPooling1D, Embedding, Dropout\n",
        "from keras.models import Model\n",
        "# initialising some neural network parameters\n",
        "MAX_SEQUENCE_LENGTH = 1000\n",
        "MAX_NB_WORDS = 20000\n",
        "EMBEDDING_DIM = 100"
      ],
      "execution_count": null,
      "outputs": [
        {
          "output_type": "stream",
          "text": [
            "Using TensorFlow backend.\n"
          ],
          "name": "stderr"
        },
        {
          "output_type": "stream",
          "text": [
            "[name: \"/device:CPU:0\"\n",
            "device_type: \"CPU\"\n",
            "memory_limit: 268435456\n",
            "locality {\n",
            "}\n",
            "incarnation: 10423980421071706421\n",
            ", name: \"/device:XLA_CPU:0\"\n",
            "device_type: \"XLA_CPU\"\n",
            "memory_limit: 17179869184\n",
            "locality {\n",
            "}\n",
            "incarnation: 7096108779965017217\n",
            "physical_device_desc: \"device: XLA_CPU device\"\n",
            ", name: \"/device:XLA_GPU:0\"\n",
            "device_type: \"XLA_GPU\"\n",
            "memory_limit: 17179869184\n",
            "locality {\n",
            "}\n",
            "incarnation: 14246275621007142682\n",
            "physical_device_desc: \"device: XLA_GPU device\"\n",
            ", name: \"/device:GPU:0\"\n",
            "device_type: \"GPU\"\n",
            "memory_limit: 15701463552\n",
            "locality {\n",
            "  bus_id: 1\n",
            "  links {\n",
            "  }\n",
            "}\n",
            "incarnation: 6858975889158098425\n",
            "physical_device_desc: \"device: 0, name: Tesla P100-PCIE-16GB, pci bus id: 0000:00:04.0, compute capability: 6.0\"\n",
            "]\n",
            "[name: \"/device:CPU:0\"\n",
            "device_type: \"CPU\"\n",
            "memory_limit: 268435456\n",
            "locality {\n",
            "}\n",
            "incarnation: 6753340928807123850\n",
            ", name: \"/device:XLA_CPU:0\"\n",
            "device_type: \"XLA_CPU\"\n",
            "memory_limit: 17179869184\n",
            "locality {\n",
            "}\n",
            "incarnation: 16864976920629217534\n",
            "physical_device_desc: \"device: XLA_CPU device\"\n",
            ", name: \"/device:XLA_GPU:0\"\n",
            "device_type: \"XLA_GPU\"\n",
            "memory_limit: 17179869184\n",
            "locality {\n",
            "}\n",
            "incarnation: 8308254311813589905\n",
            "physical_device_desc: \"device: XLA_GPU device\"\n",
            ", name: \"/device:GPU:0\"\n",
            "device_type: \"GPU\"\n",
            "memory_limit: 15701463552\n",
            "locality {\n",
            "  bus_id: 1\n",
            "  links {\n",
            "  }\n",
            "}\n",
            "incarnation: 1012307415965914402\n",
            "physical_device_desc: \"device: 0, name: Tesla P100-PCIE-16GB, pci bus id: 0000:00:04.0, compute capability: 6.0\"\n",
            "]\n"
          ],
          "name": "stdout"
        }
      ]
    },
    {
      "cell_type": "code",
      "metadata": {
        "id": "-6za-KuLxc33",
        "colab_type": "code",
        "colab": {
          "base_uri": "https://localhost:8080/",
          "height": 127
        },
        "outputId": "6d04ced0-fe1c-4350-de4e-ad0c607e9143"
      },
      "source": [
        "from google.colab import drive\n",
        "drive.mount('/content/drive')"
      ],
      "execution_count": null,
      "outputs": [
        {
          "output_type": "stream",
          "text": [
            "Go to this URL in a browser: https://accounts.google.com/o/oauth2/auth?client_id=947318989803-6bn6qk8qdgf4n4g3pfee6491hc0brc4i.apps.googleusercontent.com&redirect_uri=urn%3aietf%3awg%3aoauth%3a2.0%3aoob&response_type=code&scope=email%20https%3a%2f%2fwww.googleapis.com%2fauth%2fdocs.test%20https%3a%2f%2fwww.googleapis.com%2fauth%2fdrive%20https%3a%2f%2fwww.googleapis.com%2fauth%2fdrive.photos.readonly%20https%3a%2f%2fwww.googleapis.com%2fauth%2fpeopleapi.readonly\n",
            "\n",
            "Enter your authorization code:\n",
            "··········\n",
            "Mounted at /content/drive\n"
          ],
          "name": "stdout"
        }
      ]
    },
    {
      "cell_type": "code",
      "metadata": {
        "id": "fLcgGdKIz1e0",
        "colab_type": "code",
        "colab": {
          "base_uri": "https://localhost:8080/",
          "height": 467
        },
        "outputId": "6d11d4d7-79ea-488e-8cf7-49100ac15781"
      },
      "source": [
        "# downloading glove pretrained model\n",
        "!wget http://nlp.stanford.edu/data/glove.6B.zip\n",
        "!unzip glove*.zip"
      ],
      "execution_count": null,
      "outputs": [
        {
          "output_type": "stream",
          "text": [
            "--2020-05-06 16:58:49--  http://nlp.stanford.edu/data/glove.6B.zip\n",
            "Resolving nlp.stanford.edu (nlp.stanford.edu)... 171.64.67.140\n",
            "Connecting to nlp.stanford.edu (nlp.stanford.edu)|171.64.67.140|:80... connected.\n",
            "HTTP request sent, awaiting response... 302 Found\n",
            "Location: https://nlp.stanford.edu/data/glove.6B.zip [following]\n",
            "--2020-05-06 16:58:50--  https://nlp.stanford.edu/data/glove.6B.zip\n",
            "Connecting to nlp.stanford.edu (nlp.stanford.edu)|171.64.67.140|:443... connected.\n",
            "HTTP request sent, awaiting response... 301 Moved Permanently\n",
            "Location: http://downloads.cs.stanford.edu/nlp/data/glove.6B.zip [following]\n",
            "--2020-05-06 16:58:50--  http://downloads.cs.stanford.edu/nlp/data/glove.6B.zip\n",
            "Resolving downloads.cs.stanford.edu (downloads.cs.stanford.edu)... 171.64.64.22\n",
            "Connecting to downloads.cs.stanford.edu (downloads.cs.stanford.edu)|171.64.64.22|:80... connected.\n",
            "HTTP request sent, awaiting response... 200 OK\n",
            "Length: 862182613 (822M) [application/zip]\n",
            "Saving to: ‘glove.6B.zip’\n",
            "\n",
            "glove.6B.zip        100%[===================>] 822.24M  2.16MB/s    in 6m 29s  \n",
            "\n",
            "2020-05-06 17:05:20 (2.11 MB/s) - ‘glove.6B.zip’ saved [862182613/862182613]\n",
            "\n",
            "Archive:  glove.6B.zip\n",
            "  inflating: glove.6B.50d.txt        \n",
            "  inflating: glove.6B.100d.txt       \n",
            "  inflating: glove.6B.200d.txt       \n",
            "  inflating: glove.6B.300d.txt       \n"
          ],
          "name": "stdout"
        }
      ]
    },
    {
      "cell_type": "code",
      "metadata": {
        "id": "8pH1Peam0Pk4",
        "colab_type": "code",
        "colab": {
          "base_uri": "https://localhost:8080/",
          "height": 71
        },
        "outputId": "f42a9794-be94-4f9f-bd24-67a3ecf021f4"
      },
      "source": [
        "!ls\n",
        "!pwd"
      ],
      "execution_count": null,
      "outputs": [
        {
          "output_type": "stream",
          "text": [
            "drive\t\t   glove.6B.200d.txt  glove.6B.50d.txt\tsample_data\n",
            "glove.6B.100d.txt  glove.6B.300d.txt  glove.6B.zip\n",
            "/content\n"
          ],
          "name": "stdout"
        }
      ]
    },
    {
      "cell_type": "markdown",
      "metadata": {
        "id": "oqFuiERCIKkd",
        "colab_type": "text"
      },
      "source": [
        "**Cleaning the text**"
      ]
    },
    {
      "cell_type": "code",
      "metadata": {
        "id": "2usQ1gvKlK1m",
        "colab_type": "code",
        "colab": {
          "base_uri": "https://localhost:8080/",
          "height": 53
        },
        "outputId": "fd423870-15ec-4aac-a489-11284976a04a"
      },
      "source": [
        "import nltk\n",
        "import regex as re\n",
        "import string\n",
        "import numpy as np\n",
        "import pandas as pd\n",
        "from nltk.corpus import stopwords\n",
        "nltk.download('stopwords')\n",
        "from nltk.stem.snowball import SnowballStemmer"
      ],
      "execution_count": null,
      "outputs": [
        {
          "output_type": "stream",
          "text": [
            "[nltk_data] Downloading package stopwords to /root/nltk_data...\n",
            "[nltk_data]   Unzipping corpora/stopwords.zip.\n"
          ],
          "name": "stdout"
        }
      ]
    },
    {
      "cell_type": "code",
      "metadata": {
        "id": "FLD1rOdm6iRL",
        "colab_type": "code",
        "colab": {}
      },
      "source": [
        "# Cleaning of dataset\n",
        "def clean_str(text):\n",
        "  ## Remove puncuation\n",
        "    text = text.translate(string.punctuation)\n",
        "    \n",
        "    ## Convert words to lower case and split them\n",
        "    text = text.lower().split()\n",
        "    \n",
        "    ## Remove stop words\n",
        "    stops = set(stopwords.words(\"english\"))\n",
        "    text = [w for w in text if not w in stops and len(w) >= 3]\n",
        "    \n",
        "    text = \" \".join(text)\n",
        "    ## Clean the text\n",
        "    text = re.sub(r\"[^A-Za-z0-9^,!.\\/'+-=]\", \" \", text)\n",
        "    text = re.sub(r\"what's\", \"what is \", text)\n",
        "    text = re.sub(r\"\\'s\", \" \", text)\n",
        "    text = re.sub(r\"\\'ve\", \" have \", text)\n",
        "    text = re.sub(r\"n't\", \" not \", text)\n",
        "    text = re.sub(r\"i'm\", \"i am \", text)\n",
        "    text = re.sub(r\"\\'re\", \" are \", text)\n",
        "    text = re.sub(r\"\\'d\", \" would \", text)\n",
        "    text = re.sub(r\"\\'ll\", \" will \", text)\n",
        "    text = re.sub(r\",\", \" \", text)\n",
        "    text = re.sub(r\"\\.\", \" \", text)\n",
        "    text = re.sub(r\"!\", \" ! \", text)\n",
        "    text = re.sub(r\"\\/\", \" \", text)\n",
        "    text = re.sub(r\"\\^\", \" ^ \", text)\n",
        "    text = re.sub(r\"\\+\", \" + \", text)\n",
        "    text = re.sub(r\"\\-\", \" - \", text)\n",
        "    text = re.sub(r\"\\=\", \" = \", text)\n",
        "    text = re.sub(r\"'\", \" \", text)\n",
        "    text = re.sub(r\"(\\d+)(k)\", r\"\\g<1>000\", text)\n",
        "    text = re.sub(r\":\", \" : \", text)\n",
        "    ## Stemming\n",
        "    text = text.split()\n",
        "    stemmer = SnowballStemmer('english')\n",
        "    stemmed_words = [stemmer.stem(word) for word in text]\n",
        "    text = \" \".join(stemmed_words)\n",
        "    return text"
      ],
      "execution_count": null,
      "outputs": []
    },
    {
      "cell_type": "code",
      "metadata": {
        "id": "UqLrPd-5wSjy",
        "colab_type": "code",
        "colab": {
          "base_uri": "https://localhost:8080/",
          "height": 35
        },
        "outputId": "b5974859-037c-4b2c-ac53-f925940043c6"
      },
      "source": [
        "# train data preprocessing\n",
        "df = pd.read_csv('/content/drive/My Drive/train.csv',sep=',')\n",
        "df['truth'] = df['truth'].replace('clickbait',1)\n",
        "df['truth'] = df['truth'].replace('no-clickbait',0)\n",
        "df['headline'] = df.headline.apply(lambda x : clean_str(x))\n",
        "texts = []\n",
        "labels = []\n",
        "\n",
        "for i in range(df.headline.shape[0]):\n",
        "    texts.append(df.headline[i])\n",
        "    labels.append(df.truth[i])\n",
        "\n",
        "#test data preprocessing\n",
        "df_test = pd.read_csv('/content/drive/My Drive/test.csv',sep=',')\n",
        "df_test['truth'] = df_test['truth'].replace('clickbait',1)\n",
        "df_test['truth'] = df_test['truth'].replace('no-clickbait',0)\n",
        "df_test['headline'] = df_test.headline.apply(lambda x : clean_str(x))\n",
        "texts_test = []\n",
        "labels_test = []\n",
        "\n",
        "\n",
        "for i in range(df_test.headline.shape[0]):\n",
        "    texts_test.append(df_test.headline[i])\n",
        "    labels_test.append(df_test.truth[i])\n",
        "\n",
        "text=texts+texts_test\n",
        "# num_words the parameter that controls the number of words in the mapping dictionary known as tokenizer.word_index\n",
        "tokenizer = Tokenizer(num_words=MAX_NB_WORDS)\n",
        "tokenizer.fit_on_texts(texts)\n",
        "\n",
        "# where texts contains lists, we assume each entry of the lists to be a token.\n",
        "sequences = tokenizer.texts_to_sequences(texts)\n",
        "\n",
        "word_index = tokenizer.word_index\n",
        "print('Found %s unique tokens.' % len(word_index))\n"
      ],
      "execution_count": null,
      "outputs": [
        {
          "output_type": "stream",
          "text": [
            "Found 14890 unique tokens.\n"
          ],
          "name": "stdout"
        }
      ]
    },
    {
      "cell_type": "code",
      "metadata": {
        "id": "UNjaHVx4UUmG",
        "colab_type": "code",
        "colab": {
          "base_uri": "https://localhost:8080/",
          "height": 89
        },
        "outputId": "c79c93cb-0a9b-44e3-f312-085cfff220a2"
      },
      "source": [
        "l=df_test['truth'].value_counts()\n",
        "print(\"the total dataset size:\",len(df_test),'\\n',l)"
      ],
      "execution_count": null,
      "outputs": [
        {
          "output_type": "stream",
          "text": [
            "the total dataset size: 6400 \n",
            " 1    3217\n",
            "0    3183\n",
            "Name: truth, dtype: int64\n"
          ],
          "name": "stdout"
        }
      ]
    },
    {
      "cell_type": "markdown",
      "metadata": {
        "id": "45l2Fx9fIRA0",
        "colab_type": "text"
      },
      "source": [
        "**Since LSTMs and CNNs take inputs of same length and dimension, input images and sequences are padded to maximum length while testing and training**"
      ]
    },
    {
      "cell_type": "code",
      "metadata": {
        "id": "Vza5E9w48yzX",
        "colab_type": "code",
        "colab": {
          "base_uri": "https://localhost:8080/",
          "height": 35
        },
        "outputId": "213d9aae-5161-4752-f8d3-659898bdef15"
      },
      "source": [
        "# samples that are shorter than the longest item need to be padded with some placeholder value\n",
        "# doing Padding training sequences\n",
        "data = pad_sequences(sequences, maxlen=MAX_SEQUENCE_LENGTH)\n",
        "labels = to_categorical(np.asarray(labels),num_classes = 2)\n",
        "print('Shape of data tensor:', data.shape)"
      ],
      "execution_count": null,
      "outputs": [
        {
          "output_type": "stream",
          "text": [
            "Shape of data tensor: (25600, 1000)\n"
          ],
          "name": "stdout"
        }
      ]
    },
    {
      "cell_type": "code",
      "metadata": {
        "id": "CEfvmbF8HLar",
        "colab_type": "code",
        "colab": {
          "base_uri": "https://localhost:8080/",
          "height": 35
        },
        "outputId": "fe751db3-8846-4a7c-eab6-6b80bba3f6d2"
      },
      "source": [
        "# doing Padding test sequences\n",
        "sequences_test = tokenizer.texts_to_sequences(texts_test)\n",
        "data_test = pad_sequences(sequences_test, maxlen=MAX_SEQUENCE_LENGTH)\n",
        "labels_test = to_categorical(np.asarray(labels_test),num_classes = 2)\n",
        "print('Shape of data tensor:', data_test.shape)"
      ],
      "execution_count": null,
      "outputs": [
        {
          "output_type": "stream",
          "text": [
            "Shape of data tensor: (6400, 1000)\n"
          ],
          "name": "stdout"
        }
      ]
    },
    {
      "cell_type": "code",
      "metadata": {
        "id": "YTjm9oWg_Cbc",
        "colab_type": "code",
        "colab": {}
      },
      "source": [
        "from keras.models import Sequential\n",
        "from keras.layers.convolutional import Conv3D\n",
        "from keras.layers.convolutional_recurrent import ConvLSTM2D\n",
        "from keras.layers.normalization import BatchNormalization\n",
        "import numpy as np\n",
        "from matplotlib import pyplot as plt\n",
        "from keras.layers import Dense, Embedding, LSTM, GRU\n",
        "\n",
        "%matplotlib inline"
      ],
      "execution_count": null,
      "outputs": []
    },
    {
      "cell_type": "code",
      "metadata": {
        "id": "UjTqB1UY_Khs",
        "colab_type": "code",
        "colab": {
          "base_uri": "https://localhost:8080/",
          "height": 35
        },
        "outputId": "0bb13a2a-10cd-487b-e87d-79e2c91bf63b"
      },
      "source": [
        "\n",
        "#Using Pre-trained word embeddings (glove)\n",
        "embeddings_index = {}\n",
        "f = open('glove.6B.100d.txt', encoding=\"utf8\")\n",
        "for line in f:\n",
        "    values = line.split()\n",
        "    word = values[0]\n",
        "    coefs = np.asarray(values[1:], dtype='float32')\n",
        "    embeddings_index[word] = coefs\n",
        "f.close()\n",
        "\n",
        "print('Total %s word vectors in Glove.' % len(embeddings_index))\n",
        "\n",
        "embedding_matrix = np.random.random((len(word_index) + 1, EMBEDDING_DIM))\n",
        "for word, i in word_index.items():\n",
        "    embedding_vector = embeddings_index.get(word)\n",
        "    if embedding_vector is not None:\n",
        "        # words not found in embedding index will be all-zeros.\n",
        "        embedding_matrix[i] = embedding_vector\n",
        " # The embedding layer encodes the input sequence into a sequence of dense vectors of dimension embed_dim.       \n",
        "embedding_layer = Embedding(len(word_index) + 1,\n",
        "                            EMBEDDING_DIM,\n",
        "                            weights=[embedding_matrix],\n",
        "                            input_length=MAX_SEQUENCE_LENGTH,trainable = False)"
      ],
      "execution_count": null,
      "outputs": [
        {
          "output_type": "stream",
          "text": [
            "Total 400000 word vectors in Glove.\n"
          ],
          "name": "stdout"
        }
      ]
    },
    {
      "cell_type": "markdown",
      "metadata": {
        "id": "iQ2l7VW6F8FL",
        "colab_type": "text"
      },
      "source": [
        "**LSTM**"
      ]
    },
    {
      "cell_type": "code",
      "metadata": {
        "id": "bYxDo2KdVTRh",
        "colab_type": "code",
        "colab": {
          "base_uri": "https://localhost:8080/",
          "height": 269
        },
        "outputId": "787c32ab-9bcd-44db-b379-6be86598c56f"
      },
      "source": [
        "# Dropout is a technique used to prevent a model from overfitting\n",
        "# A dense layer represents a matrix vector multiplication.The values in the matrix are the trainable parameters which get updated during backpropagation.\n",
        "# As Sigmoid can output 0 or 1, it can be used to forget or remember the information.\n",
        "# The sigmoid layer takes the input X(t) and h(t-1)(Output of last LSTM unit) and decides which parts from old output should be removed (by outputting a 0).\n",
        "model = Sequential()\n",
        "model.add(embedding_layer)\n",
        "model.add(LSTM(100, dropout=0.2, recurrent_dropout=0.2))\n",
        "model.add(Dense(2, activation='sigmoid'))\n",
        "# the optimizer, the loss function, and the metrics of performance.\n",
        "# The optimizer is the gradient descent algorithm . \n",
        "# binary_crossentropy loss function is used since we are doing a binary classification i.e clickbait or no-clickbait\n",
        "# the metrix we used is for finding accuracy\n",
        "model.compile(loss='binary_crossentropy', optimizer='adam', metrics=['accuracy'])\n",
        "model.summary()"
      ],
      "execution_count": null,
      "outputs": [
        {
          "output_type": "stream",
          "text": [
            "Model: \"sequential_1\"\n",
            "_________________________________________________________________\n",
            "Layer (type)                 Output Shape              Param #   \n",
            "=================================================================\n",
            "embedding_1 (Embedding)      (None, 1000, 100)         1489100   \n",
            "_________________________________________________________________\n",
            "lstm_1 (LSTM)                (None, 100)               80400     \n",
            "_________________________________________________________________\n",
            "dense_1 (Dense)              (None, 2)                 202       \n",
            "=================================================================\n",
            "Total params: 1,569,702\n",
            "Trainable params: 80,602\n",
            "Non-trainable params: 1,489,100\n",
            "_________________________________________________________________\n"
          ],
          "name": "stdout"
        }
      ]
    },
    {
      "cell_type": "code",
      "metadata": {
        "id": "0cxc15FlVTOL",
        "colab_type": "code",
        "colab": {
          "base_uri": "https://localhost:8080/",
          "height": 755
        },
        "outputId": "f9a29635-cfb5-45e8-a85d-a4c2b25e1cd9"
      },
      "source": [
        "history1=model.fit(data, labels , epochs=20, batch_size=256 ,validation_split=0.2)"
      ],
      "execution_count": null,
      "outputs": [
        {
          "output_type": "stream",
          "text": [
            "Train on 20480 samples, validate on 5120 samples\n",
            "Epoch 1/20\n",
            "20480/20480 [==============================] - 126s 6ms/step - loss: 0.4242 - accuracy: 0.8115 - val_loss: 0.2988 - val_accuracy: 0.8734\n",
            "Epoch 2/20\n",
            "20480/20480 [==============================] - 123s 6ms/step - loss: 0.3074 - accuracy: 0.8669 - val_loss: 0.2782 - val_accuracy: 0.8850\n",
            "Epoch 3/20\n",
            "20480/20480 [==============================] - 123s 6ms/step - loss: 0.2814 - accuracy: 0.8812 - val_loss: 0.2480 - val_accuracy: 0.8965\n",
            "Epoch 4/20\n",
            "20480/20480 [==============================] - 122s 6ms/step - loss: 0.2580 - accuracy: 0.8914 - val_loss: 0.2350 - val_accuracy: 0.9004\n",
            "Epoch 5/20\n",
            "20480/20480 [==============================] - 123s 6ms/step - loss: 0.2454 - accuracy: 0.8975 - val_loss: 0.2159 - val_accuracy: 0.9078\n",
            "Epoch 6/20\n",
            "20480/20480 [==============================] - 124s 6ms/step - loss: 0.2273 - accuracy: 0.9072 - val_loss: 0.2019 - val_accuracy: 0.9159\n",
            "Epoch 7/20\n",
            "20480/20480 [==============================] - 125s 6ms/step - loss: 0.2165 - accuracy: 0.9125 - val_loss: 0.2063 - val_accuracy: 0.9123\n",
            "Epoch 8/20\n",
            "20480/20480 [==============================] - 125s 6ms/step - loss: 0.2042 - accuracy: 0.9195 - val_loss: 0.1876 - val_accuracy: 0.9230\n",
            "Epoch 9/20\n",
            "20480/20480 [==============================] - 129s 6ms/step - loss: 0.1935 - accuracy: 0.9231 - val_loss: 0.1791 - val_accuracy: 0.9268\n",
            "Epoch 10/20\n",
            "20480/20480 [==============================] - 127s 6ms/step - loss: 0.1861 - accuracy: 0.9265 - val_loss: 0.1766 - val_accuracy: 0.9300\n",
            "Epoch 11/20\n",
            "20480/20480 [==============================] - 124s 6ms/step - loss: 0.1815 - accuracy: 0.9270 - val_loss: 0.1829 - val_accuracy: 0.9229\n",
            "Epoch 12/20\n",
            "20480/20480 [==============================] - 122s 6ms/step - loss: 0.1717 - accuracy: 0.9333 - val_loss: 0.1903 - val_accuracy: 0.9221\n",
            "Epoch 13/20\n",
            "20480/20480 [==============================] - 122s 6ms/step - loss: 0.1660 - accuracy: 0.9336 - val_loss: 0.1737 - val_accuracy: 0.9312\n",
            "Epoch 14/20\n",
            "20480/20480 [==============================] - 123s 6ms/step - loss: 0.1610 - accuracy: 0.9366 - val_loss: 0.1628 - val_accuracy: 0.9346\n",
            "Epoch 15/20\n",
            "20480/20480 [==============================] - 122s 6ms/step - loss: 0.1528 - accuracy: 0.9394 - val_loss: 0.1578 - val_accuracy: 0.9373\n",
            "Epoch 16/20\n",
            "20480/20480 [==============================] - 124s 6ms/step - loss: 0.1487 - accuracy: 0.9426 - val_loss: 0.1617 - val_accuracy: 0.9336\n",
            "Epoch 17/20\n",
            "20480/20480 [==============================] - 123s 6ms/step - loss: 0.1406 - accuracy: 0.9455 - val_loss: 0.1782 - val_accuracy: 0.9296\n",
            "Epoch 18/20\n",
            "20480/20480 [==============================] - 125s 6ms/step - loss: 0.1398 - accuracy: 0.9441 - val_loss: 0.1565 - val_accuracy: 0.9394\n",
            "Epoch 19/20\n",
            "20480/20480 [==============================] - 126s 6ms/step - loss: 0.1352 - accuracy: 0.9454 - val_loss: 0.1661 - val_accuracy: 0.9343\n",
            "Epoch 20/20\n",
            "20480/20480 [==============================] - 124s 6ms/step - loss: 0.1295 - accuracy: 0.9484 - val_loss: 0.1513 - val_accuracy: 0.9427\n"
          ],
          "name": "stdout"
        }
      ]
    },
    {
      "cell_type": "markdown",
      "metadata": {
        "id": "G92h8mJRQ-CI",
        "colab_type": "text"
      },
      "source": [
        "**Initially I trained the model for 30 epochs and drew the graph between loss and no of epochs from seeing the graph i selected no of epochs as 20**"
      ]
    },
    {
      "cell_type": "markdown",
      "metadata": {
        "id": "bZCSOW2uGAcJ",
        "colab_type": "text"
      },
      "source": [
        "**To finalise the no of epoch I drew a plot between loss and epochs**"
      ]
    },
    {
      "cell_type": "code",
      "metadata": {
        "id": "CZMPWtCraWJ6",
        "colab_type": "code",
        "colab": {
          "base_uri": "https://localhost:8080/",
          "height": 591
        },
        "outputId": "6191ccc0-dbe2-4748-da5b-9ee4395f65e3"
      },
      "source": [
        "import matplotlib.pyplot as plt\n",
        "%matplotlib inline \n",
        "# list all data in history1\n",
        "print(history1.history.keys())\n",
        "# summarize history1 for accuracy\n",
        "plt.plot(history1.history['accuracy'])\n",
        "plt.plot(history1.history['val_accuracy'])\n",
        "plt.title('model accuracy')\n",
        "plt.ylabel('accuracy')\n",
        "plt.xlabel('epoch')\n",
        "plt.legend(['train', 'test'], loc='upper left')\n",
        "plt.show()\n",
        "# summarize history1 for loss\n",
        "plt.plot(history1.history['loss'])\n",
        "plt.plot(history1.history['val_loss'])\n",
        "plt.title('model loss')\n",
        "plt.ylabel('loss')\n",
        "plt.xlabel('epoch')\n",
        "plt.legend(['train', 'test'], loc='upper left')\n",
        "plt.show()\n",
        "#from below plot we can see that from no of epochs greater than 20 there is no much change in loss of test data so i took no of epochs as 20"
      ],
      "execution_count": null,
      "outputs": [
        {
          "output_type": "stream",
          "text": [
            "dict_keys(['val_loss', 'val_accuracy', 'loss', 'accuracy'])\n"
          ],
          "name": "stdout"
        },
        {
          "output_type": "display_data",
          "data": {
            "image/png": "[encoded data removed]",
            "text/plain": [
              "<Figure size 432x288 with 1 Axes>"
            ]
          },
          "metadata": {
            "tags": [],
            "needs_background": "light"
          }
        },
        {
          "output_type": "display_data",
          "data": {
            "image/png": "[encoded data removed]",
            "text/plain": [
              "<Figure size 432x288 with 1 Axes>"
            ]
          },
          "metadata": {
            "tags": [],
            "needs_background": "light"
          }
        }
      ]
    },
    {
      "cell_type": "code",
      "metadata": {
        "id": "4bOfYOF2YxmF",
        "colab_type": "code",
        "colab": {
          "base_uri": "https://localhost:8080/",
          "height": 179
        },
        "outputId": "9b4c2360-8c1b-4260-89b6-b1355ab59b10"
      },
      "source": [
        " # Printing Classification report\n",
        "from sklearn.metrics import confusion_matrix\n",
        "from sklearn.metrics import classification_report\n",
        "x_pred = model.predict(data_test)\n",
        "x_pred = np.round(x_pred)\n",
        "x_pred = x_pred.argmax(1)\n",
        "y_test_s = labels_test.argmax(1)\n",
        "print(classification_report(y_test_s, x_pred ,target_names = ['clickbait' , 'no-clickbait']))"
      ],
      "execution_count": null,
      "outputs": [
        {
          "output_type": "stream",
          "text": [
            "              precision    recall  f1-score   support\n",
            "\n",
            "   clickbait       0.94      0.93      0.93      3183\n",
            "no-clickbait       0.93      0.94      0.93      3217\n",
            "\n",
            "    accuracy                           0.93      6400\n",
            "   macro avg       0.93      0.93      0.93      6400\n",
            "weighted avg       0.93      0.93      0.93      6400\n",
            "\n"
          ],
          "name": "stdout"
        }
      ]
    },
    {
      "cell_type": "markdown",
      "metadata": {
        "id": "S4jp6pDnGT45",
        "colab_type": "text"
      },
      "source": [
        "**CNN MODEL**"
      ]
    },
    {
      "cell_type": "code",
      "metadata": {
        "id": "2KAl-tN0GieT",
        "colab_type": "code",
        "colab": {
          "base_uri": "https://localhost:8080/",
          "height": 809
        },
        "outputId": "29a47fc1-d35d-4a6a-b6b4-69101c7e3224"
      },
      "source": [
        "# Sequential is used to initialize the neural network.\n",
        "# Pooling layers provide an approach to down sampling feature maps by summarizing the presence of features in patches of the feature map\n",
        "# A dense layer represents a matrix vector multiplication.The values in the matrix are the trainable parameters which get updated during backpropagation.\n",
        "# we apply the rectifier function(relu) to increase non-linearity in the CNN.\n",
        "# Flattening involves transforming the entire pooled feature map matrix into a single column which is then fed to the neural network for processing.\n",
        "# After flattening, the flattened feature map is passed through a neural network.\n",
        "# The final values produced by the neural network don’t usually add up to one\n",
        "# it is important that these values are brought down to numbers between zero and one, which represent the probability of each class. This is the role of the Softmax function.\n",
        "sequence_input = Input(shape=(MAX_SEQUENCE_LENGTH,), dtype='int32')\n",
        "embedded_sequences = embedding_layer(sequence_input)\n",
        "l_cov1= Conv1D(128, 5, activation='relu')(embedded_sequences)\n",
        "l_pool1 = MaxPooling1D(5)(l_cov1)\n",
        "l_flat = Flatten()(l_pool1)\n",
        "l_dense = Dense(32, activation='relu')(l_flat)\n",
        "preds = Dense(2, activation='softmax')(l_dense)\n",
        "\n",
        "modell = Model(sequence_input, preds)\n",
        "# the optimizer, the loss function, and the metrics of performance.\n",
        "# The optimizer is the gradient descent algorithm . \n",
        "# binary_crossentropy loss function is used since we are doing a binary classification i.e clickbait or no-clickbait\n",
        "# the metrix we used is for finding accuracy\n",
        "modell.compile(loss='categorical_crossentropy',\n",
        "              optimizer='Adam',\n",
        "              metrics=['acc'])\n",
        "\n",
        "\n",
        "print(\"Fitting the simple convolutional neural network model\")\n",
        "modell.summary()\n",
        "history = modell.fit(data, labels, validation_split=0.2,epochs=10, batch_size=512)"
      ],
      "execution_count": null,
      "outputs": [
        {
          "output_type": "stream",
          "text": [
            "Fitting the simple convolutional neural network model\n",
            "Model: \"model_3\"\n",
            "_________________________________________________________________\n",
            "Layer (type)                 Output Shape              Param #   \n",
            "=================================================================\n",
            "input_3 (InputLayer)         (None, 1000)              0         \n",
            "_________________________________________________________________\n",
            "embedding_3 (Embedding)      (None, 1000, 100)         1489100   \n",
            "_________________________________________________________________\n",
            "conv1d_3 (Conv1D)            (None, 996, 128)          64128     \n",
            "_________________________________________________________________\n",
            "max_pooling1d_3 (MaxPooling1 (None, 199, 128)          0         \n",
            "_________________________________________________________________\n",
            "flatten_3 (Flatten)          (None, 25472)             0         \n",
            "_________________________________________________________________\n",
            "dense_9 (Dense)              (None, 32)                815136    \n",
            "_________________________________________________________________\n",
            "dense_10 (Dense)             (None, 2)                 66        \n",
            "=================================================================\n",
            "Total params: 2,368,430\n",
            "Trainable params: 879,330\n",
            "Non-trainable params: 1,489,100\n",
            "_________________________________________________________________\n",
            "Train on 20480 samples, validate on 5120 samples\n",
            "Epoch 1/10\n",
            "20480/20480 [==============================] - 2s 88us/step - loss: 0.7752 - acc: 0.6366 - val_loss: 0.5495 - val_acc: 0.7590\n",
            "Epoch 2/10\n",
            "20480/20480 [==============================] - 2s 80us/step - loss: 0.4081 - acc: 0.8322 - val_loss: 0.3337 - val_acc: 0.8568\n",
            "Epoch 3/10\n",
            "20480/20480 [==============================] - 2s 79us/step - loss: 0.3170 - acc: 0.8662 - val_loss: 0.3255 - val_acc: 0.8564\n",
            "Epoch 4/10\n",
            "20480/20480 [==============================] - 2s 80us/step - loss: 0.2925 - acc: 0.8774 - val_loss: 0.2950 - val_acc: 0.8723\n",
            "Epoch 5/10\n",
            "20480/20480 [==============================] - 2s 80us/step - loss: 0.2727 - acc: 0.8867 - val_loss: 0.2792 - val_acc: 0.8828\n",
            "Epoch 6/10\n",
            "20480/20480 [==============================] - 2s 80us/step - loss: 0.2547 - acc: 0.8959 - val_loss: 0.2701 - val_acc: 0.8809\n",
            "Epoch 7/10\n",
            "20480/20480 [==============================] - 2s 79us/step - loss: 0.2383 - acc: 0.9027 - val_loss: 0.2652 - val_acc: 0.8889\n",
            "Epoch 8/10\n",
            "20480/20480 [==============================] - 2s 80us/step - loss: 0.2254 - acc: 0.9099 - val_loss: 0.2572 - val_acc: 0.8883\n",
            "Epoch 9/10\n",
            "20480/20480 [==============================] - 2s 80us/step - loss: 0.2100 - acc: 0.9164 - val_loss: 0.2535 - val_acc: 0.8904\n",
            "Epoch 10/10\n",
            "20480/20480 [==============================] - 2s 80us/step - loss: 0.1951 - acc: 0.9249 - val_loss: 0.2478 - val_acc: 0.8939\n"
          ],
          "name": "stdout"
        }
      ]
    },
    {
      "cell_type": "markdown",
      "metadata": {
        "id": "eh6jhx2QQyE7",
        "colab_type": "text"
      },
      "source": [
        "**Initially I trained the model for 50 epochs and drew the graph between loss and no of epochs from seeing the graph i selected no of epochs as 10**"
      ]
    },
    {
      "cell_type": "markdown",
      "metadata": {
        "id": "JXqeaMLCGRNb",
        "colab_type": "text"
      },
      "source": [
        "**To finalise the no of epoch I drew a plot between loss and epochs**"
      ]
    },
    {
      "cell_type": "code",
      "metadata": {
        "id": "dnggtLV0XCXL",
        "colab_type": "code",
        "colab": {
          "base_uri": "https://localhost:8080/",
          "height": 591
        },
        "outputId": "fe324335-cdcb-4eff-c934-564d77942246"
      },
      "source": [
        "import matplotlib.pyplot as plt\n",
        "%matplotlib inline \n",
        "# list all data in history\n",
        "print(history.history.keys())\n",
        "# summarize history for accuracy\n",
        "plt.plot(history.history['acc'])\n",
        "plt.plot(history.history['val_acc'])\n",
        "plt.title('model accuracy')\n",
        "plt.ylabel('accuracy')\n",
        "plt.xlabel('epoch')\n",
        "plt.legend(['train', 'test'], loc='upper left')\n",
        "plt.show()\n",
        "# summarize history for loss\n",
        "plt.plot(history.history['loss'])\n",
        "plt.plot(history.history['val_loss'])\n",
        "plt.title('model loss')\n",
        "plt.ylabel('loss')\n",
        "plt.xlabel('epoch')\n",
        "plt.legend(['train', 'test'], loc='upper left')\n",
        "plt.show()\n",
        "#from below plot we can see that from no of epochs greater than 10 the moel is going to overfit"
      ],
      "execution_count": null,
      "outputs": [
        {
          "output_type": "stream",
          "text": [
            "dict_keys(['val_loss', 'val_acc', 'loss', 'acc'])\n"
          ],
          "name": "stdout"
        },
        {
          "output_type": "display_data",
          "data": {
            "image/png": "[encoded data removed]",
            "text/plain": [
              "<Figure size 432x288 with 1 Axes>"
            ]
          },
          "metadata": {
            "tags": [],
            "needs_background": "light"
          }
        },
        {
          "output_type": "display_data",
          "data": {
            "image/png": "[encoded data removed]",
            "text/plain": [
              "<Figure size 432x288 with 1 Axes>"
            ]
          },
          "metadata": {
            "tags": [],
            "needs_background": "light"
          }
        }
      ]
    },
    {
      "cell_type": "code",
      "metadata": {
        "id": "kxoaeNZuGiaV",
        "colab_type": "code",
        "colab": {
          "base_uri": "https://localhost:8080/",
          "height": 179
        },
        "outputId": "1a178194-7722-42b8-b199-a047007c29fe"
      },
      "source": [
        " # Printing Classification report\n",
        "from sklearn.metrics import confusion_matrix\n",
        "from sklearn.metrics import classification_report\n",
        "x_pred = modell.predict(data_test)\n",
        "x_pred = np.round(x_pred)\n",
        "x_pred = x_pred.argmax(1)\n",
        "y_test_s = labels_test.argmax(1)\n",
        "print(classification_report(y_test_s, x_pred ,target_names = ['clickbait' , 'no-clickbait']))"
      ],
      "execution_count": null,
      "outputs": [
        {
          "output_type": "stream",
          "text": [
            "              precision    recall  f1-score   support\n",
            "\n",
            "   clickbait       0.91      0.87      0.89      3183\n",
            "no-clickbait       0.88      0.91      0.90      3217\n",
            "\n",
            "    accuracy                           0.89      6400\n",
            "   macro avg       0.89      0.89      0.89      6400\n",
            "weighted avg       0.89      0.89      0.89      6400\n",
            "\n"
          ],
          "name": "stdout"
        }
      ]
    }
  ]
}