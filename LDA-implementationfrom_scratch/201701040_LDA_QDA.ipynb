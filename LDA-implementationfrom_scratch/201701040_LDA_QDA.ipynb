{
  "nbformat": 4,
  "nbformat_minor": 0,
  "metadata": {
    "kernelspec": {
      "display_name": "Python 3",
      "language": "python",
      "name": "python3"
    },
    "language_info": {
      "codemirror_mode": {
        "name": "ipython",
        "version": 3
      },
      "file_extension": ".py",
      "mimetype": "text/x-python",
      "name": "python",
      "nbconvert_exporter": "python",
      "pygments_lexer": "ipython3",
      "version": "3.7.3"
    },
    "colab": {
      "name": "201701040_LDA/QDA.ipynb",
      "provenance": [],
      "collapsed_sections": []
    }
  },
  "cells": [
    {
      "cell_type": "code",
      "metadata": {
        "id": "Xc9ITdcW1vXC",
        "colab_type": "code",
        "colab": {}
      },
      "source": [
        "#importing libraries\n",
        "import math\n",
        "import numpy as np\n",
        "import matplotlib.pyplot as plt\n",
        "from sklearn import datasets\n",
        "from sklearn.model_selection import train_test_split as tts\n",
        "import numpy.linalg as la"
      ],
      "execution_count": null,
      "outputs": []
    },
    {
      "cell_type": "code",
      "metadata": {
        "id": "SK3NSoOc1vXH",
        "colab_type": "code",
        "colab": {}
      },
      "source": [
        "#loading MNIST dataset and splitting it into training and testing sets\n",
        "\n",
        "digits = datasets.load_digits()\n",
        "X_train, X_test, Y_train, Y_test = tts(digits.data, digits.target, test_size = 0.1, random_state = 4)\n",
        "x_mean = np.vstack(np.mean(X_train, axis = 0))"
      ],
      "execution_count": null,
      "outputs": []
    },
    {
      "cell_type": "markdown",
      "metadata": {
        "id": "7xkAdqzy1vXK",
        "colab_type": "text"
      },
      "source": [
        "LDA classification"
      ]
    },
    {
      "cell_type": "code",
      "metadata": {
        "id": "Ujzg5Zim1vXL",
        "colab_type": "code",
        "colab": {}
      },
      "source": [
        "#Covariance function \n",
        "def covariance(x):\n",
        "    ans = np.zeros((x.shape[1],x.shape[1]))\n",
        "    n = x.shape[1]\n",
        "    for i in range(n):\n",
        "        for j in range(n):\n",
        "            for k in range(x.shape[0]):\n",
        "                ans[i][j] += (x[k][i] - x_mean[i])*(x[k][j] - x_mean[j])\n",
        "            ans[i][j] /= (x.shape[0]-1)\n",
        "    return ans"
      ],
      "execution_count": null,
      "outputs": []
    },
    {
      "cell_type": "code",
      "metadata": {
        "id": "aaRf9ccQ1vXO",
        "colab_type": "code",
        "colab": {}
      },
      "source": [
        "#finding class-wise elements to find the priory probability\n",
        "\n",
        "def get_class_examples(k):\n",
        "    ans = []\n",
        "    for index,i in enumerate(X_train):\n",
        "        if(Y_train[index] == k):\n",
        "            ans.append(i)\n",
        "    return np.matrix(ans)\n",
        "\n",
        "class_wise_elements = []\n",
        "\n",
        "for i in range(10):\n",
        "    class_wise_elements.append(get_class_examples(i))"
      ],
      "execution_count": null,
      "outputs": []
    },
    {
      "cell_type": "code",
      "metadata": {
        "id": "z9X1wr5n1vXR",
        "colab_type": "code",
        "colab": {}
      },
      "source": [
        "#here we will find logarithmic of the multivariate gaussian function(Strictly increasing)\n",
        "\n",
        "cov = covariance(X_train)\n",
        "prior_probability = []\n",
        "first_term = []\n",
        "second_term = []\n",
        "class_wise_mean = []\n",
        "\n",
        "for i in range(10):\n",
        "    prior_probability.append((len(class_wise_elements[i]))/(len(X_train)))\n",
        "    first_term.append(np.log(prior_probability[i]))\n",
        "    second_term.append(-1*(np.log(((2*math.pi)**(5))*(np.sqrt(la.norm(cov))))))\n",
        "    class_wise_mean.append(np.vstack(np.mean(get_class_examples(i),axis = 0)))\n",
        "\n",
        "def third_term(x):\n",
        "    ans = []\n",
        "    for i in range(10):\n",
        "        value = np.array(x - class_wise_mean[i][0])\n",
        "        t3 = ((-1/2)*(np.dot(value,np.dot(la.pinv(cov),value.T))))[0][0]\n",
        "        ans.append(t3)\n",
        "    return ans"
      ],
      "execution_count": null,
      "outputs": []
    },
    {
      "cell_type": "code",
      "metadata": {
        "id": "y-p8--UD1vXU",
        "colab_type": "code",
        "colab": {}
      },
      "source": [
        "#making prediction\n",
        "def predict(x):\n",
        "    ans = np.add(first_term,np.add(second_term,third_term(x)))\n",
        "    return np.argmax(ans)"
      ],
      "execution_count": null,
      "outputs": []
    },
    {
      "cell_type": "code",
      "metadata": {
        "id": "eM3MUkwP1vXW",
        "colab_type": "code",
        "colab": {},
        "outputId": "6297e186-4243-4283-c927-ef29cab46594"
      },
      "source": [
        "#finding accuracy on test-set\n",
        "count = 0\n",
        "for index,i in enumerate(X_test):\n",
        "    if( predict(i) == Y_test[index] ):\n",
        "        count += 1\n",
        "print(count/(len(X_test)))"
      ],
      "execution_count": null,
      "outputs": [
        {
          "output_type": "stream",
          "text": [
            "0.9333333333333333\n"
          ],
          "name": "stdout"
        }
      ]
    },
    {
      "cell_type": "markdown",
      "metadata": {
        "id": "q5lAbShU1vXa",
        "colab_type": "text"
      },
      "source": [
        "Classification using QDA"
      ]
    },
    {
      "cell_type": "code",
      "metadata": {
        "id": "O0aTlgyO1vXb",
        "colab_type": "code",
        "colab": {}
      },
      "source": [
        "#finding covariance matrix(class-wise) \n",
        "\n",
        "def covariance_1(x,klass):\n",
        "    ans = np.zeros((x.shape[1],x.shape[1]))\n",
        "    n = x.shape[1]\n",
        "    for i in range(n):\n",
        "        for j in range(n):\n",
        "            for k in range(x.shape[0]):\n",
        "                ans[i][j] += (x[k,i] - class_wise_mean[klass][0,i])*(x[k,j] - class_wise_mean[klass][0,j])\n",
        "            ans[i][j] /= (x.shape[0]-1)\n",
        "    return ans"
      ],
      "execution_count": null,
      "outputs": []
    },
    {
      "cell_type": "code",
      "metadata": {
        "id": "kWtRvMVl1vXk",
        "colab_type": "code",
        "colab": {}
      },
      "source": [
        "def get_class_examples_1(k):\n",
        "    ans = []\n",
        "    for index,i in enumerate(X_train):\n",
        "        if(Y_train[index] == k):\n",
        "            ans.append(i)\n",
        "    return np.array(ans)\n",
        "\n",
        "class_wise_elements_1 = []\n",
        "\n",
        "for i in range(10):\n",
        "    class_wise_elements_1.append(get_class_examples_1(i))"
      ],
      "execution_count": null,
      "outputs": []
    },
    {
      "cell_type": "code",
      "metadata": {
        "id": "Aow9F7bA1vXn",
        "colab_type": "code",
        "colab": {},
        "outputId": "9641f016-898f-4614-ebb6-d46868f61686"
      },
      "source": [
        "#finding individual covariance matrix for different classes\n",
        "\n",
        "cov_1 = []\n",
        "for i in range(10):\n",
        "    cov_1.append(covariance_1(class_wise_elements[i],i))\n",
        "    print(i,\"done\")\n"
      ],
      "execution_count": null,
      "outputs": [
        {
          "output_type": "stream",
          "text": [
            "0 done\n",
            "1 done\n",
            "2 done\n",
            "3 done\n",
            "4 done\n",
            "5 done\n",
            "6 done\n",
            "7 done\n",
            "8 done\n",
            "9 done\n"
          ],
          "name": "stdout"
        }
      ]
    },
    {
      "cell_type": "code",
      "metadata": {
        "id": "oxy-sLdo1vXp",
        "colab_type": "code",
        "colab": {}
      },
      "source": [
        "#finding log of second and third term of n-d Gaussian function(priory probability is same for LDA and QDA)\n",
        "\n",
        "def second_term_1(x):\n",
        "    ans = []\n",
        "    for i in range(10):\n",
        "        ans.append(-1*(np.log(((2*math.pi)**(5))*(np.sqrt(la.norm(cov_1[i]))))))\n",
        "    return ans\n",
        "    \n",
        "def third_term_1(x):\n",
        "    ans = []\n",
        "    for i in range(10):\n",
        "        value = np.array(x - class_wise_mean[i][0])\n",
        "        t3 = ((-1/2)*(np.dot(value,np.dot(la.pinv(cov_1[i]),value.T))))[0][0]\n",
        "        ans.append(t3)\n",
        "    return ans"
      ],
      "execution_count": null,
      "outputs": []
    },
    {
      "cell_type": "code",
      "metadata": {
        "id": "jmlXY9cr1vXs",
        "colab_type": "code",
        "colab": {}
      },
      "source": [
        "#prediction function\n",
        "\n",
        "def predict_1(x):\n",
        "    ans = np.add(first_term,np.add(second_term_1(x),third_term_1(x)))\n",
        "    return np.argmax(ans)"
      ],
      "execution_count": null,
      "outputs": []
    },
    {
      "cell_type": "code",
      "metadata": {
        "id": "l30_s2Hl1vXv",
        "colab_type": "code",
        "colab": {},
        "outputId": "c556e95b-3e4a-4031-ca54-aca2f111974e"
      },
      "source": [
        "#finding accuracy on test-set\n",
        "\n",
        "count_1 = 0\n",
        "for index,i in enumerate(X_test):\n",
        "    if( predict_1(i) == Y_test[index] ):\n",
        "        count_1 += 1\n",
        "print(count_1/(len(X_test)))"
      ],
      "execution_count": null,
      "outputs": [
        {
          "output_type": "stream",
          "text": [
            "0.9277777777777778\n"
          ],
          "name": "stdout"
        }
      ]
    },
    {
      "cell_type": "markdown",
      "metadata": {
        "id": "eyiwSrbQ1vXx",
        "colab_type": "text"
      },
      "source": [
        "LDA on binary class (0 or 1)"
      ]
    },
    {
      "cell_type": "code",
      "metadata": {
        "id": "uM0Ankr21vXy",
        "colab_type": "code",
        "colab": {}
      },
      "source": [
        "#finding priory probabilities, average covariance matrix and log of multivariate Gaussian distribution function\n",
        "\n",
        "n0 = len(class_wise_elements[0])\n",
        "n1 = len(class_wise_elements[1])\n",
        "priory_b = [n0/(n0+n1), n1/(n0+n1)]\n",
        "class_wise_mean_b = [class_wise_mean[0], class_wise_mean[1]]\n",
        "cov_b = (cov_1[0] + cov_1[1])/2\n",
        "first_term_b = []\n",
        "\n",
        "\n",
        "def third_term_b(x):\n",
        "    ans = []\n",
        "    for i in range(2):\n",
        "        value = np.array(x - class_wise_mean_b[i][0])\n",
        "        t3 = ((-1/2)*(np.dot(value,np.dot(la.pinv(cov_b),value.T))))[0][0]\n",
        "        ans.append(t3)\n",
        "    return ans\n",
        "\n",
        "second_term_b = []\n",
        "\n",
        "for i in range(2):\n",
        "    first_term_b.append(np.log(priory_b[i]))\n",
        "    second_term_b.append(-1*(np.log(((2*math.pi)**(5))*(np.sqrt(la.norm(cov_1[i]))))))\n",
        "\n"
      ],
      "execution_count": null,
      "outputs": []
    },
    {
      "cell_type": "code",
      "metadata": {
        "id": "rQ1FhqnV1vX0",
        "colab_type": "code",
        "colab": {}
      },
      "source": [
        "#prediction function\n",
        "\n",
        "def predict_1(x):\n",
        "    ans = np.add(first_term_b,np.add(second_term_b,third_term_b(x)))\n",
        "    return np.argmax(ans)"
      ],
      "execution_count": null,
      "outputs": []
    },
    {
      "cell_type": "code",
      "metadata": {
        "id": "3r2BNsQE1vX2",
        "colab_type": "code",
        "colab": {},
        "outputId": "250d55ac-b93a-475d-f812-a05fcd9b84ef"
      },
      "source": [
        "#finding accuracy on test-set\n",
        "\n",
        "count1_b = 0\n",
        "count2_b = 0\n",
        "for index,i in enumerate(X_test):\n",
        "    if((Y_test[index] == 0) or (Y_test[index] == 1)):\n",
        "        count1_b += 1\n",
        "        if(predict_1(i) == Y_test[index]):\n",
        "            count2_b += 1\n",
        "print(count2_b/count1_b)"
      ],
      "execution_count": null,
      "outputs": [
        {
          "output_type": "stream",
          "text": [
            "1.0\n"
          ],
          "name": "stdout"
        }
      ]
    }
  ]
}