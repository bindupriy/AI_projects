{
  "nbformat": 4,
  "nbformat_minor": 0,
  "metadata": {
    "colab": {
      "name": "Musical Instrumnet Classification.ipynb",
      "provenance": [],
      "collapsed_sections": []
    },
    "kernelspec": {
      "name": "python3",
      "display_name": "Python 3"
    }
  },
  "cells": [
    {
      "cell_type": "code",
      "metadata": {
        "id": "I3Xjckwb3gjW",
        "colab_type": "code",
        "colab": {
          "base_uri": "https://localhost:8080/",
          "height": 109
        },
        "outputId": "b4b92a17-b7eb-40db-bc42-48f8b9636a94"
      },
      "source": [
        "import numpy as np\n",
        "import pandas as pd\n",
        "import pickle\n",
        "import itertools\n",
        "\n",
        "# System\n",
        "import os, fnmatch\n",
        "\n",
        "# Visualization\n",
        "import seaborn #visualization library, must be imported before all other plotting libraries\n",
        "import matplotlib.pyplot as plt\n",
        "from IPython.core.display import HTML, display\n",
        "\n",
        "# Machine Learning\n",
        "from sklearn.preprocessing import LabelEncoder\n",
        "from sklearn.preprocessing import StandardScaler\n",
        "from sklearn.model_selection import StratifiedShuffleSplit\n",
        "from sklearn.neighbors import KNeighborsClassifier\n",
        "from sklearn.metrics import recall_score, precision_score, accuracy_score\n",
        "from sklearn.metrics import classification_report\n",
        "from sklearn.svm import LinearSVC, SVC\n",
        "from sklearn.externals import joblib\n",
        "from sklearn.metrics import plot_confusion_matrix\n",
        "\n",
        "\n",
        "# Audio\n",
        "import librosa.display, librosa"
      ],
      "execution_count": null,
      "outputs": [
        {
          "output_type": "stream",
          "text": [
            "/usr/local/lib/python3.6/dist-packages/statsmodels/tools/_testing.py:19: FutureWarning: pandas.util.testing is deprecated. Use the functions in the public API at pandas.testing instead.\n",
            "  import pandas.util.testing as tm\n",
            "/usr/local/lib/python3.6/dist-packages/sklearn/externals/joblib/__init__.py:15: FutureWarning: sklearn.externals.joblib is deprecated in 0.21 and will be removed in 0.23. Please import this functionality directly from joblib, which can be installed with: pip install joblib. If this warning is raised when loading pickled models, you may need to re-serialize those models with scikit-learn 0.21+.\n",
            "  warnings.warn(msg, category=FutureWarning)\n"
          ],
          "name": "stderr"
        }
      ]
    },
    {
      "cell_type": "markdown",
      "metadata": {
        "id": "LMs3g0sbVgmi",
        "colab_type": "text"
      },
      "source": [
        "**Philharmonic Dataset**"
      ]
    },
    {
      "cell_type": "code",
      "metadata": {
        "id": "nKjoAX-m3TJ0",
        "colab_type": "code",
        "colab": {}
      },
      "source": [
        "!wget https://philharmonia-assets.s3-eu-west-1.amazonaws.com/uploads/2020/02/12112005/all-samples.zip\n",
        "!unzip all-samples.zip\n",
        "!rm -r all-samples.zip\n",
        "!unzip all-samples/bassoon.zip \n",
        "!unzip all-samples/violin.zip\n",
        "!unzip all-samples/clarinet.zip\n",
        "!unzip all-samples/saxophone.zip"
      ],
      "execution_count": null,
      "outputs": []
    },
    {
      "cell_type": "markdown",
      "metadata": {
        "id": "093X1PADVlOP",
        "colab_type": "text"
      },
      "source": [
        "**IRMAS Dataset**"
      ]
    },
    {
      "cell_type": "code",
      "metadata": {
        "id": "D1vabcaA_NDh",
        "colab_type": "code",
        "colab": {
          "base_uri": "https://localhost:8080/",
          "height": 215
        },
        "outputId": "0d1b4883-83c9-4d03-bf31-6f1272095a27"
      },
      "source": [
        "!wget https://zenodo.org/record/1290750/files/IRMAS-TrainingData.zip?download=1"
      ],
      "execution_count": null,
      "outputs": [
        {
          "output_type": "stream",
          "text": [
            "--2020-06-04 10:35:51--  https://zenodo.org/record/1290750/files/IRMAS-TrainingData.zip?download=1\n",
            "Resolving zenodo.org (zenodo.org)... 188.184.117.155\n",
            "Connecting to zenodo.org (zenodo.org)|188.184.117.155|:443... connected.\n",
            "HTTP request sent, awaiting response... 200 OK\n",
            "Length: 3181049879 (3.0G) [application/octet-stream]\n",
            "Saving to: ‘IRMAS-TrainingData.zip?download=1’\n",
            "\n",
            "IRMAS-TrainingData. 100%[===================>]   2.96G  18.3MB/s    in 5m 49s  \n",
            "\n",
            "2020-06-04 10:41:41 (8.70 MB/s) - ‘IRMAS-TrainingData.zip?download=1’ saved [3181049879/3181049879]\n",
            "\n"
          ],
          "name": "stdout"
        }
      ]
    },
    {
      "cell_type": "code",
      "metadata": {
        "id": "_dPkVTHP_Sd3",
        "colab_type": "code",
        "colab": {}
      },
      "source": [
        "!unzip IRMAS-TrainingData.zip?download=1"
      ],
      "execution_count": null,
      "outputs": []
    },
    {
      "cell_type": "markdown",
      "metadata": {
        "id": "5LSXh0WzLfc6",
        "colab_type": "text"
      },
      "source": [
        "**Extracting required 5 musical instrumnet classes from the dataset**"
      ]
    },
    {
      "cell_type": "code",
      "metadata": {
        "id": "6ACADExK3ZZe",
        "colab_type": "code",
        "colab": {}
      },
      "source": [
        "classes = ['bassoon','violin','clarinet','saxophone', 'voi']   #only selecting five instrument classes out of all the instrument classes\n",
        "x_data = {}\n",
        "for i in os.listdir('./'):\n",
        "  temp = i.split('_')[0]\n",
        "  if temp not in classes:\n",
        "    continue\n",
        "  if temp not in x_data : \n",
        "    x_data[temp] = [i]\n",
        "  else:\n",
        "    x_data[temp].append(i)\n",
        "\n",
        "\n",
        "for i in os.listdir(\"IRMAS-TrainingData/voi\"):\n",
        "  if 'voi' not in x_data : \n",
        "    x_data['voi'] = [\"IRMAS-TrainingData/voi/\"+i]\n",
        "  else:\n",
        "    x_data['voi'].append(\"IRMAS-TrainingData/voi/\"+i)"
      ],
      "execution_count": null,
      "outputs": []
    },
    {
      "cell_type": "code",
      "metadata": {
        "id": "vNExCQ7J1hh4",
        "colab_type": "code",
        "colab": {}
      },
      "source": [
        "x_data['clarinet']"
      ],
      "execution_count": null,
      "outputs": []
    },
    {
      "cell_type": "markdown",
      "metadata": {
        "id": "WCvLlpg76rB2",
        "colab_type": "text"
      },
      "source": [
        "**Parameters for MFCC**"
      ]
    },
    {
      "cell_type": "code",
      "metadata": {
        "id": "320izW3y3iRt",
        "colab_type": "code",
        "colab": {}
      },
      "source": [
        "# Parameters\n",
        "# Signal Processing Parameters\n",
        "fs = 44100         # Sampling Frequency\n",
        "n_fft = 1024       # length of the FFT window\n",
        "hop_length = 512   # Number of samples between successive frames\n",
        "n_mels = 128       # Number of Mel bands\n",
        "n_mfcc = 13       #13 MFCC coefficients"
      ],
      "execution_count": null,
      "outputs": []
    },
    {
      "cell_type": "markdown",
      "metadata": {
        "id": "qCjsXYWh6250",
        "colab_type": "text"
      },
      "source": [
        "**Function to Calculate Audio Features: MFCC**"
      ]
    },
    {
      "cell_type": "code",
      "metadata": {
        "id": "NLsFWejZ3mVr",
        "colab_type": "code",
        "colab": {}
      },
      "source": [
        "# Define Function to Calculate MFCC\n",
        "def get_features(y, sr=fs):\n",
        "    S = librosa.feature.melspectrogram(y, sr=fs, n_mels=n_mels)\n",
        "    mfcc = librosa.feature.mfcc(S=librosa.power_to_db(S), n_mfcc=n_mfcc)\n",
        "    feature_vector = np.mean(mfcc,1)\n",
        "    return feature_vector"
      ],
      "execution_count": null,
      "outputs": []
    },
    {
      "cell_type": "markdown",
      "metadata": {
        "id": "Rp-cNwvx7As5",
        "colab_type": "text"
      },
      "source": [
        "**Load audio files, calculate features and create feature vectors**"
      ]
    },
    {
      "cell_type": "code",
      "metadata": {
        "id": "GNO-M0IJ3qFh",
        "colab_type": "code",
        "colab": {
          "base_uri": "https://localhost:8080/",
          "height": 53
        },
        "outputId": "c3665194-b422-4cec-b3bd-0b88d76589d3"
      },
      "source": [
        "%%time\n",
        "import tqdm\n",
        "import multiprocessing\n",
        "from joblib import Parallel, delayed           #parallel extraction of features from the sample\n",
        "feature_vectors = []\n",
        "labels = []\n",
        "def yourfunction(k): \n",
        "    i = k\n",
        "    k = x_data[k]\n",
        "    feature_vectors = []\n",
        "    labels = []\n",
        "    for j in tqdm.tqdm(k[:720]):   #taking  720 samples from each musical instrument class\n",
        "      try :\n",
        "        y, sr = librosa.load(j, sr=fs)\n",
        "        y/=y.max() #Normalize\n",
        "        feat = get_features(y, sr)  #extracting mfcc features\n",
        "        feature_vectors.append(feat)\n",
        "        labels.append(i)\n",
        "      except :\n",
        "        continue\n",
        "    return np.array(feature_vectors) , labels\n",
        "\n",
        "element_run = Parallel(n_jobs=5)(delayed(yourfunction)(k) for k in x_data)\n"
      ],
      "execution_count": null,
      "outputs": [
        {
          "output_type": "stream",
          "text": [
            "CPU times: user 212 ms, sys: 46.8 ms, total: 259 ms\n",
            "Wall time: 7min 24s\n"
          ],
          "name": "stdout"
        }
      ]
    },
    {
      "cell_type": "code",
      "metadata": {
        "id": "yWCqppVm3r0u",
        "colab_type": "code",
        "colab": {
          "base_uri": "https://localhost:8080/",
          "height": 35
        },
        "outputId": "8a403345-6b5e-4c0b-92ed-1bfca42033ad"
      },
      "source": [
        "feature_vectors = np.hstack([ element_run[k][:-1] for k in range(len(element_run))]).reshape(-1,13)\n",
        "labels =  np.hstack([element_run[k][-1] for k in range(len(element_run))])\n",
        "feature_vectors.shape,labels.shape"
      ],
      "execution_count": null,
      "outputs": [
        {
          "output_type": "execute_result",
          "data": {
            "text/plain": [
              "((3599, 13), (3599,))"
            ]
          },
          "metadata": {
            "tags": []
          },
          "execution_count": 10
        }
      ]
    },
    {
      "cell_type": "markdown",
      "metadata": {
        "id": "QvmpUYL07Dxb",
        "colab_type": "text"
      },
      "source": [
        "**Standardization: Zero-Mean and Unit-Variance and Encode Labels**"
      ]
    },
    {
      "cell_type": "code",
      "metadata": {
        "id": "1n69hPia3xzA",
        "colab_type": "code",
        "colab": {
          "base_uri": "https://localhost:8080/",
          "height": 53
        },
        "outputId": "ec6f8640-52a7-4ab5-fd12-d8be75f9d8ec"
      },
      "source": [
        "# Scale features using Standard Scaler\n",
        "scaler = StandardScaler()\n",
        "scaled_feature_vectors = scaler.fit_transform(np.array(feature_vectors))\n",
        "print(\"Feature vectors shape:\",scaled_feature_vectors.shape)\n",
        "# Encode Labels\n",
        "labelencoder = LabelEncoder()\n",
        "labelencoder.fit(labels)\n",
        "print(len(labelencoder.classes_), \"classes:\", \", \".join(list(labelencoder.classes_)))\n",
        "classes_num = labelencoder.transform(labels)"
      ],
      "execution_count": null,
      "outputs": [
        {
          "output_type": "stream",
          "text": [
            "Feature vectors shape: (3599, 13)\n",
            "5 classes: bassoon, clarinet, saxophone, violin, voi\n"
          ],
          "name": "stdout"
        }
      ]
    },
    {
      "cell_type": "code",
      "metadata": {
        "id": "O1Nl8b2h3zkE",
        "colab_type": "code",
        "colab": {
          "base_uri": "https://localhost:8080/",
          "height": 89
        },
        "outputId": "71901338-2bbb-4197-d7ee-a30daaee9321"
      },
      "source": [
        "from sklearn.model_selection import train_test_split\n",
        "X_train, X_test, y_train, y_test = train_test_split(scaled_feature_vectors, classes_num, test_size=0.25, random_state=42)\n",
        "# Check Set Shapes\n",
        "print(\"train_set shape:\",X_train.shape)\n",
        "print(\"test_set shape:\",X_test.shape)\n",
        "print(\"train_classes shape:\",y_train.shape)\n",
        "print(\"test_classes shape:\",y_test.shape)"
      ],
      "execution_count": null,
      "outputs": [
        {
          "output_type": "stream",
          "text": [
            "train_set shape: (2699, 13)\n",
            "test_set shape: (900, 13)\n",
            "train_classes shape: (2699,)\n",
            "test_classes shape: (900,)\n"
          ],
          "name": "stdout"
        }
      ]
    },
    {
      "cell_type": "markdown",
      "metadata": {
        "id": "HLgG6-Z8Jm5w",
        "colab_type": "text"
      },
      "source": [
        "**Naive Bayes Classifier**"
      ]
    },
    {
      "cell_type": "code",
      "metadata": {
        "id": "uqovscsB3183",
        "colab_type": "code",
        "colab": {
          "base_uri": "https://localhost:8080/",
          "height": 233
        },
        "outputId": "bc4b079e-240a-4fba-a8dc-14a3d5f4eaf4"
      },
      "source": [
        "#instantiate the  Naive Bayes classifier\n",
        "from sklearn.naive_bayes import GaussianNB\n",
        "clf = GaussianNB()\n",
        "clf.fit(X_train, y_train)\n",
        "predicted = clf.predict(X_test)\n",
        "print(classification_report(y_test , predicted , target_names = ['bassoon', 'clarinet' , 'saxophone' , 'violin', 'voi']))"
      ],
      "execution_count": null,
      "outputs": [
        {
          "output_type": "stream",
          "text": [
            "              precision    recall  f1-score   support\n",
            "\n",
            "     bassoon       0.83      0.92      0.87       185\n",
            "    clarinet       0.76      0.69      0.72       183\n",
            "   saxophone       0.62      0.63      0.63       156\n",
            "      violin       0.84      0.85      0.84       194\n",
            "         voi       0.98      0.93      0.96       182\n",
            "\n",
            "    accuracy                           0.81       900\n",
            "   macro avg       0.81      0.81      0.80       900\n",
            "weighted avg       0.81      0.81      0.81       900\n",
            "\n"
          ],
          "name": "stdout"
        }
      ]
    },
    {
      "cell_type": "code",
      "metadata": {
        "id": "qWz9Ao4n3-c3",
        "colab_type": "code",
        "colab": {
          "base_uri": "https://localhost:8080/",
          "height": 721
        },
        "outputId": "95ce0bb4-fa5e-4410-80f3-81719ed416ec"
      },
      "source": [
        "from sklearn.metrics import confusion_matrix\n",
        "import seaborn as sns\n",
        "cf_matrix = confusion_matrix(y_test, predicted)\n",
        "sns.set(rc={'figure.figsize':(12,12)})\n",
        "sns.heatmap(cf_matrix, annot=True , cmap = 'Blues', xticklabels = classes ,yticklabels= classes  )\n"
      ],
      "execution_count": null,
      "outputs": [
        {
          "output_type": "execute_result",
          "data": {
            "text/plain": [
              "<matplotlib.axes._subplots.AxesSubplot at 0x7f20775f90f0>"
            ]
          },
          "metadata": {
            "tags": []
          },
          "execution_count": 26
        },
        {
          "output_type": "display_data",
          "data": {
            "image/png": "[encoded data removed]",
            "text/plain": [
              "<Figure size 864x864 with 2 Axes>"
            ]
          },
          "metadata": {
            "tags": []
          }
        }
      ]
    },
    {
      "cell_type": "markdown",
      "metadata": {
        "id": "FJgQFAt0Jrkn",
        "colab_type": "text"
      },
      "source": [
        "**Logistic Regression Classifier**"
      ]
    },
    {
      "cell_type": "code",
      "metadata": {
        "id": "A_Apo5rl4Bt-",
        "colab_type": "code",
        "colab": {
          "base_uri": "https://localhost:8080/",
          "height": 233
        },
        "outputId": "89b9133f-b42a-46a3-c8aa-218188347582"
      },
      "source": [
        "#Logistic Regression \n",
        "from sklearn.metrics import classification_report\n",
        "from sklearn.linear_model import LogisticRegression\n",
        "clf = LogisticRegression()\n",
        "clf.fit(X_train, y_train)\n",
        "predicted = clf.predict(X_test)\n",
        "print(classification_report(y_test , predicted , target_names = ['bassoon', 'clarinet' , 'saxophone' , 'violin','voi']))"
      ],
      "execution_count": null,
      "outputs": [
        {
          "output_type": "stream",
          "text": [
            "              precision    recall  f1-score   support\n",
            "\n",
            "     bassoon       0.98      0.99      0.99       185\n",
            "    clarinet       0.93      0.85      0.89       183\n",
            "   saxophone       0.87      0.91      0.89       156\n",
            "      violin       0.92      0.96      0.94       194\n",
            "         voi       0.96      0.95      0.96       182\n",
            "\n",
            "    accuracy                           0.93       900\n",
            "   macro avg       0.93      0.93      0.93       900\n",
            "weighted avg       0.93      0.93      0.93       900\n",
            "\n"
          ],
          "name": "stdout"
        }
      ]
    },
    {
      "cell_type": "code",
      "metadata": {
        "id": "MDLWONWu4EDi",
        "colab_type": "code",
        "colab": {
          "base_uri": "https://localhost:8080/",
          "height": 721
        },
        "outputId": "cb3d4040-bbb7-4c37-9a9e-49c86c7c76ef"
      },
      "source": [
        "from sklearn.metrics import confusion_matrix\n",
        "import seaborn as sns\n",
        "cf_matrix = confusion_matrix(y_test, predicted)\n",
        "sns.set(rc={'figure.figsize':(12,12)})\n",
        "sns.heatmap(cf_matrix, annot=True , cmap = 'Blues', xticklabels = classes ,yticklabels= classes  )\n"
      ],
      "execution_count": null,
      "outputs": [
        {
          "output_type": "execute_result",
          "data": {
            "text/plain": [
              "<matplotlib.axes._subplots.AxesSubplot at 0x7fa30f7d1ac8>"
            ]
          },
          "metadata": {
            "tags": []
          },
          "execution_count": 21
        },
        {
          "output_type": "display_data",
          "data": {
            "image/png": "[encoded data removed]",
            "text/plain": [
              "<Figure size 864x864 with 2 Axes>"
            ]
          },
          "metadata": {
            "tags": []
          }
        }
      ]
    },
    {
      "cell_type": "markdown",
      "metadata": {
        "id": "gdt2b1YJJxlj",
        "colab_type": "text"
      },
      "source": [
        "**SVM with RBF kernel Classifier**"
      ]
    },
    {
      "cell_type": "code",
      "metadata": {
        "id": "SIkf9-4_4GUV",
        "colab_type": "code",
        "colab": {
          "base_uri": "https://localhost:8080/",
          "height": 233
        },
        "outputId": "d45a46b0-6b22-4fa0-9f5d-60bc1c2f6880"
      },
      "source": [
        "#svm \n",
        "from sklearn.svm import SVC\n",
        "from sklearn.metrics import classification_report\n",
        "clf = SVC(gamma='auto' , C= 10 , kernel = 'rbf')\n",
        "clf.fit(X_train, y_train)\n",
        "predicted = clf.predict(X_test)\n",
        "print(classification_report(y_test , predicted , target_names = ['bassoon', 'clarinet' , 'saxophone' , 'violin','voi']))"
      ],
      "execution_count": null,
      "outputs": [
        {
          "output_type": "stream",
          "text": [
            "              precision    recall  f1-score   support\n",
            "\n",
            "     bassoon       1.00      1.00      1.00       185\n",
            "    clarinet       0.99      0.99      0.99       183\n",
            "   saxophone       0.97      0.99      0.98       156\n",
            "      violin       1.00      0.99      1.00       194\n",
            "         voi       1.00      0.99      1.00       182\n",
            "\n",
            "    accuracy                           0.99       900\n",
            "   macro avg       0.99      0.99      0.99       900\n",
            "weighted avg       0.99      0.99      0.99       900\n",
            "\n"
          ],
          "name": "stdout"
        }
      ]
    },
    {
      "cell_type": "code",
      "metadata": {
        "id": "_zCwP1kJ4Ixd",
        "colab_type": "code",
        "colab": {
          "base_uri": "https://localhost:8080/",
          "height": 721
        },
        "outputId": "7009372f-5700-406f-993f-5df851501126"
      },
      "source": [
        "from sklearn.metrics import confusion_matrix\n",
        "import seaborn as sns\n",
        "cf_matrix = confusion_matrix(y_test, predicted)\n",
        "sns.set(rc={'figure.figsize':(12,12)})\n",
        "sns.heatmap(cf_matrix, annot=True , cmap = 'Blues', xticklabels = classes ,yticklabels= classes  )"
      ],
      "execution_count": null,
      "outputs": [
        {
          "output_type": "execute_result",
          "data": {
            "text/plain": [
              "<matplotlib.axes._subplots.AxesSubplot at 0x7fa30e165dd8>"
            ]
          },
          "metadata": {
            "tags": []
          },
          "execution_count": 23
        },
        {
          "output_type": "display_data",
          "data": {
            "image/png": "[encoded data removed]",
            "text/plain": [
              "<Figure size 864x864 with 2 Axes>"
            ]
          },
          "metadata": {
            "tags": []
          }
        }
      ]
    },
    {
      "cell_type": "markdown",
      "metadata": {
        "id": "g30m261RJ23u",
        "colab_type": "text"
      },
      "source": [
        "**Random forest Classifier**"
      ]
    },
    {
      "cell_type": "code",
      "metadata": {
        "id": "VHyyWd_O4LtQ",
        "colab_type": "code",
        "colab": {
          "base_uri": "https://localhost:8080/",
          "height": 233
        },
        "outputId": "cdb8f199-2b33-4ba4-87e6-23fe6dc4d22f"
      },
      "source": [
        "#random forest \n",
        "from sklearn.ensemble import RandomForestClassifier\n",
        "clf = RandomForestClassifier(max_depth= 13 , n_estimators = 100 , random_state=42)\n",
        "clf.fit(X_train, y_train)\n",
        "predicted = clf.predict(X_test)\n",
        "print(classification_report(y_test , predicted , target_names = ['bassoon', 'clarinet' , 'saxophone' , 'violin','voi']))"
      ],
      "execution_count": null,
      "outputs": [
        {
          "output_type": "stream",
          "text": [
            "              precision    recall  f1-score   support\n",
            "\n",
            "     bassoon       1.00      0.99      0.99       185\n",
            "    clarinet       0.97      0.95      0.96       183\n",
            "   saxophone       0.92      0.96      0.94       156\n",
            "      violin       0.97      0.98      0.98       194\n",
            "         voi       0.99      0.98      0.98       182\n",
            "\n",
            "    accuracy                           0.97       900\n",
            "   macro avg       0.97      0.97      0.97       900\n",
            "weighted avg       0.97      0.97      0.97       900\n",
            "\n"
          ],
          "name": "stdout"
        }
      ]
    },
    {
      "cell_type": "code",
      "metadata": {
        "id": "6LHqIX5m4Oo-",
        "colab_type": "code",
        "colab": {
          "base_uri": "https://localhost:8080/",
          "height": 721
        },
        "outputId": "36ddd4e1-6689-4b84-abd0-29f089855af7"
      },
      "source": [
        "from sklearn.metrics import confusion_matrix\n",
        "import seaborn as sns\n",
        "cf_matrix = confusion_matrix(y_test, predicted)\n",
        "sns.set(rc={'figure.figsize':(12,12)})\n",
        "sns.heatmap(cf_matrix, annot=True , cmap = 'Blues', xticklabels = classes ,yticklabels= classes  )"
      ],
      "execution_count": null,
      "outputs": [
        {
          "output_type": "execute_result",
          "data": {
            "text/plain": [
              "<matplotlib.axes._subplots.AxesSubplot at 0x7fa30ddeaf60>"
            ]
          },
          "metadata": {
            "tags": []
          },
          "execution_count": 25
        },
        {
          "output_type": "display_data",
          "data": {
            "image/png": "[encoded data removed]",
            "text/plain": [
              "<Figure size 864x864 with 2 Axes>"
            ]
          },
          "metadata": {
            "tags": []
          }
        }
      ]
    },
    {
      "cell_type": "markdown",
      "metadata": {
        "id": "DAg8zxpcJ7TC",
        "colab_type": "text"
      },
      "source": [
        "**KNN Classifier**"
      ]
    },
    {
      "cell_type": "code",
      "metadata": {
        "id": "x6M73WsR4Qi8",
        "colab_type": "code",
        "colab": {
          "base_uri": "https://localhost:8080/",
          "height": 233
        },
        "outputId": "2cb69812-d0b9-4c5f-ab01-e60226bdd3fa"
      },
      "source": [
        "# kNN\n",
        "n_neighbors=1\n",
        "clf = KNeighborsClassifier(n_neighbors= 1)\n",
        "clf.fit(X_train, y_train)\n",
        "predicted = clf.predict(X_test)\n",
        "print(classification_report(y_test , predicted , target_names = ['bassoon', 'clarinet' , 'saxophone' , 'violin','voi']))"
      ],
      "execution_count": null,
      "outputs": [
        {
          "output_type": "stream",
          "text": [
            "              precision    recall  f1-score   support\n",
            "\n",
            "     bassoon       0.99      0.99      0.99       185\n",
            "    clarinet       0.99      0.98      0.98       183\n",
            "   saxophone       0.96      0.99      0.97       156\n",
            "      violin       0.99      0.98      0.99       194\n",
            "         voi       1.00      1.00      1.00       182\n",
            "\n",
            "    accuracy                           0.99       900\n",
            "   macro avg       0.99      0.99      0.99       900\n",
            "weighted avg       0.99      0.99      0.99       900\n",
            "\n"
          ],
          "name": "stdout"
        }
      ]
    },
    {
      "cell_type": "code",
      "metadata": {
        "id": "hKeUZ5be4VeP",
        "colab_type": "code",
        "colab": {
          "base_uri": "https://localhost:8080/",
          "height": 721
        },
        "outputId": "9a72bc63-0359-4ccb-d182-7699608e3c6d"
      },
      "source": [
        "from sklearn.metrics import confusion_matrix\n",
        "import seaborn as sns\n",
        "cf_matrix = confusion_matrix(y_test, predicted)\n",
        "sns.set(rc={'figure.figsize':(12,12)})\n",
        "sns.heatmap(cf_matrix, annot=True , cmap = 'Blues', xticklabels = classes ,yticklabels= classes  )"
      ],
      "execution_count": null,
      "outputs": [
        {
          "output_type": "execute_result",
          "data": {
            "text/plain": [
              "<matplotlib.axes._subplots.AxesSubplot at 0x7fa30e0b0f60>"
            ]
          },
          "metadata": {
            "tags": []
          },
          "execution_count": 27
        },
        {
          "output_type": "display_data",
          "data": {
            "image/png": "[encoded data removed]",
            "text/plain": [
              "<Figure size 864x864 with 2 Axes>"
            ]
          },
          "metadata": {
            "tags": []
          }
        }
      ]
    },
    {
      "cell_type": "markdown",
      "metadata": {
        "id": "0lT1GucEJ_t9",
        "colab_type": "text"
      },
      "source": [
        "**Neuralnet Classifier**"
      ]
    },
    {
      "cell_type": "code",
      "metadata": {
        "id": "NWbPZLse4Xgb",
        "colab_type": "code",
        "colab": {
          "base_uri": "https://localhost:8080/",
          "height": 35
        },
        "outputId": "4a389e48-5a39-4a50-91e2-5dbd5e26b495"
      },
      "source": [
        "# Deep Learning\n",
        "from keras import backend as K\n",
        "from keras.layers import Input, Dense\n",
        "from keras.models import Model, Sequential\n",
        "from keras.optimizers import SGD\n",
        "from keras.callbacks import History\n",
        "from keras.wrappers.scikit_learn import KerasClassifier\n",
        "from keras.utils import plot_model\n",
        "# Random Seed\n",
        "from numpy.random import seed\n",
        "seed(1)\n",
        "\n",
        "\n",
        "# DNN\n",
        "# Use Keras Backend Type\n",
        "X_train_d = X_train.astype(K.floatx())\n",
        "X_test_d = X_test.astype(K.floatx())"
      ],
      "execution_count": null,
      "outputs": [
        {
          "output_type": "stream",
          "text": [
            "Using TensorFlow backend.\n"
          ],
          "name": "stderr"
        }
      ]
    },
    {
      "cell_type": "code",
      "metadata": {
        "id": "BTuLHtx_4ZgR",
        "colab_type": "code",
        "colab": {}
      },
      "source": [
        "from sklearn.preprocessing import OneHotEncoder\n",
        "# One Hot encode\n",
        "onehot_encoder = OneHotEncoder(sparse=False, categories='auto')\n",
        "integer_encoded_train_classes =  y_train.reshape(len( y_train), 1)\n",
        "onehot_encoded_train_classes = onehot_encoder.fit_transform(integer_encoded_train_classes,1)\n",
        "integer_encoded_test_classes =  y_test.reshape(len( y_test),1)\n",
        "onehot_encoded_test_classes = onehot_encoder.fit_transform(integer_encoded_test_classes,1)"
      ],
      "execution_count": null,
      "outputs": []
    },
    {
      "cell_type": "code",
      "metadata": {
        "id": "5hzDTFKs4bzU",
        "colab_type": "code",
        "colab": {
          "base_uri": "https://localhost:8080/",
          "height": 89
        },
        "outputId": "8c392bdb-ab62-4d28-ef2c-890a497c4365"
      },
      "source": [
        "# Check Set Shapes\n",
        "print(\"X_train shape:\",X_train_d.shape)\n",
        "print(\"X_test shape:\",X_test_d.shape)\n",
        "print(\"y_train shape:\",onehot_encoded_train_classes.shape)\n",
        "print(\"y_test shape:\",onehot_encoded_test_classes.shape)"
      ],
      "execution_count": null,
      "outputs": [
        {
          "output_type": "stream",
          "text": [
            "X_train shape: (2699, 13)\n",
            "X_test shape: (900, 13)\n",
            "y_train shape: (2699, 5)\n",
            "y_test shape: (900, 5)\n"
          ],
          "name": "stdout"
        }
      ]
    },
    {
      "cell_type": "markdown",
      "metadata": {
        "id": "PJ0G2mOUKFHA",
        "colab_type": "text"
      },
      "source": [
        "**Changing y values into onehot vector form**"
      ]
    },
    {
      "cell_type": "code",
      "metadata": {
        "id": "yDjpsTnm4dzl",
        "colab_type": "code",
        "colab": {}
      },
      "source": [
        "# Reshape Sets for Keras\n",
        "X_train_d=X_train.reshape(X_train_d.shape[0],1,X_train_d.shape[1])\n",
        "X_test_d=X_test.reshape(X_test_d.shape[0],1,X_test_d.shape[1])\n",
        "y_train_d_hot=onehot_encoded_train_classes.reshape(onehot_encoded_train_classes.shape[0],1,\n",
        "                                                         onehot_encoded_train_classes.shape[1])\n",
        "y_test_d_hot=onehot_encoded_test_classes.reshape(onehot_encoded_test_classes.shape[0],1,\n",
        "                                                       onehot_encoded_test_classes.shape[1])"
      ],
      "execution_count": null,
      "outputs": []
    },
    {
      "cell_type": "markdown",
      "metadata": {
        "id": "okZaTQrCKTVX",
        "colab_type": "text"
      },
      "source": [
        "**Creating Simple model with 2 Dense layes**"
      ]
    },
    {
      "cell_type": "code",
      "metadata": {
        "id": "GCerH0-C4fsw",
        "colab_type": "code",
        "colab": {
          "base_uri": "https://localhost:8080/",
          "height": 305
        },
        "outputId": "1861a88d-d8e1-4b67-8b5c-47a115c4c651"
      },
      "source": [
        "# Creat Simple Model\n",
        "import keras.backend as K \n",
        "K.clear_session()\n",
        "model_input = Input(shape=(1,X_train.shape[1]))\n",
        "fc1 = Dense(640, activation=\"relu\")(model_input)\n",
        "fc2 = Dense(64, activation=\"relu\")(fc1)\n",
        "#fc3 = Dense(8, activation=\"relu\")(fc2)\n",
        "n=onehot_encoded_train_classes.shape[1]\n",
        "out = Dense(n, activation=\"softmax\")(fc2)\n",
        "model_d = Model(inputs=[model_input], outputs=[out])\n",
        "model_d.summary()"
      ],
      "execution_count": null,
      "outputs": [
        {
          "output_type": "stream",
          "text": [
            "Model: \"model_1\"\n",
            "_________________________________________________________________\n",
            "Layer (type)                 Output Shape              Param #   \n",
            "=================================================================\n",
            "input_1 (InputLayer)         (None, 1, 13)             0         \n",
            "_________________________________________________________________\n",
            "dense_1 (Dense)              (None, 1, 640)            8960      \n",
            "_________________________________________________________________\n",
            "dense_2 (Dense)              (None, 1, 64)             41024     \n",
            "_________________________________________________________________\n",
            "dense_3 (Dense)              (None, 1, 5)              325       \n",
            "=================================================================\n",
            "Total params: 50,309\n",
            "Trainable params: 50,309\n",
            "Non-trainable params: 0\n",
            "_________________________________________________________________\n"
          ],
          "name": "stdout"
        }
      ]
    },
    {
      "cell_type": "code",
      "metadata": {
        "id": "lxXGjrE84i8t",
        "colab_type": "code",
        "colab": {}
      },
      "source": [
        "# Compile Model\n",
        "model_d.compile(loss = 'categorical_crossentropy',   #loss function\n",
        "              optimizer = 'SGD',  #SGD is stochastic gradient descent optimizer\n",
        "              metrics   =['accuracy'])"
      ],
      "execution_count": null,
      "outputs": []
    },
    {
      "cell_type": "code",
      "metadata": {
        "id": "VwRl_4TD4lDo",
        "colab_type": "code",
        "colab": {
          "base_uri": "https://localhost:8080/",
          "height": 1000
        },
        "outputId": "9178a847-e5d3-46ad-c4b2-1164126ffa54"
      },
      "source": [
        "# Deep Learning Parameters\n",
        "from keras.callbacks import EarlyStopping,ModelCheckpoint\n",
        "from keras.models import model_from_json\n",
        "\n",
        "batch_size = 32 # Number of samples per gradient update.\n",
        "epochs = 50  # An epoch is an iteration over the entire x and y data provided.\n",
        "\n",
        "filepath=\"model.h5\"\n",
        "checkpoint = ModelCheckpoint(filepath, monitor='accuracy', verbose=1, save_best_only=True, mode='max')\n",
        "callbacks_list = [checkpoint]\n",
        "# Train Model\n",
        "hist = model_d.fit(X_train_d, y_train_d_hot, verbose=1, \n",
        "                    batch_size=batch_size, epochs=epochs, validation_split=0.2, callbacks=callbacks_list)"
      ],
      "execution_count": null,
      "outputs": [
        {
          "output_type": "stream",
          "text": [
            "Train on 2159 samples, validate on 540 samples\n",
            "Epoch 1/50\n",
            "2159/2159 [==============================] - 1s 233us/step - loss: 1.3868 - accuracy: 0.6429 - val_loss: 1.2017 - val_accuracy: 0.7796\n",
            "\n",
            "Epoch 00001: accuracy improved from -inf to 0.64289, saving model to model.h5\n",
            "Epoch 2/50\n",
            "2159/2159 [==============================] - 0s 64us/step - loss: 1.0756 - accuracy: 0.7902 - val_loss: 0.9351 - val_accuracy: 0.8148\n",
            "\n",
            "Epoch 00002: accuracy improved from 0.64289 to 0.79018, saving model to model.h5\n",
            "Epoch 3/50\n",
            "2159/2159 [==============================] - 0s 59us/step - loss: 0.8499 - accuracy: 0.8346 - val_loss: 0.7535 - val_accuracy: 0.8426\n",
            "\n",
            "Epoch 00003: accuracy improved from 0.79018 to 0.83465, saving model to model.h5\n",
            "Epoch 4/50\n",
            "2159/2159 [==============================] - 0s 60us/step - loss: 0.6921 - accuracy: 0.8550 - val_loss: 0.6279 - val_accuracy: 0.8556\n",
            "\n",
            "Epoch 00004: accuracy improved from 0.83465 to 0.85503, saving model to model.h5\n",
            "Epoch 5/50\n",
            "2159/2159 [==============================] - 0s 61us/step - loss: 0.5776 - accuracy: 0.8745 - val_loss: 0.5354 - val_accuracy: 0.8741\n",
            "\n",
            "Epoch 00005: accuracy improved from 0.85503 to 0.87448, saving model to model.h5\n",
            "Epoch 6/50\n",
            "2159/2159 [==============================] - 0s 60us/step - loss: 0.4926 - accuracy: 0.8958 - val_loss: 0.4685 - val_accuracy: 0.8907\n",
            "\n",
            "Epoch 00006: accuracy improved from 0.87448 to 0.89579, saving model to model.h5\n",
            "Epoch 7/50\n",
            "2159/2159 [==============================] - 0s 60us/step - loss: 0.4281 - accuracy: 0.9101 - val_loss: 0.4152 - val_accuracy: 0.9019\n",
            "\n",
            "Epoch 00007: accuracy improved from 0.89579 to 0.91014, saving model to model.h5\n",
            "Epoch 8/50\n",
            "2159/2159 [==============================] - 0s 60us/step - loss: 0.3782 - accuracy: 0.9189 - val_loss: 0.3732 - val_accuracy: 0.9167\n",
            "\n",
            "Epoch 00008: accuracy improved from 0.91014 to 0.91894, saving model to model.h5\n",
            "Epoch 9/50\n",
            "2159/2159 [==============================] - 0s 64us/step - loss: 0.3390 - accuracy: 0.9268 - val_loss: 0.3403 - val_accuracy: 0.9222\n",
            "\n",
            "Epoch 00009: accuracy improved from 0.91894 to 0.92682, saving model to model.h5\n",
            "Epoch 10/50\n",
            "2159/2159 [==============================] - 0s 60us/step - loss: 0.3072 - accuracy: 0.9370 - val_loss: 0.3147 - val_accuracy: 0.9333\n",
            "\n",
            "Epoch 00010: accuracy improved from 0.92682 to 0.93701, saving model to model.h5\n",
            "Epoch 11/50\n",
            "2159/2159 [==============================] - 0s 59us/step - loss: 0.2818 - accuracy: 0.9389 - val_loss: 0.2925 - val_accuracy: 0.9333\n",
            "\n",
            "Epoch 00011: accuracy improved from 0.93701 to 0.93886, saving model to model.h5\n",
            "Epoch 12/50\n",
            "2159/2159 [==============================] - 0s 60us/step - loss: 0.2601 - accuracy: 0.9421 - val_loss: 0.2747 - val_accuracy: 0.9407\n",
            "\n",
            "Epoch 00012: accuracy improved from 0.93886 to 0.94210, saving model to model.h5\n",
            "Epoch 13/50\n",
            "2159/2159 [==============================] - 0s 64us/step - loss: 0.2424 - accuracy: 0.9435 - val_loss: 0.2587 - val_accuracy: 0.9444\n",
            "\n",
            "Epoch 00013: accuracy improved from 0.94210 to 0.94349, saving model to model.h5\n",
            "Epoch 14/50\n",
            "2159/2159 [==============================] - 0s 60us/step - loss: 0.2273 - accuracy: 0.9435 - val_loss: 0.2458 - val_accuracy: 0.9463\n",
            "\n",
            "Epoch 00014: accuracy did not improve from 0.94349\n",
            "Epoch 15/50\n",
            "2159/2159 [==============================] - 0s 60us/step - loss: 0.2141 - accuracy: 0.9463 - val_loss: 0.2345 - val_accuracy: 0.9500\n",
            "\n",
            "Epoch 00015: accuracy improved from 0.94349 to 0.94627, saving model to model.h5\n",
            "Epoch 16/50\n",
            "2159/2159 [==============================] - 0s 63us/step - loss: 0.2027 - accuracy: 0.9491 - val_loss: 0.2246 - val_accuracy: 0.9500\n",
            "\n",
            "Epoch 00016: accuracy improved from 0.94627 to 0.94905, saving model to model.h5\n",
            "Epoch 17/50\n",
            "2159/2159 [==============================] - 0s 59us/step - loss: 0.1930 - accuracy: 0.9509 - val_loss: 0.2171 - val_accuracy: 0.9519\n",
            "\n",
            "Epoch 00017: accuracy improved from 0.94905 to 0.95090, saving model to model.h5\n",
            "Epoch 18/50\n",
            "2159/2159 [==============================] - 0s 59us/step - loss: 0.1841 - accuracy: 0.9541 - val_loss: 0.2093 - val_accuracy: 0.9519\n",
            "\n",
            "Epoch 00018: accuracy improved from 0.95090 to 0.95415, saving model to model.h5\n",
            "Epoch 19/50\n",
            "2159/2159 [==============================] - 0s 62us/step - loss: 0.1764 - accuracy: 0.9555 - val_loss: 0.2037 - val_accuracy: 0.9537\n",
            "\n",
            "Epoch 00019: accuracy improved from 0.95415 to 0.95553, saving model to model.h5\n",
            "Epoch 20/50\n",
            "2159/2159 [==============================] - 0s 60us/step - loss: 0.1694 - accuracy: 0.9560 - val_loss: 0.1974 - val_accuracy: 0.9519\n",
            "\n",
            "Epoch 00020: accuracy improved from 0.95553 to 0.95600, saving model to model.h5\n",
            "Epoch 21/50\n",
            "2159/2159 [==============================] - 0s 67us/step - loss: 0.1631 - accuracy: 0.9611 - val_loss: 0.1923 - val_accuracy: 0.9519\n",
            "\n",
            "Epoch 00021: accuracy improved from 0.95600 to 0.96109, saving model to model.h5\n",
            "Epoch 22/50\n",
            "2159/2159 [==============================] - 0s 62us/step - loss: 0.1570 - accuracy: 0.9616 - val_loss: 0.1878 - val_accuracy: 0.9500\n",
            "\n",
            "Epoch 00022: accuracy improved from 0.96109 to 0.96156, saving model to model.h5\n",
            "Epoch 23/50\n",
            "2159/2159 [==============================] - 0s 62us/step - loss: 0.1519 - accuracy: 0.9629 - val_loss: 0.1829 - val_accuracy: 0.9500\n",
            "\n",
            "Epoch 00023: accuracy improved from 0.96156 to 0.96295, saving model to model.h5\n",
            "Epoch 24/50\n",
            "2159/2159 [==============================] - 0s 58us/step - loss: 0.1471 - accuracy: 0.9643 - val_loss: 0.1792 - val_accuracy: 0.9500\n",
            "\n",
            "Epoch 00024: accuracy improved from 0.96295 to 0.96434, saving model to model.h5\n",
            "Epoch 25/50\n",
            "2159/2159 [==============================] - 0s 61us/step - loss: 0.1426 - accuracy: 0.9643 - val_loss: 0.1761 - val_accuracy: 0.9500\n",
            "\n",
            "Epoch 00025: accuracy did not improve from 0.96434\n",
            "Epoch 26/50\n",
            "2159/2159 [==============================] - 0s 62us/step - loss: 0.1384 - accuracy: 0.9667 - val_loss: 0.1722 - val_accuracy: 0.9500\n",
            "\n",
            "Epoch 00026: accuracy improved from 0.96434 to 0.96665, saving model to model.h5\n",
            "Epoch 27/50\n",
            "2159/2159 [==============================] - 0s 61us/step - loss: 0.1346 - accuracy: 0.9662 - val_loss: 0.1695 - val_accuracy: 0.9500\n",
            "\n",
            "Epoch 00027: accuracy did not improve from 0.96665\n",
            "Epoch 28/50\n",
            "2159/2159 [==============================] - 0s 60us/step - loss: 0.1308 - accuracy: 0.9676 - val_loss: 0.1656 - val_accuracy: 0.9519\n",
            "\n",
            "Epoch 00028: accuracy improved from 0.96665 to 0.96758, saving model to model.h5\n",
            "Epoch 29/50\n",
            "2159/2159 [==============================] - 0s 59us/step - loss: 0.1275 - accuracy: 0.9671 - val_loss: 0.1646 - val_accuracy: 0.9481\n",
            "\n",
            "Epoch 00029: accuracy did not improve from 0.96758\n",
            "Epoch 30/50\n",
            "2159/2159 [==============================] - 0s 65us/step - loss: 0.1242 - accuracy: 0.9680 - val_loss: 0.1618 - val_accuracy: 0.9481\n",
            "\n",
            "Epoch 00030: accuracy improved from 0.96758 to 0.96804, saving model to model.h5\n",
            "Epoch 31/50\n",
            "2159/2159 [==============================] - 0s 61us/step - loss: 0.1213 - accuracy: 0.9680 - val_loss: 0.1588 - val_accuracy: 0.9519\n",
            "\n",
            "Epoch 00031: accuracy did not improve from 0.96804\n",
            "Epoch 32/50\n",
            "2159/2159 [==============================] - 0s 60us/step - loss: 0.1186 - accuracy: 0.9685 - val_loss: 0.1566 - val_accuracy: 0.9500\n",
            "\n",
            "Epoch 00032: accuracy improved from 0.96804 to 0.96850, saving model to model.h5\n",
            "Epoch 33/50\n",
            "2159/2159 [==============================] - 0s 61us/step - loss: 0.1160 - accuracy: 0.9685 - val_loss: 0.1546 - val_accuracy: 0.9500\n",
            "\n",
            "Epoch 00033: accuracy did not improve from 0.96850\n",
            "Epoch 34/50\n",
            "2159/2159 [==============================] - 0s 61us/step - loss: 0.1135 - accuracy: 0.9690 - val_loss: 0.1525 - val_accuracy: 0.9519\n",
            "\n",
            "Epoch 00034: accuracy improved from 0.96850 to 0.96897, saving model to model.h5\n",
            "Epoch 35/50\n",
            "2159/2159 [==============================] - 0s 65us/step - loss: 0.1109 - accuracy: 0.9708 - val_loss: 0.1514 - val_accuracy: 0.9500\n",
            "\n",
            "Epoch 00035: accuracy improved from 0.96897 to 0.97082, saving model to model.h5\n",
            "Epoch 36/50\n",
            "2159/2159 [==============================] - 0s 61us/step - loss: 0.1089 - accuracy: 0.9704 - val_loss: 0.1494 - val_accuracy: 0.9500\n",
            "\n",
            "Epoch 00036: accuracy did not improve from 0.97082\n",
            "Epoch 37/50\n",
            "2159/2159 [==============================] - 0s 64us/step - loss: 0.1067 - accuracy: 0.9713 - val_loss: 0.1475 - val_accuracy: 0.9519\n",
            "\n",
            "Epoch 00037: accuracy improved from 0.97082 to 0.97128, saving model to model.h5\n",
            "Epoch 38/50\n",
            "2159/2159 [==============================] - 0s 60us/step - loss: 0.1046 - accuracy: 0.9717 - val_loss: 0.1460 - val_accuracy: 0.9500\n",
            "\n",
            "Epoch 00038: accuracy improved from 0.97128 to 0.97175, saving model to model.h5\n",
            "Epoch 39/50\n",
            "2159/2159 [==============================] - 0s 62us/step - loss: 0.1027 - accuracy: 0.9736 - val_loss: 0.1447 - val_accuracy: 0.9500\n",
            "\n",
            "Epoch 00039: accuracy improved from 0.97175 to 0.97360, saving model to model.h5\n",
            "Epoch 40/50\n",
            "2159/2159 [==============================] - 0s 60us/step - loss: 0.1008 - accuracy: 0.9736 - val_loss: 0.1429 - val_accuracy: 0.9500\n",
            "\n",
            "Epoch 00040: accuracy did not improve from 0.97360\n",
            "Epoch 41/50\n",
            "2159/2159 [==============================] - 0s 59us/step - loss: 0.0991 - accuracy: 0.9727 - val_loss: 0.1416 - val_accuracy: 0.9500\n",
            "\n",
            "Epoch 00041: accuracy did not improve from 0.97360\n",
            "Epoch 42/50\n",
            "2159/2159 [==============================] - 0s 60us/step - loss: 0.0973 - accuracy: 0.9727 - val_loss: 0.1399 - val_accuracy: 0.9537\n",
            "\n",
            "Epoch 00042: accuracy did not improve from 0.97360\n",
            "Epoch 43/50\n",
            "2159/2159 [==============================] - 0s 60us/step - loss: 0.0956 - accuracy: 0.9750 - val_loss: 0.1390 - val_accuracy: 0.9519\n",
            "\n",
            "Epoch 00043: accuracy improved from 0.97360 to 0.97499, saving model to model.h5\n",
            "Epoch 44/50\n",
            "2159/2159 [==============================] - 0s 59us/step - loss: 0.0942 - accuracy: 0.9736 - val_loss: 0.1376 - val_accuracy: 0.9500\n",
            "\n",
            "Epoch 00044: accuracy did not improve from 0.97499\n",
            "Epoch 45/50\n",
            "2159/2159 [==============================] - 0s 62us/step - loss: 0.0925 - accuracy: 0.9773 - val_loss: 0.1367 - val_accuracy: 0.9500\n",
            "\n",
            "Epoch 00045: accuracy improved from 0.97499 to 0.97730, saving model to model.h5\n",
            "Epoch 46/50\n",
            "2159/2159 [==============================] - 0s 61us/step - loss: 0.0913 - accuracy: 0.9755 - val_loss: 0.1350 - val_accuracy: 0.9481\n",
            "\n",
            "Epoch 00046: accuracy did not improve from 0.97730\n",
            "Epoch 47/50\n",
            "2159/2159 [==============================] - 0s 59us/step - loss: 0.0898 - accuracy: 0.9750 - val_loss: 0.1336 - val_accuracy: 0.9481\n",
            "\n",
            "Epoch 00047: accuracy did not improve from 0.97730\n",
            "Epoch 48/50\n",
            "2159/2159 [==============================] - 0s 60us/step - loss: 0.0885 - accuracy: 0.9745 - val_loss: 0.1329 - val_accuracy: 0.9463\n",
            "\n",
            "Epoch 00048: accuracy did not improve from 0.97730\n",
            "Epoch 49/50\n",
            "2159/2159 [==============================] - 0s 59us/step - loss: 0.0870 - accuracy: 0.9764 - val_loss: 0.1315 - val_accuracy: 0.9463\n",
            "\n",
            "Epoch 00049: accuracy did not improve from 0.97730\n",
            "Epoch 50/50\n",
            "2159/2159 [==============================] - 0s 60us/step - loss: 0.0856 - accuracy: 0.9755 - val_loss: 0.1310 - val_accuracy: 0.9463\n",
            "\n",
            "Epoch 00050: accuracy did not improve from 0.97730\n"
          ],
          "name": "stdout"
        }
      ]
    },
    {
      "cell_type": "code",
      "metadata": {
        "id": "uuY6wTA84nJ7",
        "colab_type": "code",
        "colab": {
          "base_uri": "https://localhost:8080/",
          "height": 53
        },
        "outputId": "09463368-f0cd-4d33-a67e-48d7f6975986"
      },
      "source": [
        "# serialize model to JSON\n",
        "model_json = model_d.to_json()\n",
        "with open(\"model.json\", \"w\") as json_file:\n",
        "    json_file.write(model_json)\n",
        "# serialize weights to HDF5\n",
        "model_d.save_weights(\"model.h5\")\n",
        "print(\"Saved model to disk\")\n",
        "\n",
        "# later...\n",
        "\n",
        "# load json and create model\n",
        "json_file = open('model.json', 'r')\n",
        "loaded_model_json = json_file.read()\n",
        "json_file.close()\n",
        "model_d = model_from_json(loaded_model_json)\n",
        "# load weights into new model\n",
        "model_d.load_weights(\"model.h5\")\n",
        "print(\"Loaded model from disk\")"
      ],
      "execution_count": null,
      "outputs": [
        {
          "output_type": "stream",
          "text": [
            "Saved model to disk\n",
            "Loaded model from disk\n"
          ],
          "name": "stdout"
        }
      ]
    },
    {
      "cell_type": "code",
      "metadata": {
        "id": "qgsMrQAv4qG4",
        "colab_type": "code",
        "colab": {
          "base_uri": "https://localhost:8080/",
          "height": 313
        },
        "outputId": "45be510e-3617-41e1-a4d0-1dc72848c785"
      },
      "source": [
        "import matplotlib.pyplot as plt\n",
        "%matplotlib inline \n",
        "# list all data in hist\n",
        "print(hist.history.keys())\n",
        "plt.plot(hist.history['loss'])\n",
        "plt.plot(hist.history['val_loss'])\n",
        "plt.title('model loss')\n",
        "plt.ylabel('loss')\n",
        "plt.xlabel('epoch')\n",
        "plt.legend(['train', 'validation'], loc='upper left')\n",
        "plt.show()"
      ],
      "execution_count": null,
      "outputs": [
        {
          "output_type": "stream",
          "text": [
            "dict_keys(['val_loss', 'val_accuracy', 'loss', 'accuracy'])\n"
          ],
          "name": "stdout"
        },
        {
          "output_type": "display_data",
          "data": {
            "image/png": "[encoded data removed]",
            "text/plain": [
              "<Figure size 432x288 with 1 Axes>"
            ]
          },
          "metadata": {
            "tags": [],
            "needs_background": "light"
          }
        }
      ]
    },
    {
      "cell_type": "code",
      "metadata": {
        "id": "lESqfQIu4sKm",
        "colab_type": "code",
        "colab": {
          "base_uri": "https://localhost:8080/",
          "height": 233
        },
        "outputId": "7c6afa18-b2b2-463f-eed3-8dfc6699e18d"
      },
      "source": [
        " # Printing Classification report\n",
        "from sklearn.metrics import confusion_matrix\n",
        "from sklearn.metrics import classification_report\n",
        "x_pred = model_d.predict(X_test_d)\n",
        "# x_pred = np.round(x_pred)\n",
        "x_pred = x_pred.argmax(axis=2)\n",
        "print(classification_report(y_test, x_pred ,target_names = ['bassoon', 'clarinet' , 'saxophone' , 'violin','voi']))"
      ],
      "execution_count": null,
      "outputs": [
        {
          "output_type": "stream",
          "text": [
            "              precision    recall  f1-score   support\n",
            "\n",
            "     bassoon       0.98      0.99      0.99       185\n",
            "    clarinet       0.95      0.93      0.94       183\n",
            "   saxophone       0.92      0.97      0.95       156\n",
            "      violin       0.99      0.98      0.98       194\n",
            "         voi       0.98      0.95      0.96       182\n",
            "\n",
            "    accuracy                           0.97       900\n",
            "   macro avg       0.96      0.97      0.96       900\n",
            "weighted avg       0.97      0.97      0.97       900\n",
            "\n"
          ],
          "name": "stdout"
        }
      ]
    },
    {
      "cell_type": "code",
      "metadata": {
        "id": "xbkUzhJl4uZ8",
        "colab_type": "code",
        "colab": {
          "base_uri": "https://localhost:8080/",
          "height": 721
        },
        "outputId": "1d727ad4-ef6b-4886-fa9d-df68718bdb6a"
      },
      "source": [
        "from sklearn.metrics import confusion_matrix\n",
        "import seaborn as sns\n",
        "cf_matrix = confusion_matrix(y_test, predicted)\n",
        "sns.set(rc={'figure.figsize':(12,12)})\n",
        "sns.heatmap(cf_matrix, annot=True , cmap = 'Blues', xticklabels = classes ,yticklabels= classes  )"
      ],
      "execution_count": null,
      "outputs": [
        {
          "output_type": "execute_result",
          "data": {
            "text/plain": [
              "<matplotlib.axes._subplots.AxesSubplot at 0x7f2076b39710>"
            ]
          },
          "metadata": {
            "tags": []
          },
          "execution_count": 27
        },
        {
          "output_type": "display_data",
          "data": {
            "image/png": "[encoded data removed]",
            "text/plain": [
              "<Figure size 864x864 with 2 Axes>"
            ]
          },
          "metadata": {
            "tags": []
          }
        }
      ]
    }
  ]
}