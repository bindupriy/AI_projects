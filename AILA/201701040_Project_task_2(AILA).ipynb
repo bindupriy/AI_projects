{
  "nbformat": 4,
  "nbformat_minor": 0,
  "metadata": {
    "colab": {
      "name": "201701040_Project_task_2(AILA).ipynb",
      "provenance": [],
      "collapsed_sections": []
    },
    "kernelspec": {
      "name": "python3",
      "display_name": "Python 3"
    }
  },
  "cells": [
    {
      "cell_type": "code",
      "metadata": {
        "id": "dIf_vaMEWPXk",
        "colab_type": "code",
        "colab": {}
      },
      "source": [
        "import os\n",
        "from xml.dom import minidom\n",
        "import pandas as pd\n",
        "import numpy as np \n",
        "import nltk\n",
        "import gzip\n",
        "import gensim \n",
        "import logging,re\n",
        "logging.basicConfig(format='%(asctime)s : %(levelname)s : %(message)s', level=logging.INFO)"
      ],
      "execution_count": 0,
      "outputs": []
    },
    {
      "cell_type": "code",
      "metadata": {
        "id": "MCNFeIEUWSHg",
        "colab_type": "code",
        "outputId": "75501bcc-fe75-494f-87e2-c2441f809b6a",
        "colab": {
          "base_uri": "https://localhost:8080/",
          "height": 127
        }
      },
      "source": [
        "from google.colab import drive\n",
        "drive.mount('/content/drive')"
      ],
      "execution_count": 0,
      "outputs": [
        {
          "output_type": "stream",
          "text": [
            "Go to this URL in a browser: https://accounts.google.com/o/oauth2/auth?client_id=947318989803-6bn6qk8qdgf4n4g3pfee6491hc0brc4i.apps.googleusercontent.com&redirect_uri=urn%3aietf%3awg%3aoauth%3a2.0%3aoob&response_type=code&scope=email%20https%3a%2f%2fwww.googleapis.com%2fauth%2fdocs.test%20https%3a%2f%2fwww.googleapis.com%2fauth%2fdrive%20https%3a%2f%2fwww.googleapis.com%2fauth%2fdrive.photos.readonly%20https%3a%2f%2fwww.googleapis.com%2fauth%2fpeopleapi.readonly\n",
            "\n",
            "Enter your authorization code:\n",
            "··········\n",
            "Mounted at /content/drive\n"
          ],
          "name": "stdout"
        }
      ]
    },
    {
      "cell_type": "markdown",
      "metadata": {
        "id": "wP2JDGIdPiS5",
        "colab_type": "text"
      },
      "source": [
        "**Extracting text from Query and statue documents**"
      ]
    },
    {
      "cell_type": "code",
      "metadata": {
        "id": "tSoxWTaUWU6X",
        "colab_type": "code",
        "colab": {}
      },
      "source": [
        "directory = os.getcwd()\n",
        "dirr = '/content/drive/My Drive/AILA-data/'\n",
        "tmp = open(dirr+\"Query_doc.txt\", \"r\") \n",
        "temp = tmp.read()\n",
        "tmp.close()\n",
        "queries = temp.split(\"\\n\")\n",
        "queries.remove(queries[-1])\n",
        "query_docs = []\n",
        "query_labels = []\n",
        "query_words = []\n",
        "for i in range(len(queries)):\n",
        "    elem = queries[i].split(\"||\")\n",
        "    query_docs.append(elem[1])\n",
        "    query_labels.append(elem[0])\n",
        "    query_words.append(re.split('\\W+',elem[1]))"
      ],
      "execution_count": 0,
      "outputs": []
    },
    {
      "cell_type": "code",
      "metadata": {
        "id": "uiRYVgX7WcoP",
        "colab_type": "code",
        "outputId": "2732a42c-1bc0-44bd-e652-2e16543bd588",
        "colab": {
          "base_uri": "https://localhost:8080/",
          "height": 89
        }
      },
      "source": [
        "# Extract text from inside\n",
        "\n",
        "def preprocess(directory):\n",
        "    statute_files = os.listdir(directory)\n",
        "    statute_docs =[]\n",
        "    statute_words = []\n",
        "    for i in range(len(statute_files)):\n",
        "        if i%50 ==0:\n",
        "            print(\"Processing : \" , i )\n",
        "        path = directory+'/'+statute_files[i]\n",
        "        f = open(path, \"r\")\n",
        "        statute_docs.append(f.read())\n",
        "        statute_words.append(re.split('\\W+',statute_docs[i]))\n",
        "    return statute_docs,statute_words,statute_files\n",
        "\n",
        "prior_statute_docs, prior_statute_words,prior_statute_labels = preprocess(dirr+'Object_statutes')\n",
        "  \n",
        "data =  query_docs + prior_statute_docs\n",
        "words = query_words + prior_statute_words\n",
        "labels = query_labels + prior_statute_labels"
      ],
      "execution_count": 0,
      "outputs": [
        {
          "output_type": "stream",
          "text": [
            "Processing :  0\n",
            "Processing :  50\n",
            "Processing :  100\n",
            "Processing :  150\n"
          ],
          "name": "stdout"
        }
      ]
    },
    {
      "cell_type": "markdown",
      "metadata": {
        "id": "mCSZdB4sPvLH",
        "colab_type": "text"
      },
      "source": [
        "**Pre-processing the text**"
      ]
    },
    {
      "cell_type": "code",
      "metadata": {
        "id": "xmKWvVQGWja5",
        "colab_type": "code",
        "outputId": "4443bde9-a95c-4f54-cec5-3cf456d3b1d6",
        "colab": {
          "base_uri": "https://localhost:8080/",
          "height": 215
        }
      },
      "source": [
        "import nltk\n",
        "from nltk.corpus import wordnet as wn\n",
        "from nltk.stem.wordnet import WordNetLemmatizer\n",
        "import re\n",
        "from nltk.corpus import stopwords\n",
        "\n",
        "nltk.download('wordnet')\n",
        "nltk.download('stopwords')\n",
        "nltk.download('words')\n",
        "lemma = WordNetLemmatizer()\n",
        "lemma_dictionary = {}\n",
        "stop_words = set(stopwords.words('english'))\n",
        "dict_words = set(nltk.corpus.words.words())\n",
        "def filt(statute_docs):\n",
        "    filtered_words =[]\n",
        "    filtered_docs = [ '' for i in range(len(statute_docs))]\n",
        "    lemma_docs = [ '' for i in range(len(statute_docs))]\n",
        "    for i in range(len(statute_docs)):\n",
        "        if i%50 ==0:\n",
        "            print(\"Processing : \", i)\n",
        "        statute_words = re.split(\"(?:(?:[^a-zA-Z]+')|(?:'[^a-zA-Z]+))|(?:[^a-zA-Z']+)\", statute_docs[i])\n",
        "        filtered_word_list = [word.lower() for word in statute_words if (( len(word) >= 3 and word.lower() not in stop_words ))  ]    #removing stop words\n",
        "        filtered_words.append(filtered_word_list)\n",
        "        for word in filtered_word_list:\n",
        "            filtered_docs[i] = filtered_docs[i] + word + \" \"\n",
        "            lemma_docs[i] = lemma_docs[i] + lemma.lemmatize(word) + \" \"  #word net lemmatization\n",
        "    return lemma_docs\n",
        "filtered_docs = filt(data)"
      ],
      "execution_count": 0,
      "outputs": [
        {
          "output_type": "stream",
          "text": [
            "[nltk_data] Downloading package wordnet to /root/nltk_data...\n",
            "[nltk_data]   Unzipping corpora/wordnet.zip.\n",
            "[nltk_data] Downloading package stopwords to /root/nltk_data...\n",
            "[nltk_data]   Unzipping corpora/stopwords.zip.\n",
            "[nltk_data] Downloading package words to /root/nltk_data...\n",
            "[nltk_data]   Unzipping corpora/words.zip.\n",
            "Processing :  0\n",
            "Processing :  50\n",
            "Processing :  100\n",
            "Processing :  150\n",
            "Processing :  200\n"
          ],
          "name": "stdout"
        }
      ]
    },
    {
      "cell_type": "markdown",
      "metadata": {
        "id": "4kqSwbQ0Px2B",
        "colab_type": "text"
      },
      "source": [
        "**BM25 Method**"
      ]
    },
    {
      "cell_type": "code",
      "metadata": {
        "id": "EWZY1m5jX2IT",
        "colab_type": "code",
        "outputId": "28a6a846-49bb-40d6-fab0-2e74aaa88b2a",
        "colab": {
          "base_uri": "https://localhost:8080/",
          "height": 35
        }
      },
      "source": [
        "from gensim.summarization.bm25 import get_bm25_weights\n",
        "from gensim.summarization.bm25 import BM25\n",
        "\n",
        "\n",
        "sim = [[] for i in range(40)]\n",
        "\n",
        "query_no = 0\n",
        "batch_size = 200 # BM25 on batch of 50 at a time. Insufficient memory in case of all at once.\n",
        "for t in range((len(data)-50)// batch_size +1): \n",
        "  print(t)\n",
        "  arr = []\n",
        "  docs_seperator = filtered_docs[:50] + filtered_docs[50+batch_size*t:50+batch_size*(t+1)]\n",
        "  for elem in docs_seperator:\n",
        "    arr.append(elem.split())\n",
        "  corpus = arr\n",
        "  result = get_bm25_weights(corpus, n_jobs=-1)\n",
        "  \n",
        "  for i in range(50,len(result)):\n",
        "    for z in range(40):\n",
        "      x = result[z][z]\n",
        "      sim[z].append(result[z+10][i]/x)"
      ],
      "execution_count": 0,
      "outputs": [
        {
          "output_type": "stream",
          "text": [
            "0\n"
          ],
          "name": "stdout"
        }
      ]
    },
    {
      "cell_type": "markdown",
      "metadata": {
        "id": "lGnmeHM5qYFk",
        "colab_type": "text"
      },
      "source": [
        "**Saving the similarity scores of Query with case documents in decreasing order of required format for BM25 model**"
      ]
    },
    {
      "cell_type": "code",
      "metadata": {
        "id": "Pg2daUlpKeu5",
        "colab_type": "code",
        "colab": {}
      },
      "source": [
        "f = open(\"BM25-task2.txt\",\"w+\")\n",
        "for z in range(40):\n",
        "  lst = []\n",
        "  assert len(sim[z]) == 197\n",
        "  for i in range(len(sim[z])):\n",
        "    lst.append((sim[z][i],i))\n",
        "  lst.sort(reverse = True)\n",
        "  for i in range(len(lst)):\n",
        "    f.write(\"AILA_Q\"+str(z+11) +\" \"+ \"Q0\" + \" \"+ prior_statute_labels[lst[i][1]][:-4] + \" \"+  str(i+1) +\" \"+ str( lst[i][0])+ \" \" + \"cat\" + \"\\n\")\n",
        "    "
      ],
      "execution_count": 0,
      "outputs": []
    },
    {
      "cell_type": "markdown",
      "metadata": {
        "id": "WPuBfeq3P3OP",
        "colab_type": "text"
      },
      "source": [
        "**UPLOADING goldstd_statute.txt file **"
      ]
    },
    {
      "cell_type": "code",
      "metadata": {
        "id": "dOFyYYU2NZDx",
        "colab_type": "code",
        "outputId": "f1cafb32-2a51-4142-f413-d24eaf340fe1",
        "colab": {
          "resources": {
            "http://localhost:8080/nbextensions/google.colab/files.js": {
              "data": "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",
              "ok": true,
              "headers": [
                [
                  "content-type",
                  "application/javascript"
                ]
              ],
              "status": 200,
              "status_text": ""
            }
          },
          "base_uri": "https://localhost:8080/",
          "height": 75
        }
      },
      "source": [
        "from google.colab import files\n",
        "uploaded = files.upload()"
      ],
      "execution_count": 0,
      "outputs": [
        {
          "output_type": "display_data",
          "data": {
            "text/html": [
              "\n",
              "     <input type=\"file\" id=\"files-5f92e0c9-a292-4a7e-be27-041b9fc2e0be\" name=\"files[]\" multiple disabled />\n",
              "     <output id=\"result-5f92e0c9-a292-4a7e-be27-041b9fc2e0be\">\n",
              "      Upload widget is only available when the cell has been executed in the\n",
              "      current browser session. Please rerun this cell to enable.\n",
              "      </output>\n",
              "      <script src=\"/nbextensions/google.colab/files.js\"></script> "
            ],
            "text/plain": [
              "<IPython.core.display.HTML object>"
            ]
          },
          "metadata": {
            "tags": []
          }
        },
        {
          "output_type": "stream",
          "text": [
            "Saving goldstd_statute.txt to goldstd_statute.txt\n"
          ],
          "name": "stdout"
        }
      ]
    },
    {
      "cell_type": "markdown",
      "metadata": {
        "id": "uypQSIEyPUCB",
        "colab_type": "text"
      },
      "source": [
        "**Another Method**"
      ]
    },
    {
      "cell_type": "markdown",
      "metadata": {
        "id": "6r3Py8EaPdjL",
        "colab_type": "text"
      },
      "source": [
        "**TF-IDF Method**"
      ]
    },
    {
      "cell_type": "code",
      "metadata": {
        "id": "VP09wKGhXgr7",
        "colab_type": "code",
        "colab": {}
      },
      "source": [
        "from sklearn.feature_extraction.text import TfidfVectorizer\n",
        "vect = TfidfVectorizer()\n",
        "tfidf = vect.fit_transform(filtered_docs)\n",
        "tf_idf = (tfidf * tfidf.T).A"
      ],
      "execution_count": 0,
      "outputs": []
    },
    {
      "cell_type": "code",
      "metadata": {
        "id": "VMFOcdJX49lx",
        "colab_type": "code",
        "colab": {}
      },
      "source": [
        "simm = [[] for i in range(40)]\n",
        "for i in range(50,len(tf_idf)):\n",
        "  for z in range(40):\n",
        "    simm[z].append(tf_idf[z+10][i])"
      ],
      "execution_count": 0,
      "outputs": []
    },
    {
      "cell_type": "markdown",
      "metadata": {
        "id": "EgRutcdq9zWa",
        "colab_type": "text"
      },
      "source": [
        "**Saving the similarity scores of Query with case documents in decreasing order of required format for TF-IDF model**"
      ]
    },
    {
      "cell_type": "code",
      "metadata": {
        "id": "HzH1Bf9X49pC",
        "colab_type": "code",
        "colab": {}
      },
      "source": [
        "f = open(\"TFIDF-task2.txt\",\"w+\")\n",
        "for z in range(40):\n",
        "  lst = []\n",
        "  assert len(simm[z]) == 197\n",
        "  for i in range(len(simm[z])):\n",
        "    lst.append((simm[z][i],i))\n",
        "  lst.sort(reverse = True)\n",
        "  for i in range(len(lst)):\n",
        "    f.write(\"AILA_Q\"+str(z+11) +\" \"+ \"S0\" + \" \"+ prior_statute_labels[lst[i][1]][:-4] + \" \"+  str(i+1) +\" \"+ str( lst[i][0])+ \" \" + \"cat2\" + \"\\n\")\n",
        "    "
      ],
      "execution_count": 0,
      "outputs": []
    },
    {
      "cell_type": "markdown",
      "metadata": {
        "id": "Bw_7Pqxy6oyS",
        "colab_type": "text"
      },
      "source": [
        "**TREC_EVALUATION FOR TF-IDF METHOD**"
      ]
    },
    {
      "cell_type": "code",
      "metadata": {
        "id": "vZ3efkz2jvrZ",
        "colab_type": "code",
        "outputId": "79805425-d125-48a6-fdad-37224b2b866c",
        "colab": {
          "base_uri": "https://localhost:8080/",
          "height": 215
        }
      },
      "source": [
        "!wget https://trec.nist.gov/trec_eval/trec_eval_latest.tar.gz"
      ],
      "execution_count": 0,
      "outputs": [
        {
          "output_type": "stream",
          "text": [
            "--2020-05-03 13:05:10--  https://trec.nist.gov/trec_eval/trec_eval_latest.tar.gz\n",
            "Resolving trec.nist.gov (trec.nist.gov)... 132.163.4.36, 2610:20:6b01:4::36\n",
            "Connecting to trec.nist.gov (trec.nist.gov)|132.163.4.36|:443... connected.\n",
            "HTTP request sent, awaiting response... 200 OK\n",
            "Length: 181743 (177K) [application/x-gzip]\n",
            "Saving to: ‘trec_eval_latest.tar.gz’\n",
            "\n",
            "\rtrec_eval_latest.ta   0%[                    ]       0  --.-KB/s               \rtrec_eval_latest.ta 100%[===================>] 177.48K  --.-KB/s    in 0.1s    \n",
            "\n",
            "2020-05-03 13:05:11 (1.75 MB/s) - ‘trec_eval_latest.tar.gz’ saved [181743/181743]\n",
            "\n"
          ],
          "name": "stdout"
        }
      ]
    },
    {
      "cell_type": "code",
      "metadata": {
        "id": "iqZ0rjr9jvuK",
        "colab_type": "code",
        "colab": {}
      },
      "source": [
        "!tar -xf trec_eval_latest.tar.gz\n",
        "!rm -r trec_eval_latest.tar.gz"
      ],
      "execution_count": 0,
      "outputs": []
    },
    {
      "cell_type": "code",
      "metadata": {
        "id": "ECu7iJyQjvxF",
        "colab_type": "code",
        "outputId": "f5cb9d6a-e097-4b94-b554-3c9ee7313176",
        "colab": {
          "base_uri": "https://localhost:8080/",
          "height": 35
        }
      },
      "source": [
        "cd trec_eval-9.0.7/"
      ],
      "execution_count": 0,
      "outputs": [
        {
          "output_type": "stream",
          "text": [
            "/content/trec_eval-9.0.7\n"
          ],
          "name": "stdout"
        }
      ]
    },
    {
      "cell_type": "markdown",
      "metadata": {
        "id": "VowEnPs-6uQH",
        "colab_type": "text"
      },
      "source": [
        "**SCORES FOR Prec@5,10 and MAP**"
      ]
    },
    {
      "cell_type": "code",
      "metadata": {
        "colab_type": "code",
        "outputId": "18fb6ce8-8509-4b4d-e7ff-ad16a4cd41a0",
        "id": "noKWVkvS8yp9",
        "colab": {
          "base_uri": "https://localhost:8080/",
          "height": 55
        }
      },
      "source": [
        "!make"
      ],
      "execution_count": 0,
      "outputs": [
        {
          "output_type": "stream",
          "text": [
            "gcc -g -I.  -Wall -DVERSIONID=\\\"9.0.7\\\"  -o trec_eval trec_eval.c formats.c meas_init.c meas_acc.c meas_avg.c meas_print_single.c meas_print_final.c get_qrels.c get_trec_results.c get_prefs.c get_qrels_prefs.c get_qrels_jg.c form_res_rels.c form_res_rels_jg.c form_prefs_counts.c utility_pool.c get_zscores.c convert_zscores.c measures.c  m_map.c m_P.c m_num_q.c m_num_ret.c m_num_rel.c m_num_rel_ret.c m_gm_map.c m_Rprec.c m_recip_rank.c m_bpref.c m_iprec_at_recall.c m_recall.c m_Rprec_mult.c m_utility.c m_11pt_avg.c m_ndcg.c m_ndcg_cut.c m_Rndcg.c m_ndcg_rel.c m_binG.c m_G.c m_rel_P.c m_success.c m_infap.c m_map_cut.c m_gm_bpref.c m_runid.c m_relstring.c m_set_P.c m_set_recall.c m_set_rel_P.c m_set_map.c m_set_F.c m_num_nonrel_judged_ret.c m_prefs_num_prefs_poss.c m_prefs_num_prefs_ful.c m_prefs_num_prefs_ful_ret.c m_prefs_simp.c m_prefs_pair.c m_prefs_avgjg.c m_prefs_avgjg_Rnonrel.c m_prefs_simp_ret.c m_prefs_pair_ret.c m_prefs_avgjg_ret.c m_prefs_avgjg_Rnonrel_ret.c m_prefs_simp_imp.c m_prefs_pair_imp.c m_prefs_avgjg_imp.c m_map_avgjg.c m_Rprec_mult_avgjg.c m_P_avgjg.c m_yaap.c -lm\n"
          ],
          "name": "stdout"
        }
      ]
    },
    {
      "cell_type": "markdown",
      "metadata": {
        "id": "3AGrMeeRnNjn",
        "colab_type": "text"
      },
      "source": [
        "**For BM25 method**"
      ]
    },
    {
      "cell_type": "code",
      "metadata": {
        "id": "RJoewxqskGfq",
        "colab_type": "code",
        "outputId": "d32b1a08-7d73-4cb4-a398-7776dfc2fd35",
        "colab": {
          "base_uri": "https://localhost:8080/",
          "height": 71
        }
      },
      "source": [
        "! ./trec_eval -m map -m P.5,10 ../goldstd_statute.txt ../BM25-task2.txt"
      ],
      "execution_count": 0,
      "outputs": [
        {
          "output_type": "stream",
          "text": [
            "map                   \tall\t0.0963\n",
            "P_5                   \tall\t0.0850\n",
            "P_10                  \tall\t0.0650\n"
          ],
          "name": "stdout"
        }
      ]
    },
    {
      "cell_type": "markdown",
      "metadata": {
        "id": "SpVH93PznR5F",
        "colab_type": "text"
      },
      "source": [
        "**For TFIDF method**"
      ]
    },
    {
      "cell_type": "code",
      "metadata": {
        "colab_type": "code",
        "outputId": "e931cd70-da8c-441a-96ad-ed579f4b5114",
        "id": "260Vr9wq6lV4",
        "colab": {
          "base_uri": "https://localhost:8080/",
          "height": 71
        }
      },
      "source": [
        "! ./trec_eval -m map -m P.5,10 ../goldstd_statute.txt ../TF-IDF-task2.txt"
      ],
      "execution_count": 0,
      "outputs": [
        {
          "output_type": "stream",
          "text": [
            "map                   \tall\t0.1350\n",
            "P_5                   \tall\t0.1050\n",
            "P_10                  \tall\t0.0825\n"
          ],
          "name": "stdout"
        }
      ]
    }
  ]
}