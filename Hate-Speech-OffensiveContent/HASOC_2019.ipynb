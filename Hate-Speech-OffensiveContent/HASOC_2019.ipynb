{
  "nbformat": 4,
  "nbformat_minor": 0,
  "metadata": {
    "colab": {
      "name": "HASOC-2019.ipynb",
      "provenance": [],
      "collapsed_sections": []
    },
    "kernelspec": {
      "name": "python3",
      "display_name": "Python 3"
    }
  },
  "cells": [
    {
      "cell_type": "code",
      "metadata": {
        "id": "6xPDsQeU2OQQ",
        "colab_type": "code",
        "colab": {
          "base_uri": "https://localhost:8080/",
          "height": 127
        },
        "outputId": "96dabaa4-7a17-4f08-9bc7-509711966d33"
      },
      "source": [
        "from google.colab import drive\n",
        "drive.mount('/content/drive')"
      ],
      "execution_count": null,
      "outputs": [
        {
          "output_type": "stream",
          "text": [
            "Go to this URL in a browser: https://accounts.google.com/o/oauth2/auth?client_id=947318989803-6bn6qk8qdgf4n4g3pfee6491hc0brc4i.apps.googleusercontent.com&redirect_uri=urn%3aietf%3awg%3aoauth%3a2.0%3aoob&response_type=code&scope=email%20https%3a%2f%2fwww.googleapis.com%2fauth%2fdocs.test%20https%3a%2f%2fwww.googleapis.com%2fauth%2fdrive%20https%3a%2f%2fwww.googleapis.com%2fauth%2fdrive.photos.readonly%20https%3a%2f%2fwww.googleapis.com%2fauth%2fpeopleapi.readonly\n",
            "\n",
            "Enter your authorization code:\n",
            "··········\n",
            "Mounted at /content/drive\n"
          ],
          "name": "stdout"
        }
      ]
    },
    {
      "cell_type": "code",
      "metadata": {
        "id": "XMgeSVwO2h7v",
        "colab_type": "code",
        "colab": {
          "base_uri": "https://localhost:8080/",
          "height": 71
        },
        "outputId": "2ddd50db-a021-4bf3-be3d-5afd849e67ac"
      },
      "source": [
        "import nltk\n",
        "nltk.download('stopwords')"
      ],
      "execution_count": null,
      "outputs": [
        {
          "output_type": "stream",
          "text": [
            "[nltk_data] Downloading package stopwords to /root/nltk_data...\n",
            "[nltk_data]   Unzipping corpora/stopwords.zip.\n"
          ],
          "name": "stdout"
        },
        {
          "output_type": "execute_result",
          "data": {
            "text/plain": [
              "True"
            ]
          },
          "metadata": {
            "tags": []
          },
          "execution_count": 2
        }
      ]
    },
    {
      "cell_type": "code",
      "metadata": {
        "id": "CQvLp6d72mvY",
        "colab_type": "code",
        "colab": {
          "base_uri": "https://localhost:8080/",
          "height": 73
        },
        "outputId": "f833fdd1-ba72-4e6d-b5be-d8403e8ae90e"
      },
      "source": [
        "import pandas as pd\n",
        "%load_ext tensorboard\n",
        "import matplotlib.pyplot as plt\n",
        "import seaborn as sns\n",
        "import os\n",
        "import numpy as np\n",
        "import re"
      ],
      "execution_count": null,
      "outputs": [
        {
          "output_type": "stream",
          "text": [
            "/usr/local/lib/python3.6/dist-packages/statsmodels/tools/_testing.py:19: FutureWarning: pandas.util.testing is deprecated. Use the functions in the public API at pandas.testing instead.\n",
            "  import pandas.util.testing as tm\n"
          ],
          "name": "stderr"
        }
      ]
    },
    {
      "cell_type": "code",
      "metadata": {
        "id": "FQO4eG6n8iTJ",
        "colab_type": "code",
        "colab": {
          "base_uri": "https://localhost:8080/",
          "height": 359
        },
        "outputId": "652b8660-60ae-4298-bec1-5978cc274532"
      },
      "source": [
        "df = pd.read_csv('/content/drive/My Drive/english_dataset.tsv', sep='\\t')\n",
        "df[:10]"
      ],
      "execution_count": null,
      "outputs": [
        {
          "output_type": "execute_result",
          "data": {
            "text/html": [
              "<div>\n",
              "<style scoped>\n",
              "    .dataframe tbody tr th:only-of-type {\n",
              "        vertical-align: middle;\n",
              "    }\n",
              "\n",
              "    .dataframe tbody tr th {\n",
              "        vertical-align: top;\n",
              "    }\n",
              "\n",
              "    .dataframe thead th {\n",
              "        text-align: right;\n",
              "    }\n",
              "</style>\n",
              "<table border=\"1\" class=\"dataframe\">\n",
              "  <thead>\n",
              "    <tr style=\"text-align: right;\">\n",
              "      <th></th>\n",
              "      <th>text_id</th>\n",
              "      <th>text</th>\n",
              "      <th>task_1</th>\n",
              "      <th>task_2</th>\n",
              "      <th>task_3</th>\n",
              "    </tr>\n",
              "  </thead>\n",
              "  <tbody>\n",
              "    <tr>\n",
              "      <th>0</th>\n",
              "      <td>hasoc_en_1</td>\n",
              "      <td>#DhoniKeepsTheGlove | WATCH: Sports Minister K...</td>\n",
              "      <td>NOT</td>\n",
              "      <td>NONE</td>\n",
              "      <td>NONE</td>\n",
              "    </tr>\n",
              "    <tr>\n",
              "      <th>1</th>\n",
              "      <td>hasoc_en_2</td>\n",
              "      <td>@politico No. We should remember very clearly ...</td>\n",
              "      <td>HOF</td>\n",
              "      <td>HATE</td>\n",
              "      <td>TIN</td>\n",
              "    </tr>\n",
              "    <tr>\n",
              "      <th>2</th>\n",
              "      <td>hasoc_en_3</td>\n",
              "      <td>@cricketworldcup Guess who would be the winner...</td>\n",
              "      <td>NOT</td>\n",
              "      <td>NONE</td>\n",
              "      <td>NONE</td>\n",
              "    </tr>\n",
              "    <tr>\n",
              "      <th>3</th>\n",
              "      <td>hasoc_en_4</td>\n",
              "      <td>Corbyn is too politically intellectual for #Bo...</td>\n",
              "      <td>NOT</td>\n",
              "      <td>NONE</td>\n",
              "      <td>NONE</td>\n",
              "    </tr>\n",
              "    <tr>\n",
              "      <th>4</th>\n",
              "      <td>hasoc_en_5</td>\n",
              "      <td>All the best to #TeamIndia for another swimmin...</td>\n",
              "      <td>NOT</td>\n",
              "      <td>NONE</td>\n",
              "      <td>NONE</td>\n",
              "    </tr>\n",
              "    <tr>\n",
              "      <th>5</th>\n",
              "      <td>hasoc_en_6</td>\n",
              "      <td>@kellymiller513 @TheRealOJ32 I hope you rememb...</td>\n",
              "      <td>NOT</td>\n",
              "      <td>NONE</td>\n",
              "      <td>NONE</td>\n",
              "    </tr>\n",
              "    <tr>\n",
              "      <th>6</th>\n",
              "      <td>hasoc_en_7</td>\n",
              "      <td>@ICC Latest design of #WC2019 trophy. #CWC2019...</td>\n",
              "      <td>NOT</td>\n",
              "      <td>NONE</td>\n",
              "      <td>NONE</td>\n",
              "    </tr>\n",
              "    <tr>\n",
              "      <th>7</th>\n",
              "      <td>hasoc_en_8</td>\n",
              "      <td>#ADOS #trendingnow #blacklivesmatter #justice ...</td>\n",
              "      <td>HOF</td>\n",
              "      <td>PRFN</td>\n",
              "      <td>TIN</td>\n",
              "    </tr>\n",
              "    <tr>\n",
              "      <th>8</th>\n",
              "      <td>hasoc_en_9</td>\n",
              "      <td>Thanks for your support! Wow 600k. Graffiti ha...</td>\n",
              "      <td>NOT</td>\n",
              "      <td>NONE</td>\n",
              "      <td>NONE</td>\n",
              "    </tr>\n",
              "    <tr>\n",
              "      <th>9</th>\n",
              "      <td>hasoc_en_10</td>\n",
              "      <td>By wearing the #BalidaanBadge over his gloves ...</td>\n",
              "      <td>NOT</td>\n",
              "      <td>NONE</td>\n",
              "      <td>NONE</td>\n",
              "    </tr>\n",
              "  </tbody>\n",
              "</table>\n",
              "</div>"
            ],
            "text/plain": [
              "       text_id                                               text  ... task_2 task_3\n",
              "0   hasoc_en_1  #DhoniKeepsTheGlove | WATCH: Sports Minister K...  ...   NONE   NONE\n",
              "1   hasoc_en_2  @politico No. We should remember very clearly ...  ...   HATE    TIN\n",
              "2   hasoc_en_3  @cricketworldcup Guess who would be the winner...  ...   NONE   NONE\n",
              "3   hasoc_en_4  Corbyn is too politically intellectual for #Bo...  ...   NONE   NONE\n",
              "4   hasoc_en_5  All the best to #TeamIndia for another swimmin...  ...   NONE   NONE\n",
              "5   hasoc_en_6  @kellymiller513 @TheRealOJ32 I hope you rememb...  ...   NONE   NONE\n",
              "6   hasoc_en_7  @ICC Latest design of #WC2019 trophy. #CWC2019...  ...   NONE   NONE\n",
              "7   hasoc_en_8  #ADOS #trendingnow #blacklivesmatter #justice ...  ...   PRFN    TIN\n",
              "8   hasoc_en_9  Thanks for your support! Wow 600k. Graffiti ha...  ...   NONE   NONE\n",
              "9  hasoc_en_10  By wearing the #BalidaanBadge over his gloves ...  ...   NONE   NONE\n",
              "\n",
              "[10 rows x 5 columns]"
            ]
          },
          "metadata": {
            "tags": []
          },
          "execution_count": 4
        }
      ]
    },
    {
      "cell_type": "code",
      "metadata": {
        "id": "fqGs4vWKSAev",
        "colab_type": "code",
        "colab": {
          "base_uri": "https://localhost:8080/",
          "height": 359
        },
        "outputId": "cfcd0d7d-3f8c-463f-b9cc-3821c864fa79"
      },
      "source": [
        "df_test = pd.read_csv('/content/drive/My Drive/hasoc2019_en_test-2919.tsv', sep='\\t')\n",
        "df_test[:10]"
      ],
      "execution_count": null,
      "outputs": [
        {
          "output_type": "execute_result",
          "data": {
            "text/html": [
              "<div>\n",
              "<style scoped>\n",
              "    .dataframe tbody tr th:only-of-type {\n",
              "        vertical-align: middle;\n",
              "    }\n",
              "\n",
              "    .dataframe tbody tr th {\n",
              "        vertical-align: top;\n",
              "    }\n",
              "\n",
              "    .dataframe thead th {\n",
              "        text-align: right;\n",
              "    }\n",
              "</style>\n",
              "<table border=\"1\" class=\"dataframe\">\n",
              "  <thead>\n",
              "    <tr style=\"text-align: right;\">\n",
              "      <th></th>\n",
              "      <th>text_id</th>\n",
              "      <th>text</th>\n",
              "      <th>task_1</th>\n",
              "      <th>task_2</th>\n",
              "      <th>task_3</th>\n",
              "    </tr>\n",
              "  </thead>\n",
              "  <tbody>\n",
              "    <tr>\n",
              "      <th>0</th>\n",
              "      <td>hasoc_en_902</td>\n",
              "      <td>West Bengal Doctor Crisis: Protesting doctors ...</td>\n",
              "      <td>NOT</td>\n",
              "      <td>NONE</td>\n",
              "      <td>NONE</td>\n",
              "    </tr>\n",
              "    <tr>\n",
              "      <th>1</th>\n",
              "      <td>hasoc_en_416</td>\n",
              "      <td>68.5 million people have been forced to leave ...</td>\n",
              "      <td>NOT</td>\n",
              "      <td>NONE</td>\n",
              "      <td>NONE</td>\n",
              "    </tr>\n",
              "    <tr>\n",
              "      <th>2</th>\n",
              "      <td>hasoc_en_207</td>\n",
              "      <td>You came, you saw .... we will look after the ...</td>\n",
              "      <td>NOT</td>\n",
              "      <td>NONE</td>\n",
              "      <td>NONE</td>\n",
              "    </tr>\n",
              "    <tr>\n",
              "      <th>3</th>\n",
              "      <td>hasoc_en_595</td>\n",
              "      <td>We'll get Brexit delivered by October 31st.   ...</td>\n",
              "      <td>NOT</td>\n",
              "      <td>NONE</td>\n",
              "      <td>NONE</td>\n",
              "    </tr>\n",
              "    <tr>\n",
              "      <th>4</th>\n",
              "      <td>hasoc_en_568</td>\n",
              "      <td>Fuck you. Go back to the dark ages you cow @IB...</td>\n",
              "      <td>HOF</td>\n",
              "      <td>PRFN</td>\n",
              "      <td>UNT</td>\n",
              "    </tr>\n",
              "    <tr>\n",
              "      <th>5</th>\n",
              "      <td>hasoc_en_953</td>\n",
              "      <td>Boris Johnson faces Supreme Court bid to make ...</td>\n",
              "      <td>NOT</td>\n",
              "      <td>NONE</td>\n",
              "      <td>NONE</td>\n",
              "    </tr>\n",
              "    <tr>\n",
              "      <th>6</th>\n",
              "      <td>hasoc_en_685</td>\n",
              "      <td>What about a refund for not serving Halala to ...</td>\n",
              "      <td>NOT</td>\n",
              "      <td>NONE</td>\n",
              "      <td>NONE</td>\n",
              "    </tr>\n",
              "    <tr>\n",
              "      <th>7</th>\n",
              "      <td>hasoc_en_672</td>\n",
              "      <td>General election, DUP dumped out, Tory power w...</td>\n",
              "      <td>NOT</td>\n",
              "      <td>NONE</td>\n",
              "      <td>NONE</td>\n",
              "    </tr>\n",
              "    <tr>\n",
              "      <th>8</th>\n",
              "      <td>hasoc_en_746</td>\n",
              "      <td>#Repost free.wicked  • • • • • •  #freewicked ...</td>\n",
              "      <td>NOT</td>\n",
              "      <td>NONE</td>\n",
              "      <td>NONE</td>\n",
              "    </tr>\n",
              "    <tr>\n",
              "      <th>9</th>\n",
              "      <td>hasoc_en_527</td>\n",
              "      <td>Jesus Christ Christian News. Illuminati is now...</td>\n",
              "      <td>HOF</td>\n",
              "      <td>HATE</td>\n",
              "      <td>TIN</td>\n",
              "    </tr>\n",
              "  </tbody>\n",
              "</table>\n",
              "</div>"
            ],
            "text/plain": [
              "        text_id  ... task_3\n",
              "0  hasoc_en_902  ...   NONE\n",
              "1  hasoc_en_416  ...   NONE\n",
              "2  hasoc_en_207  ...   NONE\n",
              "3  hasoc_en_595  ...   NONE\n",
              "4  hasoc_en_568  ...    UNT\n",
              "5  hasoc_en_953  ...   NONE\n",
              "6  hasoc_en_685  ...   NONE\n",
              "7  hasoc_en_672  ...   NONE\n",
              "8  hasoc_en_746  ...   NONE\n",
              "9  hasoc_en_527  ...    TIN\n",
              "\n",
              "[10 rows x 5 columns]"
            ]
          },
          "metadata": {
            "tags": []
          },
          "execution_count": 5
        }
      ]
    },
    {
      "cell_type": "markdown",
      "metadata": {
        "id": "IeGojWXiikih",
        "colab_type": "text"
      },
      "source": [
        "**Train data**"
      ]
    },
    {
      "cell_type": "code",
      "metadata": {
        "id": "SdtFGvdy8iVs",
        "colab_type": "code",
        "colab": {
          "base_uri": "https://localhost:8080/",
          "height": 290
        },
        "outputId": "d928657a-dcf0-4144-ca24-eb984732c5df"
      },
      "source": [
        "fig, ax = plt.subplots(1, 3, sharey=True, figsize=(15, 4))\n",
        "for axi, task in zip(ax.flatten(), [\"task_1\", \"task_2\", \"task_3\"]):\n",
        "    sns.countplot(df[task], ax=axi, color=\"0.3\")\n",
        "sns.despine(offset=10)"
      ],
      "execution_count": null,
      "outputs": [
        {
          "output_type": "display_data",
          "data": {
            "image/png": "[encoded data removed]",
            "text/plain": [
              "<Figure size 1080x288 with 3 Axes>"
            ]
          },
          "metadata": {
            "tags": [],
            "needs_background": "light"
          }
        }
      ]
    },
    {
      "cell_type": "code",
      "metadata": {
        "colab_type": "code",
        "id": "ko8HuowBxdZv",
        "colab": {
          "base_uri": "https://localhost:8080/",
          "height": 89
        },
        "outputId": "711cb6fc-3798-4668-9438-5e811899881f"
      },
      "source": [
        "l=df['task_1'].value_counts()\n",
        "print(\"the total dataset size:\",len(df),'\\n',l)"
      ],
      "execution_count": null,
      "outputs": [
        {
          "output_type": "stream",
          "text": [
            "the total dataset size: 5852 \n",
            " NOT    3591\n",
            "HOF    2261\n",
            "Name: task_1, dtype: int64\n"
          ],
          "name": "stdout"
        }
      ]
    },
    {
      "cell_type": "code",
      "metadata": {
        "colab_type": "code",
        "id": "jMazgGCUxgYE",
        "colab": {
          "base_uri": "https://localhost:8080/",
          "height": 125
        },
        "outputId": "df8e2449-152e-4709-eb11-b9367b03f6d4"
      },
      "source": [
        "l=df['task_2'].value_counts()\n",
        "print(\"the total dataset size:\",len(df),'\\n',l)"
      ],
      "execution_count": null,
      "outputs": [
        {
          "output_type": "stream",
          "text": [
            "the total dataset size: 5852 \n",
            " NONE    3591\n",
            "HATE    1143\n",
            "PRFN     667\n",
            "OFFN     451\n",
            "Name: task_2, dtype: int64\n"
          ],
          "name": "stdout"
        }
      ]
    },
    {
      "cell_type": "code",
      "metadata": {
        "colab_type": "code",
        "id": "ef4kpJMdxjHM",
        "colab": {
          "base_uri": "https://localhost:8080/",
          "height": 107
        },
        "outputId": "e97ef896-b593-4388-b16c-825fc9cc67aa"
      },
      "source": [
        "l=df['task_3'].value_counts()\n",
        "print(\"the total dataset size:\",len(df),'\\n',l)"
      ],
      "execution_count": null,
      "outputs": [
        {
          "output_type": "stream",
          "text": [
            "the total dataset size: 5852 \n",
            " NONE    3591\n",
            "TIN     2041\n",
            "UNT      220\n",
            "Name: task_3, dtype: int64\n"
          ],
          "name": "stdout"
        }
      ]
    },
    {
      "cell_type": "markdown",
      "metadata": {
        "id": "XC2YGsw-insd",
        "colab_type": "text"
      },
      "source": [
        "**Test data**"
      ]
    },
    {
      "cell_type": "code",
      "metadata": {
        "id": "gd8P1m11STU0",
        "colab_type": "code",
        "colab": {
          "base_uri": "https://localhost:8080/",
          "height": 290
        },
        "outputId": "2fbc2164-8240-4f70-a4a2-718509c43f0a"
      },
      "source": [
        "fig, ax = plt.subplots(1, 3, sharey=True, figsize=(15, 4))\n",
        "for axi, task in zip(ax.flatten(), [\"task_1\", \"task_2\", \"task_3\"]):\n",
        "    sns.countplot(df_test[task], ax=axi, color=\"0.3\")\n",
        "sns.despine(offset=10)"
      ],
      "execution_count": null,
      "outputs": [
        {
          "output_type": "display_data",
          "data": {
            "image/png": "[encoded data removed]",
            "text/plain": [
              "<Figure size 1080x288 with 3 Axes>"
            ]
          },
          "metadata": {
            "tags": [],
            "needs_background": "light"
          }
        }
      ]
    },
    {
      "cell_type": "code",
      "metadata": {
        "colab_type": "code",
        "id": "ZVEFqhVTxowO",
        "colab": {
          "base_uri": "https://localhost:8080/",
          "height": 89
        },
        "outputId": "8708fea1-9cbd-4e40-b200-f7134204e230"
      },
      "source": [
        "l=df_test['task_1'].value_counts()\n",
        "print(\"the total dataset size:\",len(df_test),'\\n',l)"
      ],
      "execution_count": null,
      "outputs": [
        {
          "output_type": "stream",
          "text": [
            "the total dataset size: 1153 \n",
            " NOT    865\n",
            "HOF    288\n",
            "Name: task_1, dtype: int64\n"
          ],
          "name": "stdout"
        }
      ]
    },
    {
      "cell_type": "code",
      "metadata": {
        "colab_type": "code",
        "id": "40b7VqXaxrmc",
        "colab": {
          "base_uri": "https://localhost:8080/",
          "height": 125
        },
        "outputId": "a993a951-d71a-484a-ce63-47513c487e34"
      },
      "source": [
        "l=df_test['task_2'].value_counts()\n",
        "print(\"the total dataset size:\",len(df_test),'\\n',l)"
      ],
      "execution_count": null,
      "outputs": [
        {
          "output_type": "stream",
          "text": [
            "the total dataset size: 1153 \n",
            " NONE    865\n",
            "HATE    124\n",
            "PRFN     93\n",
            "OFFN     71\n",
            "Name: task_2, dtype: int64\n"
          ],
          "name": "stdout"
        }
      ]
    },
    {
      "cell_type": "code",
      "metadata": {
        "colab_type": "code",
        "id": "cZA-Ce97xuRh",
        "colab": {
          "base_uri": "https://localhost:8080/",
          "height": 107
        },
        "outputId": "e97ef896-b593-4388-b16c-825fc9cc67aa"
      },
      "source": [
        "l=df['task_3'].value_counts()\n",
        "print(\"the total dataset size:\",len(df),'\\n',l)"
      ],
      "execution_count": null,
      "outputs": [
        {
          "output_type": "stream",
          "text": [
            "the total dataset size: 5852 \n",
            " NONE    3591\n",
            "TIN     2041\n",
            "UNT      220\n",
            "Name: task_3, dtype: int64\n"
          ],
          "name": "stdout"
        }
      ]
    },
    {
      "cell_type": "markdown",
      "metadata": {
        "id": "gxNfwMsSx7My",
        "colab_type": "text"
      },
      "source": [
        "**TEXT CLEANING FUNCTION**"
      ]
    },
    {
      "cell_type": "code",
      "metadata": {
        "id": "d7qKYqX2huhx",
        "colab_type": "code",
        "colab": {}
      },
      "source": [
        "def clean_text(x):\n",
        "  x = x.lower()  #converts into lower case\n",
        "  x = re.sub(r'[^\\w\\s]','',x).split()\n",
        "  list_ = []\n",
        "  for i in x :\n",
        "    if len(i)>2 and i not in stop_words: #remove stop words\n",
        "      list_.append(i)\n",
        "  x = ' '.join(list_)\n",
        "  return x"
      ],
      "execution_count": null,
      "outputs": []
    },
    {
      "cell_type": "markdown",
      "metadata": {
        "id": "0Xe76ct4Cg1B",
        "colab_type": "text"
      },
      "source": [
        "**USING FASTTEXT EMBEDDING**"
      ]
    },
    {
      "cell_type": "code",
      "metadata": {
        "id": "kxCoPHeck2tX",
        "colab_type": "code",
        "colab": {
          "base_uri": "https://localhost:8080/",
          "height": 271
        },
        "outputId": "b3be4447-0470-4154-b2b4-d84e41c7b70a"
      },
      "source": [
        "!pip install fasttext"
      ],
      "execution_count": null,
      "outputs": [
        {
          "output_type": "stream",
          "text": [
            "Collecting fasttext\n",
            "\u001b[?25l  Downloading https://files.pythonhosted.org/packages/f8/85/e2b368ab6d3528827b147fdb814f8189acc981a4bc2f99ab894650e05c40/fasttext-0.9.2.tar.gz (68kB)\n",
            "\r\u001b[K     |████▊                           | 10kB 20.8MB/s eta 0:00:01\r\u001b[K     |█████████▌                      | 20kB 2.2MB/s eta 0:00:01\r\u001b[K     |██████████████▎                 | 30kB 2.8MB/s eta 0:00:01\r\u001b[K     |███████████████████             | 40kB 2.1MB/s eta 0:00:01\r\u001b[K     |███████████████████████▉        | 51kB 2.3MB/s eta 0:00:01\r\u001b[K     |████████████████████████████▋   | 61kB 2.8MB/s eta 0:00:01\r\u001b[K     |████████████████████████████████| 71kB 2.5MB/s \n",
            "\u001b[?25hRequirement already satisfied: pybind11>=2.2 in /usr/local/lib/python3.6/dist-packages (from fasttext) (2.5.0)\n",
            "Requirement already satisfied: setuptools>=0.7.0 in /usr/local/lib/python3.6/dist-packages (from fasttext) (46.1.3)\n",
            "Requirement already satisfied: numpy in /usr/local/lib/python3.6/dist-packages (from fasttext) (1.18.3)\n",
            "Building wheels for collected packages: fasttext\n",
            "  Building wheel for fasttext (setup.py) ... \u001b[?25l\u001b[?25hdone\n",
            "  Created wheel for fasttext: filename=fasttext-0.9.2-cp36-cp36m-linux_x86_64.whl size=3016369 sha256=50334ad030dfb8dc37f2be8e26113b0e650ab21819c8b7a58a2e8138ab12e220\n",
            "  Stored in directory: /root/.cache/pip/wheels/98/ba/7f/b154944a1cf5a8cee91c154b75231136cc3a3321ab0e30f592\n",
            "Successfully built fasttext\n",
            "Installing collected packages: fasttext\n",
            "Successfully installed fasttext-0.9.2\n"
          ],
          "name": "stdout"
        }
      ]
    },
    {
      "cell_type": "code",
      "metadata": {
        "id": "1-x8Blapk2wi",
        "colab_type": "code",
        "colab": {}
      },
      "source": [
        "import fasttext"
      ],
      "execution_count": null,
      "outputs": []
    },
    {
      "cell_type": "code",
      "metadata": {
        "colab_type": "code",
        "id": "WaRDUJ52zKAs",
        "colab": {
          "base_uri": "https://localhost:8080/",
          "height": 215
        },
        "outputId": "94cc4db1-bbae-41c2-df05-7f07cf200357"
      },
      "source": [
        "! wget https://dl.fbaipublicfiles.com/fasttext/vectors-crawl/cc.en.300.bin.gz"
      ],
      "execution_count": null,
      "outputs": [
        {
          "output_type": "stream",
          "text": [
            "--2020-04-29 15:34:30--  https://dl.fbaipublicfiles.com/fasttext/vectors-crawl/cc.en.300.bin.gz\n",
            "Resolving dl.fbaipublicfiles.com (dl.fbaipublicfiles.com)... 104.22.75.142, 104.22.74.142, 2606:4700:10::6816:4b8e, ...\n",
            "Connecting to dl.fbaipublicfiles.com (dl.fbaipublicfiles.com)|104.22.75.142|:443... connected.\n",
            "HTTP request sent, awaiting response... 200 OK\n",
            "Length: 4503593528 (4.2G) [application/octet-stream]\n",
            "Saving to: ‘cc.en.300.bin.gz’\n",
            "\n",
            "cc.en.300.bin.gz    100%[===================>]   4.19G  31.9MB/s    in 2m 40s  \n",
            "\n",
            "2020-04-29 15:37:11 (26.8 MB/s) - ‘cc.en.300.bin.gz’ saved [4503593528/4503593528]\n",
            "\n"
          ],
          "name": "stdout"
        }
      ]
    },
    {
      "cell_type": "code",
      "metadata": {
        "colab_type": "code",
        "id": "LHu-x03-zNnZ",
        "colab": {}
      },
      "source": [
        "!gunzip cc.en.300.bin.gz"
      ],
      "execution_count": null,
      "outputs": []
    },
    {
      "cell_type": "code",
      "metadata": {
        "id": "-aR3tTkxleDT",
        "colab_type": "code",
        "colab": {
          "base_uri": "https://localhost:8080/",
          "height": 35
        },
        "outputId": "ed938587-3e67-43df-e664-62201a56a671"
      },
      "source": [
        "model=fasttext.load_model(\"cc.en.300.bin\")"
      ],
      "execution_count": null,
      "outputs": [
        {
          "output_type": "stream",
          "text": [
            "Warning : `load_model` does not return WordVectorModel or SupervisedModel any more, but a `FastText` object which is very similar.\n"
          ],
          "name": "stderr"
        }
      ]
    },
    {
      "cell_type": "markdown",
      "metadata": {
        "id": "ob7UhyAlrl6N",
        "colab_type": "text"
      },
      "source": [
        "**Preprocessing training and testing data for TASK-1**"
      ]
    },
    {
      "cell_type": "code",
      "metadata": {
        "colab_type": "code",
        "id": "j49wr6BOq5Wp",
        "colab": {}
      },
      "source": [
        "from nltk.corpus import stopwords\n",
        "stop_words = set(stopwords.words('english'))\n",
        "df_1 = df\n",
        "df_1 = df_1.fillna(0) \n",
        "classes = {}\n",
        "classes['HOF'] = 1\n",
        "classes['NOT'] = 0\n",
        "df_1['text'] = df_1.text.apply(lambda x : clean_text(x))\n",
        "df_1['class_'] = df_1.task_1.apply(lambda x : classes[x])"
      ],
      "execution_count": null,
      "outputs": []
    },
    {
      "cell_type": "code",
      "metadata": {
        "id": "ZODE-k2urAbp",
        "colab_type": "code",
        "colab": {}
      },
      "source": [
        "df_1= df_1[df_1['text']!='']"
      ],
      "execution_count": null,
      "outputs": []
    },
    {
      "cell_type": "code",
      "metadata": {
        "colab_type": "code",
        "id": "UNKNaHFQrKjq",
        "colab": {
          "base_uri": "https://localhost:8080/",
          "height": 125
        },
        "outputId": "3ac329e9-ee4d-4b41-adb8-e0d692b6bc73"
      },
      "source": [
        "df_1['text'][:5]"
      ],
      "execution_count": null,
      "outputs": [
        {
          "output_type": "execute_result",
          "data": {
            "text/plain": [
              "0    dhonikeepstheglove watch sports minister kiren...\n",
              "1    politico remember clearly individual1 admitted...\n",
              "2    cricketworldcup guess would winner cwc19 team ...\n",
              "3    corbyn politically intellectual borisjohnsonsh...\n",
              "4    best teamindia another swimming competition su...\n",
              "Name: text, dtype: object"
            ]
          },
          "metadata": {
            "tags": []
          },
          "execution_count": 22
        }
      ]
    },
    {
      "cell_type": "code",
      "metadata": {
        "colab_type": "code",
        "id": "pKlf_9gLrOZx",
        "colab": {}
      },
      "source": [
        "df_1 = df\n",
        "df_1 = df_1.fillna(0) \n",
        "classes = {}\n",
        "classes['HOF'] = 1\n",
        "classes['NOT'] = 0\n",
        "df_1['text'] = df_1.text.apply(lambda x : clean_text(x))\n",
        "df_1['class_'] = df_1.task_1.apply(lambda x : classes[x])"
      ],
      "execution_count": null,
      "outputs": []
    },
    {
      "cell_type": "code",
      "metadata": {
        "colab_type": "code",
        "id": "sRe44oZGrR3h",
        "colab": {}
      },
      "source": [
        "df_1_test= df_1_test[df_1_test['text']!='']"
      ],
      "execution_count": null,
      "outputs": []
    },
    {
      "cell_type": "code",
      "metadata": {
        "colab_type": "code",
        "id": "rKv6BB4OrVTT",
        "colab": {
          "base_uri": "https://localhost:8080/",
          "height": 125
        },
        "outputId": "1f3a1f1f-fe47-4e7d-ef77-42a69a6fbd5e"
      },
      "source": [
        "df_1_test['text'][:5]"
      ],
      "execution_count": null,
      "outputs": [
        {
          "output_type": "execute_result",
          "data": {
            "text/plain": [
              "0    west bengal doctor crisis protesting doctors a...\n",
              "1    685 million people forced leave homes read htt...\n",
              "2                         came saw look fort good luck\n",
              "3    well get brexit delivered october 31st help bu...\n",
              "4    fuck back dark ages cow ibnliverealtime rapes ...\n",
              "Name: text, dtype: object"
            ]
          },
          "metadata": {
            "tags": []
          },
          "execution_count": 31
        }
      ]
    },
    {
      "cell_type": "markdown",
      "metadata": {
        "id": "u_ZDIlobqmEj",
        "colab_type": "text"
      },
      "source": [
        "**TASK-1 SCORES**"
      ]
    },
    {
      "cell_type": "code",
      "metadata": {
        "id": "iZSxGXEnnemh",
        "colab_type": "code",
        "colab": {}
      },
      "source": [
        "X_train = np.array([model.get_sentence_vector(i) for i in df_1.text.to_list()])\n",
        "y_train = np.array(df_1.class_.tolist())\n",
        "X_test=np.array([model.get_sentence_vector(i) for i in df_1_test.text.to_list()])\n",
        "y_test = np.array(df_1_test.class_.tolist())"
      ],
      "execution_count": null,
      "outputs": []
    },
    {
      "cell_type": "code",
      "metadata": {
        "id": "kdKOvphpRgDy",
        "colab_type": "code",
        "colab": {
          "base_uri": "https://localhost:8080/",
          "height": 179
        },
        "outputId": "a55d3034-4d31-4594-bef4-b39c7a2617b7"
      },
      "source": [
        "#Logistic Regression \n",
        "from sklearn.metrics import classification_report\n",
        "from sklearn.linear_model import LogisticRegression\n",
        "clf = LogisticRegression()\n",
        "clf.fit(X_train, y_train)\n",
        "predicted = clf.predict(X_test)\n",
        "print(classification_report(y_test , predicted , target_names = ['NOT' , 'HOF']))"
      ],
      "execution_count": null,
      "outputs": [
        {
          "output_type": "stream",
          "text": [
            "              precision    recall  f1-score   support\n",
            "\n",
            "         NOT       0.85      0.89      0.87       865\n",
            "         HOF       0.61      0.54      0.57       288\n",
            "\n",
            "    accuracy                           0.80      1153\n",
            "   macro avg       0.73      0.71      0.72      1153\n",
            "weighted avg       0.79      0.80      0.80      1153\n",
            "\n"
          ],
          "name": "stdout"
        }
      ]
    },
    {
      "cell_type": "markdown",
      "metadata": {
        "id": "KiduajvdqWtW",
        "colab_type": "text"
      },
      "source": [
        "**Preprocessing training and testing data for TASK-2**"
      ]
    },
    {
      "cell_type": "code",
      "metadata": {
        "id": "cU5s6PDvlDAP",
        "colab_type": "code",
        "colab": {
          "base_uri": "https://localhost:8080/",
          "height": 204
        },
        "outputId": "f2cc124b-268f-4853-d549-cfce094c0e4e"
      },
      "source": [
        "df_2=df[df[\"task_1\"]=='HOF']\n",
        "df_2.head()"
      ],
      "execution_count": null,
      "outputs": [
        {
          "output_type": "execute_result",
          "data": {
            "text/html": [
              "<div>\n",
              "<style scoped>\n",
              "    .dataframe tbody tr th:only-of-type {\n",
              "        vertical-align: middle;\n",
              "    }\n",
              "\n",
              "    .dataframe tbody tr th {\n",
              "        vertical-align: top;\n",
              "    }\n",
              "\n",
              "    .dataframe thead th {\n",
              "        text-align: right;\n",
              "    }\n",
              "</style>\n",
              "<table border=\"1\" class=\"dataframe\">\n",
              "  <thead>\n",
              "    <tr style=\"text-align: right;\">\n",
              "      <th></th>\n",
              "      <th>text_id</th>\n",
              "      <th>text</th>\n",
              "      <th>task_1</th>\n",
              "      <th>task_2</th>\n",
              "      <th>task_3</th>\n",
              "    </tr>\n",
              "  </thead>\n",
              "  <tbody>\n",
              "    <tr>\n",
              "      <th>1</th>\n",
              "      <td>hasoc_en_2</td>\n",
              "      <td>@politico No. We should remember very clearly ...</td>\n",
              "      <td>HOF</td>\n",
              "      <td>HATE</td>\n",
              "      <td>TIN</td>\n",
              "    </tr>\n",
              "    <tr>\n",
              "      <th>7</th>\n",
              "      <td>hasoc_en_8</td>\n",
              "      <td>#ADOS #trendingnow #blacklivesmatter #justice ...</td>\n",
              "      <td>HOF</td>\n",
              "      <td>PRFN</td>\n",
              "      <td>TIN</td>\n",
              "    </tr>\n",
              "    <tr>\n",
              "      <th>11</th>\n",
              "      <td>hasoc_en_12</td>\n",
              "      <td>I don’t know how much more I can take! 45 is a...</td>\n",
              "      <td>HOF</td>\n",
              "      <td>HATE</td>\n",
              "      <td>TIN</td>\n",
              "    </tr>\n",
              "    <tr>\n",
              "      <th>15</th>\n",
              "      <td>hasoc_en_16</td>\n",
              "      <td>Good work @ICC keep going just destroy the who...</td>\n",
              "      <td>HOF</td>\n",
              "      <td>PRFN</td>\n",
              "      <td>TIN</td>\n",
              "    </tr>\n",
              "    <tr>\n",
              "      <th>23</th>\n",
              "      <td>hasoc_en_24</td>\n",
              "      <td>#ShameOnICC  1. ICC on Dhoni's gloves         ...</td>\n",
              "      <td>HOF</td>\n",
              "      <td>HATE</td>\n",
              "      <td>TIN</td>\n",
              "    </tr>\n",
              "  </tbody>\n",
              "</table>\n",
              "</div>"
            ],
            "text/plain": [
              "        text_id  ... task_3\n",
              "1    hasoc_en_2  ...    TIN\n",
              "7    hasoc_en_8  ...    TIN\n",
              "11  hasoc_en_12  ...    TIN\n",
              "15  hasoc_en_16  ...    TIN\n",
              "23  hasoc_en_24  ...    TIN\n",
              "\n",
              "[5 rows x 5 columns]"
            ]
          },
          "metadata": {
            "tags": []
          },
          "execution_count": 40
        }
      ]
    },
    {
      "cell_type": "code",
      "metadata": {
        "id": "_mzn8WoylDGZ",
        "colab_type": "code",
        "colab": {}
      },
      "source": [
        "df_2 = df_2.fillna(0) \n",
        "classes = {}\n",
        "classes['HATE'] = 0\n",
        "classes['PRFN'] = 1\n",
        "classes['OFFN'] = 2\n",
        "df_2['text'] = df_2.text.apply(lambda x : clean_text(x))\n",
        "df_2['class_'] = df_2.task_2.apply(lambda x : classes[x])"
      ],
      "execution_count": null,
      "outputs": []
    },
    {
      "cell_type": "code",
      "metadata": {
        "id": "Qt4u5_ARlDNT",
        "colab_type": "code",
        "colab": {
          "base_uri": "https://localhost:8080/",
          "height": 125
        },
        "outputId": "f98e978d-bb59-46e2-fd1f-26def6c4f1cb"
      },
      "source": [
        "df_2= df_2[df_2['text']!='']\n",
        "df_2['text'][:5]"
      ],
      "execution_count": null,
      "outputs": [
        {
          "output_type": "execute_result",
          "data": {
            "text/plain": [
              "1     politico remember clearly individual1 admitted...\n",
              "7     ados trendingnow blacklivesmatter justice fuck...\n",
              "11    dont know much take compulsive liar trump30hou...\n",
              "15    good work icc keep going destroy whole fucking...\n",
              "23    shameonicc icc dhonis gloves 2icc planning wor...\n",
              "Name: text, dtype: object"
            ]
          },
          "metadata": {
            "tags": []
          },
          "execution_count": 43
        }
      ]
    },
    {
      "cell_type": "code",
      "metadata": {
        "id": "JiUVLLgtnaXh",
        "colab_type": "code",
        "colab": {
          "base_uri": "https://localhost:8080/",
          "height": 204
        },
        "outputId": "7cbc3f1c-7f44-4baf-95f5-e9e51f978609"
      },
      "source": [
        "df_2_test=df_test[df_test[\"task_1\"]=='HOF']\n",
        "df_2_test.head()"
      ],
      "execution_count": null,
      "outputs": [
        {
          "output_type": "execute_result",
          "data": {
            "text/html": [
              "<div>\n",
              "<style scoped>\n",
              "    .dataframe tbody tr th:only-of-type {\n",
              "        vertical-align: middle;\n",
              "    }\n",
              "\n",
              "    .dataframe tbody tr th {\n",
              "        vertical-align: top;\n",
              "    }\n",
              "\n",
              "    .dataframe thead th {\n",
              "        text-align: right;\n",
              "    }\n",
              "</style>\n",
              "<table border=\"1\" class=\"dataframe\">\n",
              "  <thead>\n",
              "    <tr style=\"text-align: right;\">\n",
              "      <th></th>\n",
              "      <th>text_id</th>\n",
              "      <th>text</th>\n",
              "      <th>task_1</th>\n",
              "      <th>task_2</th>\n",
              "      <th>task_3</th>\n",
              "    </tr>\n",
              "  </thead>\n",
              "  <tbody>\n",
              "    <tr>\n",
              "      <th>4</th>\n",
              "      <td>hasoc_en_568</td>\n",
              "      <td>Fuck you. Go back to the dark ages you cow @IB...</td>\n",
              "      <td>HOF</td>\n",
              "      <td>PRFN</td>\n",
              "      <td>UNT</td>\n",
              "    </tr>\n",
              "    <tr>\n",
              "      <th>9</th>\n",
              "      <td>hasoc_en_527</td>\n",
              "      <td>Jesus Christ Christian News. Illuminati is now...</td>\n",
              "      <td>HOF</td>\n",
              "      <td>HATE</td>\n",
              "      <td>TIN</td>\n",
              "    </tr>\n",
              "    <tr>\n",
              "      <th>10</th>\n",
              "      <td>hasoc_en_137</td>\n",
              "      <td>Even true Muslims are not supporting zakir...t...</td>\n",
              "      <td>HOF</td>\n",
              "      <td>PRFN</td>\n",
              "      <td>TIN</td>\n",
              "    </tr>\n",
              "    <tr>\n",
              "      <th>11</th>\n",
              "      <td>hasoc_en_606</td>\n",
              "      <td>'In Kerala, it's all halal'.    Of course, sic...</td>\n",
              "      <td>HOF</td>\n",
              "      <td>HATE</td>\n",
              "      <td>TIN</td>\n",
              "    </tr>\n",
              "    <tr>\n",
              "      <th>12</th>\n",
              "      <td>hasoc_en_246</td>\n",
              "      <td>Look sweetie it’s simple- as a Jain if I ask f...</td>\n",
              "      <td>HOF</td>\n",
              "      <td>PRFN</td>\n",
              "      <td>TIN</td>\n",
              "    </tr>\n",
              "  </tbody>\n",
              "</table>\n",
              "</div>"
            ],
            "text/plain": [
              "         text_id  ... task_3\n",
              "4   hasoc_en_568  ...    UNT\n",
              "9   hasoc_en_527  ...    TIN\n",
              "10  hasoc_en_137  ...    TIN\n",
              "11  hasoc_en_606  ...    TIN\n",
              "12  hasoc_en_246  ...    TIN\n",
              "\n",
              "[5 rows x 5 columns]"
            ]
          },
          "metadata": {
            "tags": []
          },
          "execution_count": 44
        }
      ]
    },
    {
      "cell_type": "code",
      "metadata": {
        "id": "VLTU78htlDQX",
        "colab_type": "code",
        "colab": {}
      },
      "source": [
        "df_2_test = df_2_test.fillna(0) \n",
        "classes = {}\n",
        "classes['HATE'] = 0\n",
        "classes['PRFN'] = 1\n",
        "classes['OFFN'] = 2\n",
        "df_2_test['text'] = df_2_test.text.apply(lambda x : clean_text(x))\n",
        "df_2_test['class_'] = df_2_test.task_2.apply(lambda x : classes[x])"
      ],
      "execution_count": null,
      "outputs": []
    },
    {
      "cell_type": "code",
      "metadata": {
        "id": "LrmE6hn9lDVi",
        "colab_type": "code",
        "colab": {
          "base_uri": "https://localhost:8080/",
          "height": 125
        },
        "outputId": "092dfb5f-44f2-416a-fcc9-87437fc018ce"
      },
      "source": [
        "df_2_test= df_2_test[df_2_test['text']!='']\n",
        "df_2_test['text'][:5]"
      ],
      "execution_count": null,
      "outputs": [
        {
          "output_type": "execute_result",
          "data": {
            "text/plain": [
              "4     fuck back dark ages cow ibnliverealtime rapes ...\n",
              "9     jesus christ christian news illuminati changin...\n",
              "10    even true muslims supporting zakirthey knkmow ...\n",
              "11    kerala halal course sickular bastion serve por...\n",
              "12    look sweetie simple jain ask veg food get non ...\n",
              "Name: text, dtype: object"
            ]
          },
          "metadata": {
            "tags": []
          },
          "execution_count": 47
        }
      ]
    },
    {
      "cell_type": "markdown",
      "metadata": {
        "id": "Ne9BtrMrquZa",
        "colab_type": "text"
      },
      "source": [
        "**TASK-2 SCORES**"
      ]
    },
    {
      "cell_type": "code",
      "metadata": {
        "id": "ZEJ7RboslDLo",
        "colab_type": "code",
        "colab": {}
      },
      "source": [
        "X_2_train = np.array([model.get_sentence_vector(i) for i in df_2.text.to_list()])\n",
        "y_2_train = np.array(df_2.class_.tolist())\n",
        "X_2_test=np.array([model.get_sentence_vector(i) for i in df_2_test.text.to_list()])\n",
        "y_2_test = np.array(df_2_test.class_.tolist())"
      ],
      "execution_count": null,
      "outputs": []
    },
    {
      "cell_type": "code",
      "metadata": {
        "id": "pdWpkXuvlC-T",
        "colab_type": "code",
        "colab": {
          "base_uri": "https://localhost:8080/",
          "height": 197
        },
        "outputId": "ad21aaba-32a7-489d-ca40-25b666ebdf47"
      },
      "source": [
        "#Logistic Regression \n",
        "from sklearn.metrics import classification_report\n",
        "from sklearn.linear_model import LogisticRegression\n",
        "clf = LogisticRegression()\n",
        "clf.fit(X_2_train, y_2_train)\n",
        "predicted = clf.predict(X_2_test)\n",
        "print(classification_report(y_2_test , predicted , target_names = ['HATE' , 'PRFN' , 'OFFN']))"
      ],
      "execution_count": null,
      "outputs": [
        {
          "output_type": "stream",
          "text": [
            "              precision    recall  f1-score   support\n",
            "\n",
            "        HATE       0.53      0.94      0.68       124\n",
            "        PRFN       0.59      0.44      0.51        93\n",
            "        OFFN       1.00      0.01      0.03        71\n",
            "\n",
            "    accuracy                           0.55       288\n",
            "   macro avg       0.71      0.46      0.40       288\n",
            "weighted avg       0.67      0.55      0.46       288\n",
            "\n"
          ],
          "name": "stdout"
        }
      ]
    },
    {
      "cell_type": "markdown",
      "metadata": {
        "id": "lq1WPk2JsGDz",
        "colab_type": "text"
      },
      "source": [
        "**Preprocessing training and testing data for TASK-3**"
      ]
    },
    {
      "cell_type": "code",
      "metadata": {
        "id": "qkhh5PdaqUM7",
        "colab_type": "code",
        "colab": {
          "base_uri": "https://localhost:8080/",
          "height": 204
        },
        "outputId": "7e98a957-6dca-4c08-9e85-17a5483f2907"
      },
      "source": [
        "df_3=df[df[\"task_1\"]=='HOF']\n",
        "df_3.head()"
      ],
      "execution_count": null,
      "outputs": [
        {
          "output_type": "execute_result",
          "data": {
            "text/html": [
              "<div>\n",
              "<style scoped>\n",
              "    .dataframe tbody tr th:only-of-type {\n",
              "        vertical-align: middle;\n",
              "    }\n",
              "\n",
              "    .dataframe tbody tr th {\n",
              "        vertical-align: top;\n",
              "    }\n",
              "\n",
              "    .dataframe thead th {\n",
              "        text-align: right;\n",
              "    }\n",
              "</style>\n",
              "<table border=\"1\" class=\"dataframe\">\n",
              "  <thead>\n",
              "    <tr style=\"text-align: right;\">\n",
              "      <th></th>\n",
              "      <th>text_id</th>\n",
              "      <th>text</th>\n",
              "      <th>task_1</th>\n",
              "      <th>task_2</th>\n",
              "      <th>task_3</th>\n",
              "    </tr>\n",
              "  </thead>\n",
              "  <tbody>\n",
              "    <tr>\n",
              "      <th>1</th>\n",
              "      <td>hasoc_en_2</td>\n",
              "      <td>@politico No. We should remember very clearly ...</td>\n",
              "      <td>HOF</td>\n",
              "      <td>HATE</td>\n",
              "      <td>TIN</td>\n",
              "    </tr>\n",
              "    <tr>\n",
              "      <th>7</th>\n",
              "      <td>hasoc_en_8</td>\n",
              "      <td>#ADOS #trendingnow #blacklivesmatter #justice ...</td>\n",
              "      <td>HOF</td>\n",
              "      <td>PRFN</td>\n",
              "      <td>TIN</td>\n",
              "    </tr>\n",
              "    <tr>\n",
              "      <th>11</th>\n",
              "      <td>hasoc_en_12</td>\n",
              "      <td>I don’t know how much more I can take! 45 is a...</td>\n",
              "      <td>HOF</td>\n",
              "      <td>HATE</td>\n",
              "      <td>TIN</td>\n",
              "    </tr>\n",
              "    <tr>\n",
              "      <th>15</th>\n",
              "      <td>hasoc_en_16</td>\n",
              "      <td>Good work @ICC keep going just destroy the who...</td>\n",
              "      <td>HOF</td>\n",
              "      <td>PRFN</td>\n",
              "      <td>TIN</td>\n",
              "    </tr>\n",
              "    <tr>\n",
              "      <th>23</th>\n",
              "      <td>hasoc_en_24</td>\n",
              "      <td>#ShameOnICC  1. ICC on Dhoni's gloves         ...</td>\n",
              "      <td>HOF</td>\n",
              "      <td>HATE</td>\n",
              "      <td>TIN</td>\n",
              "    </tr>\n",
              "  </tbody>\n",
              "</table>\n",
              "</div>"
            ],
            "text/plain": [
              "        text_id  ... task_3\n",
              "1    hasoc_en_2  ...    TIN\n",
              "7    hasoc_en_8  ...    TIN\n",
              "11  hasoc_en_12  ...    TIN\n",
              "15  hasoc_en_16  ...    TIN\n",
              "23  hasoc_en_24  ...    TIN\n",
              "\n",
              "[5 rows x 5 columns]"
            ]
          },
          "metadata": {
            "tags": []
          },
          "execution_count": 62
        }
      ]
    },
    {
      "cell_type": "code",
      "metadata": {
        "id": "Y5AXLOjRqUQt",
        "colab_type": "code",
        "colab": {}
      },
      "source": [
        "df_3 = df_3.fillna(0) \n",
        "classes = {}\n",
        "classes['TIN'] = 0\n",
        "classes['UNT'] = 1\n",
        "df_3['text'] = df_3.text.apply(lambda x : clean_text(x))\n",
        "df_3['class_'] = df_3.task_3.apply(lambda x : classes[x])"
      ],
      "execution_count": null,
      "outputs": []
    },
    {
      "cell_type": "code",
      "metadata": {
        "id": "18Dkt57wsUEp",
        "colab_type": "code",
        "colab": {
          "base_uri": "https://localhost:8080/",
          "height": 125
        },
        "outputId": "4823dc51-d3f7-47f9-c551-ac4471e4a14d"
      },
      "source": [
        "df_3= df_3[df_3['text']!='']\n",
        "df_3['text'][:5]"
      ],
      "execution_count": null,
      "outputs": [
        {
          "output_type": "execute_result",
          "data": {
            "text/plain": [
              "1     politico remember clearly individual1 admitted...\n",
              "7     ados trendingnow blacklivesmatter justice fuck...\n",
              "11    dont know much take compulsive liar trump30hou...\n",
              "15    good work icc keep going destroy whole fucking...\n",
              "23    shameonicc icc dhonis gloves 2icc planning wor...\n",
              "Name: text, dtype: object"
            ]
          },
          "metadata": {
            "tags": []
          },
          "execution_count": 64
        }
      ]
    },
    {
      "cell_type": "code",
      "metadata": {
        "id": "t70gNKqQsUMe",
        "colab_type": "code",
        "colab": {
          "base_uri": "https://localhost:8080/",
          "height": 204
        },
        "outputId": "67de34f4-4ee9-4124-b5bc-556ec5d01609"
      },
      "source": [
        "df_3_test=df_test[df_test[\"task_1\"]=='HOF']\n",
        "df_3_test.head()"
      ],
      "execution_count": null,
      "outputs": [
        {
          "output_type": "execute_result",
          "data": {
            "text/html": [
              "<div>\n",
              "<style scoped>\n",
              "    .dataframe tbody tr th:only-of-type {\n",
              "        vertical-align: middle;\n",
              "    }\n",
              "\n",
              "    .dataframe tbody tr th {\n",
              "        vertical-align: top;\n",
              "    }\n",
              "\n",
              "    .dataframe thead th {\n",
              "        text-align: right;\n",
              "    }\n",
              "</style>\n",
              "<table border=\"1\" class=\"dataframe\">\n",
              "  <thead>\n",
              "    <tr style=\"text-align: right;\">\n",
              "      <th></th>\n",
              "      <th>text_id</th>\n",
              "      <th>text</th>\n",
              "      <th>task_1</th>\n",
              "      <th>task_2</th>\n",
              "      <th>task_3</th>\n",
              "    </tr>\n",
              "  </thead>\n",
              "  <tbody>\n",
              "    <tr>\n",
              "      <th>4</th>\n",
              "      <td>hasoc_en_568</td>\n",
              "      <td>Fuck you. Go back to the dark ages you cow @IB...</td>\n",
              "      <td>HOF</td>\n",
              "      <td>PRFN</td>\n",
              "      <td>UNT</td>\n",
              "    </tr>\n",
              "    <tr>\n",
              "      <th>9</th>\n",
              "      <td>hasoc_en_527</td>\n",
              "      <td>Jesus Christ Christian News. Illuminati is now...</td>\n",
              "      <td>HOF</td>\n",
              "      <td>HATE</td>\n",
              "      <td>TIN</td>\n",
              "    </tr>\n",
              "    <tr>\n",
              "      <th>10</th>\n",
              "      <td>hasoc_en_137</td>\n",
              "      <td>Even true Muslims are not supporting zakir...t...</td>\n",
              "      <td>HOF</td>\n",
              "      <td>PRFN</td>\n",
              "      <td>TIN</td>\n",
              "    </tr>\n",
              "    <tr>\n",
              "      <th>11</th>\n",
              "      <td>hasoc_en_606</td>\n",
              "      <td>'In Kerala, it's all halal'.    Of course, sic...</td>\n",
              "      <td>HOF</td>\n",
              "      <td>HATE</td>\n",
              "      <td>TIN</td>\n",
              "    </tr>\n",
              "    <tr>\n",
              "      <th>12</th>\n",
              "      <td>hasoc_en_246</td>\n",
              "      <td>Look sweetie it’s simple- as a Jain if I ask f...</td>\n",
              "      <td>HOF</td>\n",
              "      <td>PRFN</td>\n",
              "      <td>TIN</td>\n",
              "    </tr>\n",
              "  </tbody>\n",
              "</table>\n",
              "</div>"
            ],
            "text/plain": [
              "         text_id  ... task_3\n",
              "4   hasoc_en_568  ...    UNT\n",
              "9   hasoc_en_527  ...    TIN\n",
              "10  hasoc_en_137  ...    TIN\n",
              "11  hasoc_en_606  ...    TIN\n",
              "12  hasoc_en_246  ...    TIN\n",
              "\n",
              "[5 rows x 5 columns]"
            ]
          },
          "metadata": {
            "tags": []
          },
          "execution_count": 65
        }
      ]
    },
    {
      "cell_type": "code",
      "metadata": {
        "id": "zxAQOXrdsUCl",
        "colab_type": "code",
        "colab": {}
      },
      "source": [
        "df_3_test = df_3_test.fillna(0) \n",
        "classes = {}\n",
        "classes['TIN'] = 0\n",
        "classes['UNT'] = 1\n",
        "df_3_test['text'] = df_3_test.text.apply(lambda x : clean_text(x))\n",
        "df_3_test['class_'] = df_3_test.task_3.apply(lambda x : classes[x])"
      ],
      "execution_count": null,
      "outputs": []
    },
    {
      "cell_type": "code",
      "metadata": {
        "id": "j0uN4ducsUAC",
        "colab_type": "code",
        "colab": {
          "base_uri": "https://localhost:8080/",
          "height": 125
        },
        "outputId": "322f4df6-3cc5-4ca8-c086-99028265d39c"
      },
      "source": [
        "df_3_test= df_3_test[df_3_test['text']!='']\n",
        "df_3_test['text'][:5]"
      ],
      "execution_count": null,
      "outputs": [
        {
          "output_type": "execute_result",
          "data": {
            "text/plain": [
              "4     fuck back dark ages cow ibnliverealtime rapes ...\n",
              "9     jesus christ christian news illuminati changin...\n",
              "10    even true muslims supporting zakirthey knkmow ...\n",
              "11    kerala halal course sickular bastion serve por...\n",
              "12    look sweetie simple jain ask veg food get non ...\n",
              "Name: text, dtype: object"
            ]
          },
          "metadata": {
            "tags": []
          },
          "execution_count": 67
        }
      ]
    },
    {
      "cell_type": "markdown",
      "metadata": {
        "id": "aqsLcHQKttlD",
        "colab_type": "text"
      },
      "source": [
        "**TASK-3 SCORES**"
      ]
    },
    {
      "cell_type": "code",
      "metadata": {
        "id": "oQpedyRfsT9X",
        "colab_type": "code",
        "colab": {}
      },
      "source": [
        "X_3_train = np.array([model.get_sentence_vector(i) for i in df_3.text.to_list()])\n",
        "y_3_train = np.array(df_3.class_.tolist())\n",
        "X_3_test=np.array([model.get_sentence_vector(i) for i in df_3_test.text.to_list()])\n",
        "y_3_test = np.array(df_3_test.class_.tolist())"
      ],
      "execution_count": null,
      "outputs": []
    },
    {
      "cell_type": "code",
      "metadata": {
        "id": "vqOuQDW0tNWH",
        "colab_type": "code",
        "colab": {
          "base_uri": "https://localhost:8080/",
          "height": 235
        },
        "outputId": "c1f4f60b-27f6-4e14-9c49-269b5294f714"
      },
      "source": [
        "#Logistic Regression \n",
        "from sklearn.metrics import classification_report\n",
        "from sklearn.linear_model import LogisticRegression\n",
        "clf = LogisticRegression()\n",
        "clf.fit(X_3_train, y_3_train)\n",
        "predicted = clf.predict(X_3_test)\n",
        "print(classification_report(y_3_test , predicted , target_names = ['TIN' , 'UNT']))"
      ],
      "execution_count": null,
      "outputs": [
        {
          "output_type": "stream",
          "text": [
            "              precision    recall  f1-score   support\n",
            "\n",
            "         TIN       0.85      1.00      0.92       245\n",
            "         UNT       0.00      0.00      0.00        43\n",
            "\n",
            "    accuracy                           0.85       288\n",
            "   macro avg       0.43      0.50      0.46       288\n",
            "weighted avg       0.72      0.85      0.78       288\n",
            "\n"
          ],
          "name": "stdout"
        },
        {
          "output_type": "stream",
          "text": [
            "/usr/local/lib/python3.6/dist-packages/sklearn/metrics/_classification.py:1272: UndefinedMetricWarning: Precision and F-score are ill-defined and being set to 0.0 in labels with no predicted samples. Use `zero_division` parameter to control this behavior.\n",
            "  _warn_prf(average, modifier, msg_start, len(result))\n"
          ],
          "name": "stderr"
        }
      ]
    },
    {
      "cell_type": "markdown",
      "metadata": {
        "id": "729xcpDRCqfk",
        "colab_type": "text"
      },
      "source": [
        "**USING TF-IDF METHOD**"
      ]
    },
    {
      "cell_type": "code",
      "metadata": {
        "id": "-IDMn47srdCR",
        "colab_type": "code",
        "colab": {}
      },
      "source": [
        "from sklearn.feature_extraction.text import TfidfVectorizer\n",
        "vector=TfidfVectorizer()"
      ],
      "execution_count": null,
      "outputs": []
    },
    {
      "cell_type": "markdown",
      "metadata": {
        "id": "L8SwJOlkuk9h",
        "colab_type": "text"
      },
      "source": [
        "**TASK-1 SCORES**"
      ]
    },
    {
      "cell_type": "code",
      "metadata": {
        "id": "QrG1obcoukKB",
        "colab_type": "code",
        "colab": {}
      },
      "source": [
        "df_1_text=df_1.append(df_1_test)\n",
        "df_1_text= df_1_text[df_1_text['text']!='']"
      ],
      "execution_count": null,
      "outputs": []
    },
    {
      "cell_type": "code",
      "metadata": {
        "id": "_Q1vyAyLukN-",
        "colab_type": "code",
        "colab": {}
      },
      "source": [
        "X_1 = vector.fit_transform(df_1_text.text.values.astype('U')).toarray()"
      ],
      "execution_count": null,
      "outputs": []
    },
    {
      "cell_type": "code",
      "metadata": {
        "id": "Ka8TDuovyzaW",
        "colab_type": "code",
        "colab": {
          "base_uri": "https://localhost:8080/",
          "height": 35
        },
        "outputId": "ec7c0db5-3a38-4062-cd40-3ab04f4bfa05"
      },
      "source": [
        "len(df_1)"
      ],
      "execution_count": null,
      "outputs": [
        {
          "output_type": "execute_result",
          "data": {
            "text/plain": [
              "5851"
            ]
          },
          "metadata": {
            "tags": []
          },
          "execution_count": 96
        }
      ]
    },
    {
      "cell_type": "code",
      "metadata": {
        "id": "vNBfrHEX9N6t",
        "colab_type": "code",
        "colab": {}
      },
      "source": [
        "x_1_train=X_1[:5851]\n",
        "x_1_test=X_1[5851:]\n",
        "y_1_train = np.array(df_1.class_.tolist())\n",
        "y_1_test = np.array(df_1_test.class_.tolist())"
      ],
      "execution_count": null,
      "outputs": []
    },
    {
      "cell_type": "code",
      "metadata": {
        "id": "K7HXd2KCuvRs",
        "colab_type": "code",
        "colab": {
          "base_uri": "https://localhost:8080/",
          "height": 179
        },
        "outputId": "cb6f4663-d157-43ac-a098-1f8b5b40f576"
      },
      "source": [
        "#Logistic Regression \n",
        "from sklearn.metrics import classification_report\n",
        "from sklearn.linear_model import LogisticRegression\n",
        "clf = LogisticRegression()\n",
        "clf.fit(x_1_train, y_1_train)\n",
        "predicted = clf.predict(x_1_test)\n",
        "print(classification_report(y_1_test , predicted , target_names = ['NOT' , 'HOF']))"
      ],
      "execution_count": null,
      "outputs": [
        {
          "output_type": "stream",
          "text": [
            "              precision    recall  f1-score   support\n",
            "\n",
            "         NOT       0.83      0.92      0.87       865\n",
            "         HOF       0.64      0.43      0.51       288\n",
            "\n",
            "    accuracy                           0.80      1153\n",
            "   macro avg       0.73      0.67      0.69      1153\n",
            "weighted avg       0.78      0.80      0.78      1153\n",
            "\n"
          ],
          "name": "stdout"
        }
      ]
    },
    {
      "cell_type": "markdown",
      "metadata": {
        "id": "-cPJh7invU2e",
        "colab_type": "text"
      },
      "source": [
        "**TASK-2 SCORES**"
      ]
    },
    {
      "cell_type": "code",
      "metadata": {
        "id": "FWgrhLtdGLsO",
        "colab_type": "code",
        "colab": {}
      },
      "source": [
        "df_2_text=df_2.append(df_2_test)\n",
        "df_2_text= df_2_text[df_2_text['text']!='']"
      ],
      "execution_count": null,
      "outputs": []
    },
    {
      "cell_type": "code",
      "metadata": {
        "id": "gxMGY0LEvccZ",
        "colab_type": "code",
        "colab": {}
      },
      "source": [
        "X_2 = vector.fit_transform(df_2_text.text.values.astype('U')).toarray()"
      ],
      "execution_count": null,
      "outputs": []
    },
    {
      "cell_type": "code",
      "metadata": {
        "id": "VPTTaIpxvmpD",
        "colab_type": "code",
        "colab": {
          "base_uri": "https://localhost:8080/",
          "height": 35
        },
        "outputId": "6f305e08-01c0-423c-b83a-016f9585bc38"
      },
      "source": [
        "len(df_2)"
      ],
      "execution_count": null,
      "outputs": [
        {
          "output_type": "execute_result",
          "data": {
            "text/plain": [
              "2261"
            ]
          },
          "metadata": {
            "tags": []
          },
          "execution_count": 86
        }
      ]
    },
    {
      "cell_type": "code",
      "metadata": {
        "id": "hvzn7DxbviZR",
        "colab_type": "code",
        "colab": {}
      },
      "source": [
        "x_2_train=X_2[:2261]\n",
        "x_2_test=X_2[2261:]\n",
        "y_2_train = np.array(df_2.class_.tolist())\n",
        "y_2_test = np.array(df_2_test.class_.tolist())"
      ],
      "execution_count": null,
      "outputs": []
    },
    {
      "cell_type": "code",
      "metadata": {
        "id": "0jqe5GGZvt2g",
        "colab_type": "code",
        "colab": {
          "base_uri": "https://localhost:8080/",
          "height": 197
        },
        "outputId": "2e572dfd-0f19-4f36-c4b3-4bff99f360a8"
      },
      "source": [
        "#Logistic Regression \n",
        "from sklearn.metrics import classification_report\n",
        "from sklearn.linear_model import LogisticRegression\n",
        "clf = LogisticRegression()\n",
        "clf.fit(x_2_train, y_2_train)\n",
        "predicted = clf.predict(x_2_test)\n",
        "print(classification_report(y_2_test , predicted , target_names = ['HATE' , 'PRFN' , 'OFFN']))"
      ],
      "execution_count": null,
      "outputs": [
        {
          "output_type": "stream",
          "text": [
            "              precision    recall  f1-score   support\n",
            "\n",
            "        HATE       0.55      0.93      0.69       124\n",
            "        PRFN       0.64      0.53      0.58        93\n",
            "        OFFN       0.00      0.00      0.00        71\n",
            "\n",
            "    accuracy                           0.57       288\n",
            "   macro avg       0.39      0.48      0.42       288\n",
            "weighted avg       0.44      0.57      0.48       288\n",
            "\n"
          ],
          "name": "stdout"
        }
      ]
    },
    {
      "cell_type": "markdown",
      "metadata": {
        "id": "8hUTThexwmJM",
        "colab_type": "text"
      },
      "source": [
        "**TASK-3 SCORES**"
      ]
    },
    {
      "cell_type": "code",
      "metadata": {
        "id": "0NUx3AMYv8eN",
        "colab_type": "code",
        "colab": {}
      },
      "source": [
        "df_3_text=df_3.append(df_3_test)\n",
        "df_3_text= df_3_text[df_3_text['text']!='']"
      ],
      "execution_count": null,
      "outputs": []
    },
    {
      "cell_type": "code",
      "metadata": {
        "id": "QBsS8MplwudY",
        "colab_type": "code",
        "colab": {}
      },
      "source": [
        "X_3 = vector.fit_transform(df_3_text.text.values.astype('U')).toarray()"
      ],
      "execution_count": null,
      "outputs": []
    },
    {
      "cell_type": "code",
      "metadata": {
        "id": "B6n_dDFZwyq9",
        "colab_type": "code",
        "colab": {
          "base_uri": "https://localhost:8080/",
          "height": 35
        },
        "outputId": "ec341c72-ceb1-4f4a-c64b-2f456f460061"
      },
      "source": [
        "len(df_3)"
      ],
      "execution_count": null,
      "outputs": [
        {
          "output_type": "execute_result",
          "data": {
            "text/plain": [
              "2261"
            ]
          },
          "metadata": {
            "tags": []
          },
          "execution_count": 93
        }
      ]
    },
    {
      "cell_type": "code",
      "metadata": {
        "id": "485Kioh5w1L9",
        "colab_type": "code",
        "colab": {}
      },
      "source": [
        "x_3_train=X_3[:2261]\n",
        "x_3_test=X_3[2261:]\n",
        "y_3_train = np.array(df_3.class_.tolist())\n",
        "y_3_test = np.array(df_3_test.class_.tolist())"
      ],
      "execution_count": null,
      "outputs": []
    },
    {
      "cell_type": "code",
      "metadata": {
        "id": "aCipz8gOw8yt",
        "colab_type": "code",
        "colab": {
          "base_uri": "https://localhost:8080/",
          "height": 235
        },
        "outputId": "ce44dd81-296f-445d-b608-409d1fb57822"
      },
      "source": [
        "#Logistic Regression \n",
        "from sklearn.metrics import classification_report\n",
        "from sklearn.linear_model import LogisticRegression\n",
        "clf = LogisticRegression()\n",
        "clf.fit(x_3_train, y_3_train)\n",
        "predicted = clf.predict(x_3_test)\n",
        "print(classification_report(y_3_test , predicted , target_names = ['TIN' , 'UNT']))"
      ],
      "execution_count": null,
      "outputs": [
        {
          "output_type": "stream",
          "text": [
            "              precision    recall  f1-score   support\n",
            "\n",
            "         TIN       0.85      1.00      0.92       245\n",
            "         UNT       0.00      0.00      0.00        43\n",
            "\n",
            "    accuracy                           0.85       288\n",
            "   macro avg       0.43      0.50      0.46       288\n",
            "weighted avg       0.72      0.85      0.78       288\n",
            "\n"
          ],
          "name": "stdout"
        },
        {
          "output_type": "stream",
          "text": [
            "/usr/local/lib/python3.6/dist-packages/sklearn/metrics/_classification.py:1272: UndefinedMetricWarning: Precision and F-score are ill-defined and being set to 0.0 in labels with no predicted samples. Use `zero_division` parameter to control this behavior.\n",
            "  _warn_prf(average, modifier, msg_start, len(result))\n"
          ],
          "name": "stderr"
        }
      ]
    }
  ]
}