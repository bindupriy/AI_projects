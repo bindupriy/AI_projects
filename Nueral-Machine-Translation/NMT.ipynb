{
  "nbformat": 4,
  "nbformat_minor": 0,
  "metadata": {
    "colab": {
      "name": "NMT.ipynb",
      "provenance": [],
      "collapsed_sections": []
    },
    "kernelspec": {
      "name": "python3",
      "display_name": "Python 3"
    },
    "accelerator": "GPU"
  },
  "cells": [
    {
      "cell_type": "code",
      "metadata": {
        "id": "Vb0cHPi_biCK",
        "colab_type": "code",
        "colab": {
          "base_uri": "https://localhost:8080/",
          "height": 34
        },
        "outputId": "16321e33-325b-42bf-dbe2-92dc446710c7"
      },
      "source": [
        "from __future__ import absolute_import, division, print_function\n",
        "\n",
        "# Import TensorFlow >= 1.9 and enable eager execution\n",
        "import tensorflow as tf\n",
        "\n",
        "import matplotlib.pyplot as plt\n",
        "from sklearn.model_selection import train_test_split\n",
        "\n",
        "import unicodedata\n",
        "import re\n",
        "import numpy as np\n",
        "import os\n",
        "import time\n",
        "\n",
        "print(tf.__version__)"
      ],
      "execution_count": null,
      "outputs": [
        {
          "output_type": "stream",
          "text": [
            "2.2.0\n"
          ],
          "name": "stdout"
        }
      ]
    },
    {
      "cell_type": "code",
      "metadata": {
        "id": "w1YTM4EIihT3",
        "colab_type": "code",
        "colab": {}
      },
      "source": [
        "import pandas as pd\n",
        "import numpy as np\n",
        "import string\n",
        "from string import digits\n",
        "import matplotlib.pyplot as plt\n",
        "%matplotlib inline\n",
        "import re\n",
        "from sklearn.utils import shuffle\n",
        "from sklearn.model_selection import train_test_split\n",
        "from tensorflow.keras.layers import Input, LSTM, Embedding, Dense\n",
        "from tensorflow.keras.models import Model"
      ],
      "execution_count": null,
      "outputs": []
    },
    {
      "cell_type": "code",
      "metadata": {
        "id": "cI3a2rKHZoZ-",
        "colab_type": "code",
        "colab": {
          "base_uri": "https://localhost:8080/",
          "height": 51
        },
        "outputId": "0946a292-09fb-4f99-8d51-893e1576771f"
      },
      "source": [
        "# Download the file\n",
        "path_to_zip = tf.keras.utils.get_file(\n",
        "    'spa-eng.zip', origin='http://download.tensorflow.org/data/spa-eng.zip', \n",
        "    extract=True)\n",
        "\n",
        "path_to_file = os.path.dirname(path_to_zip)+\"/spa-eng/spa.txt\""
      ],
      "execution_count": null,
      "outputs": [
        {
          "output_type": "stream",
          "text": [
            "Downloading data from http://download.tensorflow.org/data/spa-eng.zip\n",
            "2646016/2638744 [==============================] - 0s 0us/step\n"
          ],
          "name": "stdout"
        }
      ]
    },
    {
      "cell_type": "code",
      "metadata": {
        "id": "ASvCdOYdjHgk",
        "colab_type": "code",
        "colab": {}
      },
      "source": [
        "!mv {path_to_file} ./"
      ],
      "execution_count": null,
      "outputs": []
    },
    {
      "cell_type": "code",
      "metadata": {
        "id": "qX7d8e9WhFMt",
        "colab_type": "code",
        "colab": {}
      },
      "source": [
        "lines= pd.read_table('spa.txt', names=['eng', 'spa'])"
      ],
      "execution_count": null,
      "outputs": []
    },
    {
      "cell_type": "code",
      "metadata": {
        "id": "99eUCz8x7YyA",
        "colab_type": "code",
        "colab": {
          "base_uri": "https://localhost:8080/",
          "height": 34
        },
        "outputId": "b7d71e0e-6bcd-481c-bb56-76cac365d9b8"
      },
      "source": [
        "len(lines)"
      ],
      "execution_count": null,
      "outputs": [
        {
          "output_type": "execute_result",
          "data": {
            "text/plain": [
              "118964"
            ]
          },
          "metadata": {
            "tags": []
          },
          "execution_count": 6
        }
      ]
    },
    {
      "cell_type": "code",
      "metadata": {
        "id": "gwLx3wNS5G6V",
        "colab_type": "code",
        "colab": {}
      },
      "source": [
        "lines = lines[:30000]"
      ],
      "execution_count": null,
      "outputs": []
    },
    {
      "cell_type": "code",
      "metadata": {
        "id": "jY8trW6XjUAU",
        "colab_type": "code",
        "colab": {
          "base_uri": "https://localhost:8080/",
          "height": 204
        },
        "outputId": "6c2307fb-ec68-4f25-8a6f-bfed1c932897"
      },
      "source": [
        "lines.head()"
      ],
      "execution_count": null,
      "outputs": [
        {
          "output_type": "execute_result",
          "data": {
            "text/html": [
              "<div>\n",
              "<style scoped>\n",
              "    .dataframe tbody tr th:only-of-type {\n",
              "        vertical-align: middle;\n",
              "    }\n",
              "\n",
              "    .dataframe tbody tr th {\n",
              "        vertical-align: top;\n",
              "    }\n",
              "\n",
              "    .dataframe thead th {\n",
              "        text-align: right;\n",
              "    }\n",
              "</style>\n",
              "<table border=\"1\" class=\"dataframe\">\n",
              "  <thead>\n",
              "    <tr style=\"text-align: right;\">\n",
              "      <th></th>\n",
              "      <th>eng</th>\n",
              "      <th>spa</th>\n",
              "    </tr>\n",
              "  </thead>\n",
              "  <tbody>\n",
              "    <tr>\n",
              "      <th>0</th>\n",
              "      <td>Go.</td>\n",
              "      <td>Ve.</td>\n",
              "    </tr>\n",
              "    <tr>\n",
              "      <th>1</th>\n",
              "      <td>Go.</td>\n",
              "      <td>Vete.</td>\n",
              "    </tr>\n",
              "    <tr>\n",
              "      <th>2</th>\n",
              "      <td>Go.</td>\n",
              "      <td>Vaya.</td>\n",
              "    </tr>\n",
              "    <tr>\n",
              "      <th>3</th>\n",
              "      <td>Go.</td>\n",
              "      <td>Váyase.</td>\n",
              "    </tr>\n",
              "    <tr>\n",
              "      <th>4</th>\n",
              "      <td>Hi.</td>\n",
              "      <td>Hola.</td>\n",
              "    </tr>\n",
              "  </tbody>\n",
              "</table>\n",
              "</div>"
            ],
            "text/plain": [
              "   eng      spa\n",
              "0  Go.      Ve.\n",
              "1  Go.    Vete.\n",
              "2  Go.    Vaya.\n",
              "3  Go.  Váyase.\n",
              "4  Hi.    Hola."
            ]
          },
          "metadata": {
            "tags": []
          },
          "execution_count": 8
        }
      ]
    },
    {
      "cell_type": "code",
      "metadata": {
        "id": "rqcI40yejs4P",
        "colab_type": "code",
        "colab": {}
      },
      "source": [
        "# Remove all numbers from text\n",
        "remove_digits = str.maketrans('', '', digits)\n",
        "lines.eng=lines.eng.apply(lambda x: x.translate(remove_digits))\n",
        "lines.spa=lines.spa.apply(lambda x: x.translate(remove_digits))\n",
        "\n",
        "# Remove extra spaces\n",
        "lines.eng=lines.eng.apply(lambda x: x.strip())\n",
        "lines.spa=lines.spa.apply(lambda x: x.strip())\n",
        "lines.eng=lines.eng.apply(lambda x: re.sub(\" +\", \" \", x))\n",
        "lines.spa=lines.spa.apply(lambda x: re.sub(\" +\", \" \", x))"
      ],
      "execution_count": null,
      "outputs": []
    },
    {
      "cell_type": "code",
      "metadata": {
        "id": "is7TC15pjubz",
        "colab_type": "code",
        "colab": {}
      },
      "source": [
        "# Add start and end tokens to target sequences \n",
        "lines.spa = lines.spa.apply(lambda x : 'START_ '+ x + ' _END')"
      ],
      "execution_count": null,
      "outputs": []
    },
    {
      "cell_type": "code",
      "metadata": {
        "id": "qVGYtcYpkkuc",
        "colab_type": "code",
        "colab": {
          "base_uri": "https://localhost:8080/",
          "height": 204
        },
        "outputId": "6a8728c4-69c3-4055-e668-816430cc97d8"
      },
      "source": [
        "lines.head()"
      ],
      "execution_count": null,
      "outputs": [
        {
          "output_type": "execute_result",
          "data": {
            "text/html": [
              "<div>\n",
              "<style scoped>\n",
              "    .dataframe tbody tr th:only-of-type {\n",
              "        vertical-align: middle;\n",
              "    }\n",
              "\n",
              "    .dataframe tbody tr th {\n",
              "        vertical-align: top;\n",
              "    }\n",
              "\n",
              "    .dataframe thead th {\n",
              "        text-align: right;\n",
              "    }\n",
              "</style>\n",
              "<table border=\"1\" class=\"dataframe\">\n",
              "  <thead>\n",
              "    <tr style=\"text-align: right;\">\n",
              "      <th></th>\n",
              "      <th>eng</th>\n",
              "      <th>spa</th>\n",
              "    </tr>\n",
              "  </thead>\n",
              "  <tbody>\n",
              "    <tr>\n",
              "      <th>0</th>\n",
              "      <td>Go.</td>\n",
              "      <td>START_ Ve. _END</td>\n",
              "    </tr>\n",
              "    <tr>\n",
              "      <th>1</th>\n",
              "      <td>Go.</td>\n",
              "      <td>START_ Vete. _END</td>\n",
              "    </tr>\n",
              "    <tr>\n",
              "      <th>2</th>\n",
              "      <td>Go.</td>\n",
              "      <td>START_ Vaya. _END</td>\n",
              "    </tr>\n",
              "    <tr>\n",
              "      <th>3</th>\n",
              "      <td>Go.</td>\n",
              "      <td>START_ Váyase. _END</td>\n",
              "    </tr>\n",
              "    <tr>\n",
              "      <th>4</th>\n",
              "      <td>Hi.</td>\n",
              "      <td>START_ Hola. _END</td>\n",
              "    </tr>\n",
              "  </tbody>\n",
              "</table>\n",
              "</div>"
            ],
            "text/plain": [
              "   eng                  spa\n",
              "0  Go.      START_ Ve. _END\n",
              "1  Go.    START_ Vete. _END\n",
              "2  Go.    START_ Vaya. _END\n",
              "3  Go.  START_ Váyase. _END\n",
              "4  Hi.    START_ Hola. _END"
            ]
          },
          "metadata": {
            "tags": []
          },
          "execution_count": 11
        }
      ]
    },
    {
      "cell_type": "code",
      "metadata": {
        "id": "2A3-D3iKkmxN",
        "colab_type": "code",
        "colab": {}
      },
      "source": [
        "# Vocabulary of English\n",
        "all_eng_words=set()\n",
        "for eng in lines.eng:\n",
        "    for word in eng.split():\n",
        "        if word not in all_eng_words:\n",
        "            all_eng_words.add(word)\n",
        "\n",
        "# Vocabulary of Spanish\n",
        "all_spa_words=set()\n",
        "for spa in lines.spa:\n",
        "    for word in spa.split():\n",
        "        if word not in all_spa_words:\n",
        "            all_spa_words.add(word)"
      ],
      "execution_count": null,
      "outputs": []
    },
    {
      "cell_type": "code",
      "metadata": {
        "id": "S_cr-KVIk-Hk",
        "colab_type": "code",
        "colab": {
          "base_uri": "https://localhost:8080/",
          "height": 34
        },
        "outputId": "26072ae0-f431-4d2e-fd44-dac8e753269b"
      },
      "source": [
        "# Max Length of source sequence\n",
        "lenght_list=[]\n",
        "for l in lines.eng:\n",
        "    lenght_list.append(len(l.split(' ')))\n",
        "max_length_src = np.max(lenght_list)\n",
        "max_length_src"
      ],
      "execution_count": null,
      "outputs": [
        {
          "output_type": "execute_result",
          "data": {
            "text/plain": [
              "7"
            ]
          },
          "metadata": {
            "tags": []
          },
          "execution_count": 13
        }
      ]
    },
    {
      "cell_type": "code",
      "metadata": {
        "id": "Z8cQ46H3lJ5E",
        "colab_type": "code",
        "colab": {
          "base_uri": "https://localhost:8080/",
          "height": 34
        },
        "outputId": "cab8224a-0161-4501-b721-e71397904aa7"
      },
      "source": [
        "# Max Length of target sequence\n",
        "lenght_list=[]\n",
        "for l in lines.spa:\n",
        "    lenght_list.append(len(l.split(' ')))\n",
        "max_length_tar = np.max(lenght_list)\n",
        "max_length_tar\n"
      ],
      "execution_count": null,
      "outputs": [
        {
          "output_type": "execute_result",
          "data": {
            "text/plain": [
              "14"
            ]
          },
          "metadata": {
            "tags": []
          },
          "execution_count": 14
        }
      ]
    },
    {
      "cell_type": "code",
      "metadata": {
        "id": "KOZyvjMBlW1f",
        "colab_type": "code",
        "colab": {
          "base_uri": "https://localhost:8080/",
          "height": 34
        },
        "outputId": "3d5d6005-60b6-4c4a-99cc-35b3000efebb"
      },
      "source": [
        "input_words = sorted(list(all_eng_words))\n",
        "target_words = sorted(list(all_spa_words))\n",
        "num_encoder_tokens = len(all_eng_words)\n",
        "num_decoder_tokens = len(all_spa_words) + 1 # plus 1 is for padding\n",
        "num_encoder_tokens, num_decoder_tokens"
      ],
      "execution_count": null,
      "outputs": [
        {
          "output_type": "execute_result",
          "data": {
            "text/plain": [
              "(8142, 15077)"
            ]
          },
          "metadata": {
            "tags": []
          },
          "execution_count": 15
        }
      ]
    },
    {
      "cell_type": "code",
      "metadata": {
        "id": "wuvrzN-ql55i",
        "colab_type": "code",
        "colab": {}
      },
      "source": [
        "input_token_index = dict([(word, i+1) for i, word in enumerate(input_words)])\n",
        "target_token_index = dict([(word, i+1) for i, word in enumerate(target_words)])"
      ],
      "execution_count": null,
      "outputs": []
    },
    {
      "cell_type": "code",
      "metadata": {
        "id": "vVxuiMBUl_Yl",
        "colab_type": "code",
        "colab": {}
      },
      "source": [
        "reverse_input_char_index = dict((i, word) for word, i in input_token_index.items())\n",
        "reverse_target_char_index = dict((i, word) for word, i in target_token_index.items())"
      ],
      "execution_count": null,
      "outputs": []
    },
    {
      "cell_type": "code",
      "metadata": {
        "id": "165Sry8qmEel",
        "colab_type": "code",
        "colab": {
          "base_uri": "https://localhost:8080/",
          "height": 34
        },
        "outputId": "8cdf5d22-e21f-4a7b-8912-5e4888098346"
      },
      "source": [
        "# Train - Test Split\n",
        "X, y = lines.eng, lines.spa\n",
        "X_train, X_val, y_train, y_val = train_test_split(X, y, test_size = 0.1)\n",
        "X_val, X_test, y_val ,y_test = train_test_split(X_val, y_val, test_size = 0.5)\n",
        "X_train.shape, X_val.shape , X_test.shape ,y_train.shape , y_val.shape ,y_test.shape"
      ],
      "execution_count": null,
      "outputs": [
        {
          "output_type": "execute_result",
          "data": {
            "text/plain": [
              "((27000,), (1500,), (1500,), (27000,), (1500,), (1500,))"
            ]
          },
          "metadata": {
            "tags": []
          },
          "execution_count": 18
        }
      ]
    },
    {
      "cell_type": "code",
      "metadata": {
        "id": "l0LhbTO5t4gw",
        "colab_type": "code",
        "colab": {
          "base_uri": "https://localhost:8080/",
          "height": 51
        },
        "outputId": "8fcfba9b-a7ee-4051-f364-55f66e75986b"
      },
      "source": [
        "X_train[1:2]"
      ],
      "execution_count": null,
      "outputs": [
        {
          "output_type": "execute_result",
          "data": {
            "text/plain": [
              "17989    Tom almost drowned.\n",
              "Name: eng, dtype: object"
            ]
          },
          "metadata": {
            "tags": []
          },
          "execution_count": 19
        }
      ]
    },
    {
      "cell_type": "code",
      "metadata": {
        "id": "COq_JMB5wFmo",
        "colab_type": "code",
        "colab": {}
      },
      "source": [
        "def generate_batch(X = X_train, y = y_train, batch_size = 512):\n",
        "    while True:\n",
        "        for j in range(0, len(X), batch_size):\n",
        "            encoder_input_data = np.zeros((batch_size, max_length_src),dtype='float32')\n",
        "            decoder_input_data = np.zeros((batch_size, max_length_tar),dtype='float32')\n",
        "            decoder_target_data = np.zeros((batch_size, max_length_tar, num_decoder_tokens),dtype='float32')\n",
        "            for i, (input_text, target_text) in enumerate(zip(X[j:j+batch_size], y[j:j+batch_size])):\n",
        "                for t, word in enumerate(input_text.split()):\n",
        "                    encoder_input_data[i, t] = input_token_index[word]\n",
        "                for t, word in enumerate(target_text.split()):\n",
        "                    decoder_input_data[i, t] = target_token_index[word]\n",
        "                    if t>0:\n",
        "                        decoder_target_data[i, t - 1, target_token_index[word]] = 1.\n",
        "            yield ([encoder_input_data, decoder_input_data], decoder_target_data)"
      ],
      "execution_count": null,
      "outputs": []
    },
    {
      "cell_type": "code",
      "metadata": {
        "id": "OfOedx5hlGTp",
        "colab_type": "code",
        "colab": {}
      },
      "source": [
        ""
      ],
      "execution_count": null,
      "outputs": []
    },
    {
      "cell_type": "code",
      "metadata": {
        "id": "HqQgmRIPmjZ2",
        "colab_type": "code",
        "colab": {}
      },
      "source": [
        "latent_dim = 128\n",
        "# Encoder\n",
        "encoder_inputs = Input(shape=(None,))\n",
        "enc_emb =  Embedding(num_encoder_tokens+1, latent_dim, mask_zero = False,name=\"state\",input_length=1)(encoder_inputs)\n",
        "encoder_lstm = tf.keras.layers.LSTM(latent_dim, return_state=True)\n",
        "encoder_outputs, state_h, state_c = encoder_lstm(enc_emb)\n",
        "encoder_states = [state_h, state_c]\n"
      ],
      "execution_count": null,
      "outputs": []
    },
    {
      "cell_type": "code",
      "metadata": {
        "id": "LleG1jiCrdvA",
        "colab_type": "code",
        "colab": {}
      },
      "source": [
        "# decoder\n",
        "decoder_inputs = Input(shape=(None,))\n",
        "dec_emb_layer = Embedding(num_decoder_tokens+1, latent_dim, mask_zero = False,name=\"dstate\",input_length=1)\n",
        "dec_emb = dec_emb_layer(decoder_inputs)\n",
        "decoder_lstm = tf.keras.layers.LSTM(latent_dim, return_sequences=True, return_state=True)\n",
        "decoder_outputs, _, _ = decoder_lstm(dec_emb,initial_state=encoder_states)\n",
        "decoder_dense = Dense(num_decoder_tokens, activation='softmax')\n",
        "decoder_outputs = decoder_dense(decoder_outputs)\n"
      ],
      "execution_count": null,
      "outputs": []
    },
    {
      "cell_type": "code",
      "metadata": {
        "id": "a2Lv_62yxS5e",
        "colab_type": "code",
        "colab": {}
      },
      "source": [
        "model = Model([encoder_inputs, decoder_inputs], decoder_outputs)\n",
        "model.compile(optimizer='adam', loss='categorical_crossentropy', metrics=['acc'])"
      ],
      "execution_count": null,
      "outputs": []
    },
    {
      "cell_type": "code",
      "metadata": {
        "id": "ryU3czczxiuM",
        "colab_type": "code",
        "colab": {}
      },
      "source": [
        "train_samples = len(X_train)\n",
        "val_samples = len(X_test)\n",
        "batch_size = 128\n",
        "epochs = 50"
      ],
      "execution_count": null,
      "outputs": []
    },
    {
      "cell_type": "code",
      "metadata": {
        "id": "4cTZfH70Br_c",
        "colab_type": "code",
        "colab": {
          "base_uri": "https://localhost:8080/",
          "height": 425
        },
        "outputId": "952eeced-687d-4a10-cd2a-9291c9261802"
      },
      "source": [
        "model.summary()"
      ],
      "execution_count": null,
      "outputs": [
        {
          "output_type": "stream",
          "text": [
            "Model: \"model\"\n",
            "__________________________________________________________________________________________________\n",
            "Layer (type)                    Output Shape         Param #     Connected to                     \n",
            "==================================================================================================\n",
            "input_1 (InputLayer)            [(None, None)]       0                                            \n",
            "__________________________________________________________________________________________________\n",
            "input_2 (InputLayer)            [(None, None)]       0                                            \n",
            "__________________________________________________________________________________________________\n",
            "state (Embedding)               (None, None, 128)    1042304     input_1[0][0]                    \n",
            "__________________________________________________________________________________________________\n",
            "dstate (Embedding)              (None, None, 128)    1929984     input_2[0][0]                    \n",
            "__________________________________________________________________________________________________\n",
            "lstm (LSTM)                     [(None, 128), (None, 131584      state[0][0]                      \n",
            "__________________________________________________________________________________________________\n",
            "lstm_1 (LSTM)                   [(None, None, 128),  131584      dstate[0][0]                     \n",
            "                                                                 lstm[0][1]                       \n",
            "                                                                 lstm[0][2]                       \n",
            "__________________________________________________________________________________________________\n",
            "dense (Dense)                   (None, None, 15077)  1944933     lstm_1[0][0]                     \n",
            "==================================================================================================\n",
            "Total params: 5,180,389\n",
            "Trainable params: 5,180,389\n",
            "Non-trainable params: 0\n",
            "__________________________________________________________________________________________________\n"
          ],
          "name": "stdout"
        }
      ]
    },
    {
      "cell_type": "code",
      "metadata": {
        "id": "JN-9jr1Gxnk0",
        "colab_type": "code",
        "colab": {
          "base_uri": "https://localhost:8080/",
          "height": 1000
        },
        "outputId": "4e8744c7-0b15-4cbf-a7a9-7c2cfe7451e4"
      },
      "source": [
        "history = model.fit_generator(generator = generate_batch(X_train, y_train, batch_size = batch_size),\n",
        "                    steps_per_epoch = train_samples//batch_size,\n",
        "                    epochs=epochs,\n",
        "                    validation_data = generate_batch(X_val, y_val, batch_size = batch_size),\n",
        "                    validation_steps = int(val_samples//batch_size)\n",
        "                   )"
      ],
      "execution_count": null,
      "outputs": [
        {
          "output_type": "stream",
          "text": [
            "WARNING:tensorflow:From <ipython-input-26-57c8da9050ee>:5: Model.fit_generator (from tensorflow.python.keras.engine.training) is deprecated and will be removed in a future version.\n",
            "Instructions for updating:\n",
            "Please use Model.fit, which supports generators.\n",
            "Epoch 1/50\n",
            "210/210 [==============================] - 33s 157ms/step - loss: 2.1513 - acc: 0.0736 - val_loss: 1.9024 - val_acc: 0.0790\n",
            "Epoch 2/50\n",
            "210/210 [==============================] - 32s 152ms/step - loss: 1.7843 - acc: 0.0830 - val_loss: 1.7672 - val_acc: 0.0864\n",
            "Epoch 3/50\n",
            "210/210 [==============================] - 32s 154ms/step - loss: 1.6426 - acc: 0.0913 - val_loss: 1.6668 - val_acc: 0.0994\n",
            "Epoch 4/50\n",
            "210/210 [==============================] - 32s 154ms/step - loss: 1.5364 - acc: 0.1025 - val_loss: 1.6064 - val_acc: 0.1053\n",
            "Epoch 5/50\n",
            "210/210 [==============================] - 32s 154ms/step - loss: 1.4514 - acc: 0.1100 - val_loss: 1.5517 - val_acc: 0.1100\n",
            "Epoch 6/50\n",
            "210/210 [==============================] - 32s 155ms/step - loss: 1.3693 - acc: 0.1188 - val_loss: 1.4979 - val_acc: 0.1173\n",
            "Epoch 7/50\n",
            "210/210 [==============================] - 32s 154ms/step - loss: 1.2890 - acc: 0.1279 - val_loss: 1.4481 - val_acc: 0.1237\n",
            "Epoch 8/50\n",
            "210/210 [==============================] - 32s 154ms/step - loss: 1.2165 - acc: 0.1348 - val_loss: 1.4078 - val_acc: 0.1282\n",
            "Epoch 9/50\n",
            "210/210 [==============================] - 33s 155ms/step - loss: 1.1504 - acc: 0.1413 - val_loss: 1.3733 - val_acc: 0.1328\n",
            "Epoch 10/50\n",
            "210/210 [==============================] - 33s 155ms/step - loss: 1.0903 - acc: 0.1470 - val_loss: 1.3470 - val_acc: 0.1364\n",
            "Epoch 11/50\n",
            "210/210 [==============================] - 32s 154ms/step - loss: 1.0358 - acc: 0.1523 - val_loss: 1.3203 - val_acc: 0.1396\n",
            "Epoch 12/50\n",
            "210/210 [==============================] - 33s 155ms/step - loss: 0.9835 - acc: 0.1580 - val_loss: 1.2993 - val_acc: 0.1419\n",
            "Epoch 13/50\n",
            "210/210 [==============================] - 32s 153ms/step - loss: 0.9324 - acc: 0.1636 - val_loss: 1.2782 - val_acc: 0.1446\n",
            "Epoch 14/50\n",
            "210/210 [==============================] - 32s 152ms/step - loss: 0.8838 - acc: 0.1688 - val_loss: 1.2585 - val_acc: 0.1468\n",
            "Epoch 15/50\n",
            "210/210 [==============================] - 32s 152ms/step - loss: 0.8376 - acc: 0.1740 - val_loss: 1.2442 - val_acc: 0.1485\n",
            "Epoch 16/50\n",
            "210/210 [==============================] - 32s 151ms/step - loss: 0.7943 - acc: 0.1791 - val_loss: 1.2340 - val_acc: 0.1494\n",
            "Epoch 17/50\n",
            "210/210 [==============================] - 32s 151ms/step - loss: 0.7542 - acc: 0.1838 - val_loss: 1.2224 - val_acc: 0.1511\n",
            "Epoch 18/50\n",
            "210/210 [==============================] - 32s 153ms/step - loss: 0.7157 - acc: 0.1887 - val_loss: 1.2111 - val_acc: 0.1524\n",
            "Epoch 19/50\n",
            "210/210 [==============================] - 32s 151ms/step - loss: 0.6797 - acc: 0.1932 - val_loss: 1.2037 - val_acc: 0.1540\n",
            "Epoch 20/50\n",
            "210/210 [==============================] - 32s 150ms/step - loss: 0.6472 - acc: 0.1978 - val_loss: 1.1982 - val_acc: 0.1542\n",
            "Epoch 21/50\n",
            "210/210 [==============================] - 32s 154ms/step - loss: 0.6142 - acc: 0.2025 - val_loss: 1.1964 - val_acc: 0.1558\n",
            "Epoch 22/50\n",
            "210/210 [==============================] - 32s 151ms/step - loss: 0.5815 - acc: 0.2073 - val_loss: 1.1852 - val_acc: 0.1573\n",
            "Epoch 23/50\n",
            "210/210 [==============================] - 31s 150ms/step - loss: 0.5502 - acc: 0.2124 - val_loss: 1.1790 - val_acc: 0.1595\n",
            "Epoch 24/50\n",
            "210/210 [==============================] - 31s 149ms/step - loss: 0.5206 - acc: 0.2174 - val_loss: 1.1768 - val_acc: 0.1609\n",
            "Epoch 25/50\n",
            "210/210 [==============================] - 31s 149ms/step - loss: 0.4932 - acc: 0.2227 - val_loss: 1.1748 - val_acc: 0.1604\n",
            "Epoch 26/50\n",
            "210/210 [==============================] - 32s 150ms/step - loss: 0.4670 - acc: 0.2279 - val_loss: 1.1744 - val_acc: 0.1604\n",
            "Epoch 27/50\n",
            "210/210 [==============================] - 32s 153ms/step - loss: 0.4433 - acc: 0.2322 - val_loss: 1.1763 - val_acc: 0.1611\n",
            "Epoch 28/50\n",
            "210/210 [==============================] - 32s 152ms/step - loss: 0.4191 - acc: 0.2372 - val_loss: 1.1798 - val_acc: 0.1613\n",
            "Epoch 29/50\n",
            "210/210 [==============================] - 32s 154ms/step - loss: 0.3968 - acc: 0.2419 - val_loss: 1.1755 - val_acc: 0.1628\n",
            "Epoch 30/50\n",
            "210/210 [==============================] - 32s 153ms/step - loss: 0.3756 - acc: 0.2463 - val_loss: 1.1752 - val_acc: 0.1629\n",
            "Epoch 31/50\n",
            "210/210 [==============================] - 32s 154ms/step - loss: 0.3554 - acc: 0.2504 - val_loss: 1.1735 - val_acc: 0.1640\n",
            "Epoch 32/50\n",
            "210/210 [==============================] - 32s 154ms/step - loss: 0.3368 - acc: 0.2545 - val_loss: 1.1767 - val_acc: 0.1632\n",
            "Epoch 33/50\n",
            "210/210 [==============================] - 32s 154ms/step - loss: 0.3186 - acc: 0.2587 - val_loss: 1.1815 - val_acc: 0.1641\n",
            "Epoch 34/50\n",
            "210/210 [==============================] - 32s 152ms/step - loss: 0.3022 - acc: 0.2621 - val_loss: 1.1847 - val_acc: 0.1639\n",
            "Epoch 35/50\n",
            "210/210 [==============================] - 32s 153ms/step - loss: 0.2866 - acc: 0.2654 - val_loss: 1.1859 - val_acc: 0.1633\n",
            "Epoch 36/50\n",
            "210/210 [==============================] - 32s 152ms/step - loss: 0.2719 - acc: 0.2690 - val_loss: 1.1906 - val_acc: 0.1643\n",
            "Epoch 37/50\n",
            "210/210 [==============================] - 32s 152ms/step - loss: 0.2581 - acc: 0.2720 - val_loss: 1.1946 - val_acc: 0.1655\n",
            "Epoch 38/50\n",
            "210/210 [==============================] - 32s 153ms/step - loss: 0.2457 - acc: 0.2747 - val_loss: 1.1962 - val_acc: 0.1652\n",
            "Epoch 39/50\n",
            "210/210 [==============================] - 32s 152ms/step - loss: 0.2334 - acc: 0.2774 - val_loss: 1.1987 - val_acc: 0.1662\n",
            "Epoch 40/50\n",
            "210/210 [==============================] - 32s 154ms/step - loss: 0.2214 - acc: 0.2798 - val_loss: 1.2032 - val_acc: 0.1656\n",
            "Epoch 41/50\n",
            "210/210 [==============================] - 32s 151ms/step - loss: 0.2103 - acc: 0.2823 - val_loss: 1.2061 - val_acc: 0.1652\n",
            "Epoch 42/50\n",
            "210/210 [==============================] - 32s 153ms/step - loss: 0.2003 - acc: 0.2847 - val_loss: 1.2111 - val_acc: 0.1655\n",
            "Epoch 43/50\n",
            "210/210 [==============================] - 32s 152ms/step - loss: 0.1912 - acc: 0.2865 - val_loss: 1.2173 - val_acc: 0.1655\n",
            "Epoch 44/50\n",
            "210/210 [==============================] - 32s 153ms/step - loss: 0.1820 - acc: 0.2886 - val_loss: 1.2227 - val_acc: 0.1661\n",
            "Epoch 45/50\n",
            "210/210 [==============================] - 32s 152ms/step - loss: 0.1732 - acc: 0.2902 - val_loss: 1.2225 - val_acc: 0.1669\n",
            "Epoch 46/50\n",
            "210/210 [==============================] - 32s 153ms/step - loss: 0.1650 - acc: 0.2920 - val_loss: 1.2249 - val_acc: 0.1665\n",
            "Epoch 47/50\n",
            "210/210 [==============================] - 32s 155ms/step - loss: 0.1570 - acc: 0.2932 - val_loss: 1.2275 - val_acc: 0.1667\n",
            "Epoch 48/50\n",
            "210/210 [==============================] - 32s 154ms/step - loss: 0.1495 - acc: 0.2952 - val_loss: 1.2320 - val_acc: 0.1675\n",
            "Epoch 49/50\n",
            "210/210 [==============================] - 32s 154ms/step - loss: 0.1421 - acc: 0.2967 - val_loss: 1.2383 - val_acc: 0.1676\n",
            "Epoch 50/50\n",
            "210/210 [==============================] - 32s 152ms/step - loss: 0.1357 - acc: 0.2979 - val_loss: 1.2442 - val_acc: 0.1679\n"
          ],
          "name": "stdout"
        }
      ]
    },
    {
      "cell_type": "code",
      "metadata": {
        "id": "7KtDdQREbjc6",
        "colab_type": "code",
        "colab": {
          "base_uri": "https://localhost:8080/",
          "height": 34
        },
        "outputId": "2977dd99-60c9-47df-f310-9a08d0c471ea"
      },
      "source": [
        "# serialize model to JSON\n",
        "model_json = model.to_json()\n",
        "with open(\"model.json\", \"w\") as json_file:\n",
        "    json_file.write(model_json)\n",
        "# serialize weights to HDF5\n",
        "model.save_weights(\"model.h5\")\n",
        "print(\"Saved model to disk\")"
      ],
      "execution_count": null,
      "outputs": [
        {
          "output_type": "stream",
          "text": [
            "Saved model to disk\n"
          ],
          "name": "stdout"
        }
      ]
    },
    {
      "cell_type": "code",
      "metadata": {
        "id": "8Zwmw8r2xt2Z",
        "colab_type": "code",
        "colab": {
          "base_uri": "https://localhost:8080/",
          "height": 590
        },
        "outputId": "bc31ef33-abf9-4aae-b48e-617b7b8aa7c6"
      },
      "source": [
        "import matplotlib.pyplot as plt\n",
        "%matplotlib inline \n",
        "# list all data in history1\n",
        "print(history.history.keys())\n",
        "# summarize history1 for accuracy\n",
        "plt.plot(history.history['acc'])\n",
        "plt.plot(history.history['val_acc'])\n",
        "plt.title('model accuracy')\n",
        "plt.ylabel('accuracy')\n",
        "plt.xlabel('epoch')\n",
        "plt.legend(['train', 'test'], loc='upper left')\n",
        "plt.show()\n",
        "# summarize history1 for loss\n",
        "plt.plot(history.history['loss'])\n",
        "plt.plot(history.history['val_loss'])\n",
        "plt.title('model loss')\n",
        "plt.ylabel('loss')\n",
        "plt.xlabel('epoch')\n",
        "plt.legend(['train', 'test'], loc='upper left')\n",
        "plt.show()\n",
        "#from below plot we can see that from no of epochs greater than 20 there is no much change in loss of test data so i took no of epochs as 20"
      ],
      "execution_count": null,
      "outputs": [
        {
          "output_type": "stream",
          "text": [
            "dict_keys(['loss', 'acc', 'val_loss', 'val_acc'])\n"
          ],
          "name": "stdout"
        },
        {
          "output_type": "display_data",
          "data": {
            "image/png": "[encoded data removed]",
            "text/plain": [
              "<Figure size 432x288 with 1 Axes>"
            ]
          },
          "metadata": {
            "tags": [],
            "needs_background": "light"
          }
        },
        {
          "output_type": "display_data",
          "data": {
            "image/png": "[encoded data removed]",
            "text/plain": [
              "<Figure size 432x288 with 1 Axes>"
            ]
          },
          "metadata": {
            "tags": [],
            "needs_background": "light"
          }
        }
      ]
    },
    {
      "cell_type": "code",
      "metadata": {
        "id": "rpLArut-6AYc",
        "colab_type": "code",
        "colab": {}
      },
      "source": [
        "encoder_model = Model(encoder_inputs, encoder_states)\n",
        "\n",
        "decoder_state_input_h = Input(shape=(latent_dim,))\n",
        "decoder_state_input_c = Input(shape=(latent_dim,))\n",
        "decoder_states_inputs = [decoder_state_input_h, decoder_state_input_c]\n",
        "\n",
        "dec_emb2= dec_emb_layer(decoder_inputs)\n",
        "decoder_outputs2, state_h2, state_c2 = decoder_lstm(dec_emb2, initial_state=decoder_states_inputs)\n",
        "decoder_states2 = [state_h2, state_c2]\n",
        "decoder_outputs2 = decoder_dense(decoder_outputs2)\n",
        "\n",
        "decoder_model = Model(\n",
        "    [decoder_inputs] + decoder_states_inputs,\n",
        "    [decoder_outputs2] + decoder_states2)"
      ],
      "execution_count": null,
      "outputs": []
    },
    {
      "cell_type": "code",
      "metadata": {
        "id": "mdgxB2aNIbiS",
        "colab_type": "code",
        "colab": {}
      },
      "source": [
        "def decode_sequence(input_seq):\n",
        "    states_value = encoder_model.predict(input_seq)\n",
        "    target_seq = np.zeros((1,1))\n",
        "    target_seq[0, 0] = target_token_index['START_']\n",
        "    stop_condition = False\n",
        "    decoded_sentence = ''\n",
        "    while not stop_condition:\n",
        "        output_tokens, h, c = decoder_model.predict([target_seq] + states_value)\n",
        "\n",
        "        sampled_token_index = np.argmax(output_tokens[0, -1, :])\n",
        "        sampled_char = reverse_target_char_index[sampled_token_index]\n",
        "        decoded_sentence += ' '+sampled_char\n",
        "        if (sampled_char == '_END' or\n",
        "           len(decoded_sentence) > 50):\n",
        "            stop_condition = True\n",
        "        target_seq = np.zeros((1,1))\n",
        "        target_seq[0, 0] = sampled_token_index\n",
        "\n",
        "        states_value = [h, c]\n",
        "\n",
        "    return decoded_sentence"
      ],
      "execution_count": null,
      "outputs": []
    },
    {
      "cell_type": "code",
      "metadata": {
        "id": "TJiwt_yZy7tm",
        "colab_type": "code",
        "colab": {}
      },
      "source": [
        "test_gen = generate_batch(X_test, y_test, batch_size = 1)\n",
        "k=-1"
      ],
      "execution_count": null,
      "outputs": []
    },
    {
      "cell_type": "code",
      "metadata": {
        "id": "IUi5GFKFzBm1",
        "colab_type": "code",
        "colab": {}
      },
      "source": [
        "k+=1\n",
        "(input_seq, actual_output), pi = next(test_gen)"
      ],
      "execution_count": null,
      "outputs": []
    },
    {
      "cell_type": "code",
      "metadata": {
        "id": "V7xesfEGlPBr",
        "colab_type": "code",
        "colab": {
          "base_uri": "https://localhost:8080/",
          "height": 34
        },
        "outputId": "448cf958-68c1-4bef-8133-199b1dd9d0ab"
      },
      "source": [
        "input_seq"
      ],
      "execution_count": null,
      "outputs": [
        {
          "output_type": "execute_result",
          "data": {
            "text/plain": [
              "array([[ 385., 8133., 5631.,    0.,    0.,    0.,    0.]], dtype=float32)"
            ]
          },
          "metadata": {
            "tags": []
          },
          "execution_count": 43
        }
      ]
    },
    {
      "cell_type": "code",
      "metadata": {
        "id": "JNV-F5fKlRfx",
        "colab_type": "code",
        "colab": {
          "base_uri": "https://localhost:8080/",
          "height": 51
        },
        "outputId": "f4892abe-498e-4e7b-b72c-a93856907ae9"
      },
      "source": [
        "actual_output"
      ],
      "execution_count": null,
      "outputs": [
        {
          "output_type": "execute_result",
          "data": {
            "text/plain": [
              "array([[ 2014.,  2195., 13798., 11364.,  7506.,  2511.,     0.,     0.,\n",
              "            0.,     0.,     0.,     0.,     0.,     0.]], dtype=float32)"
            ]
          },
          "metadata": {
            "tags": []
          },
          "execution_count": 44
        }
      ]
    },
    {
      "cell_type": "code",
      "metadata": {
        "id": "NZbedTF-lRit",
        "colab_type": "code",
        "colab": {
          "base_uri": "https://localhost:8080/",
          "height": 34
        },
        "outputId": "03525c02-9570-4fd0-f287-2229cd873eb5"
      },
      "source": [
        "pi.shape"
      ],
      "execution_count": null,
      "outputs": [
        {
          "output_type": "execute_result",
          "data": {
            "text/plain": [
              "(1, 14, 15077)"
            ]
          },
          "metadata": {
            "tags": []
          },
          "execution_count": 47
        }
      ]
    },
    {
      "cell_type": "code",
      "metadata": {
        "id": "fpeeFhyL6PON",
        "colab_type": "code",
        "colab": {}
      },
      "source": [
        "k+=1\n",
        "(input_seq, actual_output), _ = next(test_gen)\n",
        "decoded_sentence = decode_sequence(input_seq)\n",
        "print('Input English sentence:', X_train[k:k+1].values[0])\n",
        "print('Actual spa Translation:', y_train[k:k+1].values[0][6:-4])\n",
        "print('Predicted spa Translation:', decoded_sentence[:-4])"
      ],
      "execution_count": null,
      "outputs": []
    }
  ]
}